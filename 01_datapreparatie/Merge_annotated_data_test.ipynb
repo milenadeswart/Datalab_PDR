{
 "cells": [
  {
   "cell_type": "code",
   "execution_count": null,
   "metadata": {},
   "outputs": [],
   "source": [
    "### Deze code bevat de functie merge_annotated_data, die gelabelde data samenvoegt naar één uiteindelijke dataset.\n",
    "### De output van deze code is een DataFrame met de uiteindelijke dataset.\n",
    "### This code contains the function merge_annotated_data, which merges annotated documents from the annotators back into one final dataset. \n",
    "### The output of this code is a DataFrame with the final dataset."
   ]
  },
  {
   "cell_type": "code",
   "execution_count": 3,
   "metadata": {},
   "outputs": [],
   "source": [
    "# inladen benodigde packages\n",
    "# load necessary packages\n",
    "import pandas as pd\n",
    "import numpy as np"
   ]
  },
  {
   "cell_type": "code",
   "execution_count": 5,
   "metadata": {},
   "outputs": [
    {
     "ename": "KeyError",
     "evalue": "\"Column(s) ['document', 'score'] do not exist\"",
     "output_type": "error",
     "traceback": [
      "\u001b[0;31m---------------------------------------------------------------------------\u001b[0m",
      "\u001b[0;31mKeyError\u001b[0m                                  Traceback (most recent call last)",
      "Cell \u001b[0;32mIn[5], line 48\u001b[0m\n\u001b[1;32m     44\u001b[0m     merged_data \u001b[38;5;241m=\u001b[39m merged_data\u001b[38;5;241m.\u001b[39msort_values(by \u001b[38;5;241m=\u001b[39m [\u001b[38;5;124m'\u001b[39m\u001b[38;5;124mUnnamed: 0\u001b[39m\u001b[38;5;124m'\u001b[39m])\n\u001b[1;32m     46\u001b[0m     \u001b[38;5;28;01mreturn\u001b[39;00m pd\u001b[38;5;241m.\u001b[39mDataFrame(merged_data)\n\u001b[0;32m---> 48\u001b[0m merged \u001b[38;5;241m=\u001b[39m merge_annotated_data(\u001b[38;5;124m'\u001b[39m\u001b[38;5;124mte_labellen\u001b[39m\u001b[38;5;124m'\u001b[39m, n_annotators \u001b[38;5;241m=\u001b[39m \u001b[38;5;241m5\u001b[39m, n_annotations \u001b[38;5;241m=\u001b[39m \u001b[38;5;241m3\u001b[39m)\n\u001b[1;32m     49\u001b[0m display(merged)\n",
      "Cell \u001b[0;32mIn[5], line 43\u001b[0m, in \u001b[0;36mmerge_annotated_data\u001b[0;34m(naam_dataset, n_annotators, n_annotations)\u001b[0m\n\u001b[1;32m     40\u001b[0m     \u001b[38;5;28;01melse\u001b[39;00m:\n\u001b[1;32m     41\u001b[0m         merged_data \u001b[38;5;241m=\u001b[39m pd\u001b[38;5;241m.\u001b[39mconcat([merged_data, annotated_doc])\n\u001b[0;32m---> 43\u001b[0m merged_data \u001b[38;5;241m=\u001b[39m merged_data\u001b[38;5;241m.\u001b[39mgroupby([\u001b[38;5;124m'\u001b[39m\u001b[38;5;124mUnnamed: 0\u001b[39m\u001b[38;5;124m'\u001b[39m])\u001b[38;5;241m.\u001b[39magg({\u001b[38;5;124m'\u001b[39m\u001b[38;5;124mid\u001b[39m\u001b[38;5;124m'\u001b[39m: \u001b[38;5;124m'\u001b[39m\u001b[38;5;124mlast\u001b[39m\u001b[38;5;124m'\u001b[39m, \u001b[38;5;124m'\u001b[39m\u001b[38;5;124mdocument\u001b[39m\u001b[38;5;124m'\u001b[39m: \u001b[38;5;124m'\u001b[39m\u001b[38;5;124mlast\u001b[39m\u001b[38;5;124m'\u001b[39m, \u001b[38;5;124m'\u001b[39m\u001b[38;5;124mtext\u001b[39m\u001b[38;5;124m'\u001b[39m: \u001b[38;5;124m'\u001b[39m\u001b[38;5;124mlast\u001b[39m\u001b[38;5;124m'\u001b[39m, \u001b[38;5;124m'\u001b[39m\u001b[38;5;124mzin\u001b[39m\u001b[38;5;124m'\u001b[39m: \u001b[38;5;124m'\u001b[39m\u001b[38;5;124mlast\u001b[39m\u001b[38;5;124m'\u001b[39m, \u001b[38;5;124m'\u001b[39m\u001b[38;5;124mscore\u001b[39m\u001b[38;5;124m'\u001b[39m: \u001b[38;5;124m'\u001b[39m\u001b[38;5;124mmean\u001b[39m\u001b[38;5;124m'\u001b[39m})\n\u001b[1;32m     44\u001b[0m merged_data \u001b[38;5;241m=\u001b[39m merged_data\u001b[38;5;241m.\u001b[39msort_values(by \u001b[38;5;241m=\u001b[39m [\u001b[38;5;124m'\u001b[39m\u001b[38;5;124mUnnamed: 0\u001b[39m\u001b[38;5;124m'\u001b[39m])\n\u001b[1;32m     46\u001b[0m \u001b[38;5;28;01mreturn\u001b[39;00m pd\u001b[38;5;241m.\u001b[39mDataFrame(merged_data)\n",
      "File \u001b[0;32m/data/anaconda3/lib/python3.11/site-packages/pandas/core/groupby/generic.py:1445\u001b[0m, in \u001b[0;36mDataFrameGroupBy.aggregate\u001b[0;34m(self, func, engine, engine_kwargs, *args, **kwargs)\u001b[0m\n\u001b[1;32m   1442\u001b[0m     kwargs[\u001b[38;5;124m\"\u001b[39m\u001b[38;5;124mengine_kwargs\u001b[39m\u001b[38;5;124m\"\u001b[39m] \u001b[38;5;241m=\u001b[39m engine_kwargs\n\u001b[1;32m   1444\u001b[0m op \u001b[38;5;241m=\u001b[39m GroupByApply(\u001b[38;5;28mself\u001b[39m, func, args\u001b[38;5;241m=\u001b[39margs, kwargs\u001b[38;5;241m=\u001b[39mkwargs)\n\u001b[0;32m-> 1445\u001b[0m result \u001b[38;5;241m=\u001b[39m op\u001b[38;5;241m.\u001b[39magg()\n\u001b[1;32m   1446\u001b[0m \u001b[38;5;28;01mif\u001b[39;00m \u001b[38;5;129;01mnot\u001b[39;00m is_dict_like(func) \u001b[38;5;129;01mand\u001b[39;00m result \u001b[38;5;129;01mis\u001b[39;00m \u001b[38;5;129;01mnot\u001b[39;00m \u001b[38;5;28;01mNone\u001b[39;00m:\n\u001b[1;32m   1447\u001b[0m     \u001b[38;5;66;03m# GH #52849\u001b[39;00m\n\u001b[1;32m   1448\u001b[0m     \u001b[38;5;28;01mif\u001b[39;00m \u001b[38;5;129;01mnot\u001b[39;00m \u001b[38;5;28mself\u001b[39m\u001b[38;5;241m.\u001b[39mas_index \u001b[38;5;129;01mand\u001b[39;00m is_list_like(func):\n",
      "File \u001b[0;32m/data/anaconda3/lib/python3.11/site-packages/pandas/core/apply.py:175\u001b[0m, in \u001b[0;36mApply.agg\u001b[0;34m(self)\u001b[0m\n\u001b[1;32m    172\u001b[0m     \u001b[38;5;28;01mreturn\u001b[39;00m \u001b[38;5;28mself\u001b[39m\u001b[38;5;241m.\u001b[39mapply_str()\n\u001b[1;32m    174\u001b[0m \u001b[38;5;28;01mif\u001b[39;00m is_dict_like(func):\n\u001b[0;32m--> 175\u001b[0m     \u001b[38;5;28;01mreturn\u001b[39;00m \u001b[38;5;28mself\u001b[39m\u001b[38;5;241m.\u001b[39magg_dict_like()\n\u001b[1;32m    176\u001b[0m \u001b[38;5;28;01melif\u001b[39;00m is_list_like(func):\n\u001b[1;32m    177\u001b[0m     \u001b[38;5;66;03m# we require a list, but not a 'str'\u001b[39;00m\n\u001b[1;32m    178\u001b[0m     \u001b[38;5;28;01mreturn\u001b[39;00m \u001b[38;5;28mself\u001b[39m\u001b[38;5;241m.\u001b[39magg_list_like()\n",
      "File \u001b[0;32m/data/anaconda3/lib/python3.11/site-packages/pandas/core/apply.py:406\u001b[0m, in \u001b[0;36mApply.agg_dict_like\u001b[0;34m(self)\u001b[0m\n\u001b[1;32m    398\u001b[0m \u001b[38;5;28;01mdef\u001b[39;00m \u001b[38;5;21magg_dict_like\u001b[39m(\u001b[38;5;28mself\u001b[39m) \u001b[38;5;241m-\u001b[39m\u001b[38;5;241m>\u001b[39m DataFrame \u001b[38;5;241m|\u001b[39m Series:\n\u001b[1;32m    399\u001b[0m \u001b[38;5;250m    \u001b[39m\u001b[38;5;124;03m\"\"\"\u001b[39;00m\n\u001b[1;32m    400\u001b[0m \u001b[38;5;124;03m    Compute aggregation in the case of a dict-like argument.\u001b[39;00m\n\u001b[1;32m    401\u001b[0m \n\u001b[0;32m   (...)\u001b[0m\n\u001b[1;32m    404\u001b[0m \u001b[38;5;124;03m    Result of aggregation.\u001b[39;00m\n\u001b[1;32m    405\u001b[0m \u001b[38;5;124;03m    \"\"\"\u001b[39;00m\n\u001b[0;32m--> 406\u001b[0m     \u001b[38;5;28;01mreturn\u001b[39;00m \u001b[38;5;28mself\u001b[39m\u001b[38;5;241m.\u001b[39magg_or_apply_dict_like(op_name\u001b[38;5;241m=\u001b[39m\u001b[38;5;124m\"\u001b[39m\u001b[38;5;124magg\u001b[39m\u001b[38;5;124m\"\u001b[39m)\n",
      "File \u001b[0;32m/data/anaconda3/lib/python3.11/site-packages/pandas/core/apply.py:1390\u001b[0m, in \u001b[0;36mGroupByApply.agg_or_apply_dict_like\u001b[0;34m(self, op_name)\u001b[0m\n\u001b[1;32m   1385\u001b[0m     kwargs\u001b[38;5;241m.\u001b[39mupdate({\u001b[38;5;124m\"\u001b[39m\u001b[38;5;124mengine\u001b[39m\u001b[38;5;124m\"\u001b[39m: engine, \u001b[38;5;124m\"\u001b[39m\u001b[38;5;124mengine_kwargs\u001b[39m\u001b[38;5;124m\"\u001b[39m: engine_kwargs})\n\u001b[1;32m   1387\u001b[0m \u001b[38;5;28;01mwith\u001b[39;00m com\u001b[38;5;241m.\u001b[39mtemp_setattr(\n\u001b[1;32m   1388\u001b[0m     obj, \u001b[38;5;124m\"\u001b[39m\u001b[38;5;124mas_index\u001b[39m\u001b[38;5;124m\"\u001b[39m, \u001b[38;5;28;01mTrue\u001b[39;00m, condition\u001b[38;5;241m=\u001b[39m\u001b[38;5;28mhasattr\u001b[39m(obj, \u001b[38;5;124m\"\u001b[39m\u001b[38;5;124mas_index\u001b[39m\u001b[38;5;124m\"\u001b[39m)\n\u001b[1;32m   1389\u001b[0m ):\n\u001b[0;32m-> 1390\u001b[0m     result_index, result_data \u001b[38;5;241m=\u001b[39m \u001b[38;5;28mself\u001b[39m\u001b[38;5;241m.\u001b[39mcompute_dict_like(\n\u001b[1;32m   1391\u001b[0m         op_name, selected_obj, selection, kwargs\n\u001b[1;32m   1392\u001b[0m     )\n\u001b[1;32m   1393\u001b[0m result \u001b[38;5;241m=\u001b[39m \u001b[38;5;28mself\u001b[39m\u001b[38;5;241m.\u001b[39mwrap_results_dict_like(selected_obj, result_index, result_data)\n\u001b[1;32m   1394\u001b[0m \u001b[38;5;28;01mreturn\u001b[39;00m result\n",
      "File \u001b[0;32m/data/anaconda3/lib/python3.11/site-packages/pandas/core/apply.py:445\u001b[0m, in \u001b[0;36mApply.compute_dict_like\u001b[0;34m(self, op_name, selected_obj, selection, kwargs)\u001b[0m\n\u001b[1;32m    443\u001b[0m is_groupby \u001b[38;5;241m=\u001b[39m \u001b[38;5;28misinstance\u001b[39m(obj, (DataFrameGroupBy, SeriesGroupBy))\n\u001b[1;32m    444\u001b[0m func \u001b[38;5;241m=\u001b[39m cast(AggFuncTypeDict, \u001b[38;5;28mself\u001b[39m\u001b[38;5;241m.\u001b[39mfunc)\n\u001b[0;32m--> 445\u001b[0m func \u001b[38;5;241m=\u001b[39m \u001b[38;5;28mself\u001b[39m\u001b[38;5;241m.\u001b[39mnormalize_dictlike_arg(op_name, selected_obj, func)\n\u001b[1;32m    447\u001b[0m is_non_unique_col \u001b[38;5;241m=\u001b[39m (\n\u001b[1;32m    448\u001b[0m     selected_obj\u001b[38;5;241m.\u001b[39mndim \u001b[38;5;241m==\u001b[39m \u001b[38;5;241m2\u001b[39m\n\u001b[1;32m    449\u001b[0m     \u001b[38;5;129;01mand\u001b[39;00m selected_obj\u001b[38;5;241m.\u001b[39mcolumns\u001b[38;5;241m.\u001b[39mnunique() \u001b[38;5;241m<\u001b[39m \u001b[38;5;28mlen\u001b[39m(selected_obj\u001b[38;5;241m.\u001b[39mcolumns)\n\u001b[1;32m    450\u001b[0m )\n\u001b[1;32m    452\u001b[0m \u001b[38;5;28;01mif\u001b[39;00m selected_obj\u001b[38;5;241m.\u001b[39mndim \u001b[38;5;241m==\u001b[39m \u001b[38;5;241m1\u001b[39m:\n\u001b[1;32m    453\u001b[0m     \u001b[38;5;66;03m# key only used for output\u001b[39;00m\n",
      "File \u001b[0;32m/data/anaconda3/lib/python3.11/site-packages/pandas/core/apply.py:639\u001b[0m, in \u001b[0;36mApply.normalize_dictlike_arg\u001b[0;34m(self, how, obj, func)\u001b[0m\n\u001b[1;32m    637\u001b[0m     cols \u001b[38;5;241m=\u001b[39m Index(\u001b[38;5;28mlist\u001b[39m(func\u001b[38;5;241m.\u001b[39mkeys()))\u001b[38;5;241m.\u001b[39mdifference(obj\u001b[38;5;241m.\u001b[39mcolumns, sort\u001b[38;5;241m=\u001b[39m\u001b[38;5;28;01mTrue\u001b[39;00m)\n\u001b[1;32m    638\u001b[0m     \u001b[38;5;28;01mif\u001b[39;00m \u001b[38;5;28mlen\u001b[39m(cols) \u001b[38;5;241m>\u001b[39m \u001b[38;5;241m0\u001b[39m:\n\u001b[0;32m--> 639\u001b[0m         \u001b[38;5;28;01mraise\u001b[39;00m \u001b[38;5;167;01mKeyError\u001b[39;00m(\u001b[38;5;124mf\u001b[39m\u001b[38;5;124m\"\u001b[39m\u001b[38;5;124mColumn(s) \u001b[39m\u001b[38;5;132;01m{\u001b[39;00m\u001b[38;5;28mlist\u001b[39m(cols)\u001b[38;5;132;01m}\u001b[39;00m\u001b[38;5;124m do not exist\u001b[39m\u001b[38;5;124m\"\u001b[39m)\n\u001b[1;32m    641\u001b[0m aggregator_types \u001b[38;5;241m=\u001b[39m (\u001b[38;5;28mlist\u001b[39m, \u001b[38;5;28mtuple\u001b[39m, \u001b[38;5;28mdict\u001b[39m)\n\u001b[1;32m    643\u001b[0m \u001b[38;5;66;03m# if we have a dict of any non-scalars\u001b[39;00m\n\u001b[1;32m    644\u001b[0m \u001b[38;5;66;03m# eg. {'A' : ['mean']}, normalize all to\u001b[39;00m\n\u001b[1;32m    645\u001b[0m \u001b[38;5;66;03m# be list-likes\u001b[39;00m\n\u001b[1;32m    646\u001b[0m \u001b[38;5;66;03m# Cannot use func.values() because arg may be a Series\u001b[39;00m\n",
      "\u001b[0;31mKeyError\u001b[0m: \"Column(s) ['document', 'score'] do not exist\""
     ]
    }
   ],
   "source": [
    "def merge_annotated_data(naam_dataset, n_annotators, n_annotations = 3):\n",
    "    \"\"\" functie die de gesplitste data gesplitst door split_annotated_data weer kan samenvoegen. \n",
    "    De datasets met de naam naam_dataset_n_annotators.csv worden ingeladen. Vervolgens wordt de oorspronkelijke dataset gereconstrueerd\n",
    "    uit de ingeladen data. De oorspronkelijke zinnen en het overzicht van de labels wordt gereturned.\n",
    "    \n",
    "    Input:\n",
    "    naam_dataset: str, de naam van de documenen die de annotators hebben ingevuld\n",
    "    n_annotators: int, het aantal annotators\n",
    "    n_annotations: int, het aantal annotations per zin. default 3\n",
    "    \n",
    "    Output:\n",
    "    merged_data: een DataFrame met daarin de oorspronkelijke data en de n_annotations labels die zijn toegekend.\n",
    "    \"\"\"\n",
    "\n",
    "    \"\"\" function that can merge data split by split_annotated_data.\n",
    "    The datasets with the name naam_dataset_n_annotators.csv are loaded. The original dataset then gets reconstructed\n",
    "    from the loaded data. The original sentences and the overview of the original labels is returned.\n",
    "\n",
    "    Input:\n",
    "    name_dataset: str, the name of the documents that the annotators have filled in\n",
    "    n_annotators: int, the number of annotators\n",
    "    n_annotations: int, the number of annotations per sentence. Defaults to 3\n",
    "    \"\"\"\n",
    "    \n",
    "    # inladen path naar data en creëren lege frames\n",
    "    # load path to data and create empty frames\n",
    "    dataset_path = \"/data/rstudio/datasets/programma-discriminatie-en-racisme/Datasets_1/\"\n",
    "    merged_data = pd.DataFrame()\n",
    "    \n",
    "    for i in range(n_annotators):\n",
    "        # inladen annotated documenten en samenvoegen\n",
    "        # load annotated documents and compile\n",
    "        annotated_doc = pd.read_csv(dataset_path + naam_dataset + \"_\" + str(i) + '.csv', sep = ',')\n",
    "        columns = list(annotated_doc.columns)\n",
    "        \n",
    "        # document opstellen\n",
    "        # create document\n",
    "        if i == 0:\n",
    "            merged_data = annotated_doc\n",
    "        else:\n",
    "            merged_data = pd.concat([merged_data, annotated_doc])\n",
    "            \n",
    "    merged_data = merged_data.groupby(['Unnamed: 0']).agg({'id': 'last', 'document': 'last', 'text': 'last', 'zin': 'last', 'score': 'mean'})\n",
    "    merged_data = merged_data.sort_values(by = ['Unnamed: 0'])\n",
    "    \n",
    "    return pd.DataFrame(merged_data)\n",
    "\n",
    "merged = merge_annotated_data('te_labellen', n_annotators = 5, n_annotations = 3)\n",
    "display(merged)"
   ]
  },
  {
   "cell_type": "code",
   "execution_count": 50,
   "metadata": {},
   "outputs": [
    {
     "name": "stdout",
     "output_type": "stream",
     "text": [
      "[0, 0, 'Beslisnota bij Kamerbrief over Geografische Balans Subsidieregeling en Beleidsintensiveringen Slavernijverleden', '                                                                                    TER BESLUITVORMING\\n                                                                                    Nota actief openbaar\\n                                                                                    Ja\\n                                                                                    Onze referentie\\nAan                      StasBZK en MBZK                                            2024-0000015654\\nVan                      Programma <mark style=\"background: #00ced1!important\">slavernijverleden</mark>                                Datum\\n                                                                                    9 januari 2024\\n                                                                                    Opgesteld door\\n                          (0) Nota Kamerbrief Geografische Verdeling m.b.t. de\\n                          Subsidieregeling en Beleidsintensiveringen\\n                                                                                    Samengewerkt met\\n                          <mark style=\"background: #00ced1!important\">slavernijverleden</mark>\\n                                                                                    Bijlage(n)\\n                                                                                    1\\nAanleiding\\nDe ministeriële stuurgroep <mark style=\"background: #00ced1!important\">slavernijverleden</mark> van 29 september j.l. heeft gevraagd\\nde Tweede Kamer te informeren over de te hanteren geografische verdeling bij de\\nuitwerking van de subsidieregeling en beleidsintensiveringen toegezegd in de\\nkabinetsreactie op het rapport ‘Ketenen van het Verleden’ van 19 dec 2022. Bij\\ndeze nota vindt u die brief aan de Tweede Kamer.\\nGeadviseerd besluit\\n\\uf0b7 Instemmen met verzenden van de brief. De brief is parallel voorgelegd aan\\n    MBZ en door MBZ geaccordeerd.\\nKern\\n\\uf0b7 In deze brief wordt de Kamer geïnformeerd over het voorstel voor en de\\n    verdere uitwerking van een geografische verdeling tussen het Caribisch deel\\n    van het Koninkrijk, Europees Nederland en Suriname, met betrekking tot de\\n    regeling voor maatschappelijke initiatieven en de beleidsintensiveringen uit de\\n    kabinetsreactie op het rapport “Ketenen van het Verleden”. U licht daarbij de\\n    overwegingen van het kabinet toe.\\n\\uf0b7 In deze brief schetst u het voorstel zoals besproken in de ministeriële\\n    stuurgroep van 29 September jl. en tijdens de Catshuissessie op Sint Maarten\\n    op 1 en 2 oktober jl.\\n\\uf0b7 De brief is in samenwerking met de interdepartementale werkgroep\\n    <mark style=\"background: #00ced1!important\">slavernijverleden</mark> opgesteld.\\n\\uf0b7 De minister van Buitenlandse Zaken is vanwege de betrokkenheid Suriname\\n    medeondertekenaar van de brief.\\nProces\\nVanwege een misverstand met versiebeheer is er vertraging opgelopen in het\\naccorderingsproces bij BZ. In de bijgesloten versie zijn er nog enkele\\ngrammaticale onjuistheden aangepast en is de datum van 19 dec jl aangepast\\nnaar 19 december 2022.\\nBijlagen\\n Volgnummer       Naam                             Informatie\\n 1                Kamerbrief Geografische\\n                                                                                    Pagina 1 van 2\\n                       Onze referentie\\nVerdeling m.b.t. de    2024-0000015654\\nSubsidieregeling en\\n                       Datum\\nBeleidsintensiveringen 9 januari 2024\\n<mark style=\"background: #00ced1!important\">slavernijverleden</mark>\\n                       Pagina 2 van 2', '                                                                                    TER BESLUITVORMING\\n                                                                                    Nota actief openbaar\\n                                                                                    Ja\\n                                                                                    Onze referentie\\nAan                      StasBZK en MBZK                                            2024-0000015654\\nVan                      Programma <mark style=\"background: #00ced1!important\">slavernijverleden</mark>                                Datum\\n                                                                                    9 januari 2024\\n                                                                                    Opgesteld door\\n                          (0) Nota Kamerbrief Geografische Verdeling m.b.t. de\\n                          Subsidieregeling en Beleidsintensiveringen\\n                                                                                    Samengewerkt met\\n                          <mark style=\"background: #00ced1!important\">slavernijverleden</mark>\\n                                                                                    Bijlage(n)\\n                                                                                    1\\nAanleiding\\nDe ministeriële stuurgroep <mark style=\"background: #00ced1!important\">slavernijverleden</mark> van 29 september j.l. heeft gevraagd\\nde Tweede Kamer te informeren over de te hanteren geografische verdeling bij de\\nuitwerking van de subsidieregeling en beleidsintensiveringen toegezegd in de\\nkabinetsreactie op het rapport ‘Ketenen van het Verleden’ van 19 dec 2022. Bij\\ndeze nota vindt u die brief aan de Tweede Kamer.\\nGeadviseerd besluit\\n\\uf0b7 Instemmen met verzenden van de brief. De brief is parallel voorgelegd aan\\n    MBZ en door MBZ geaccordeerd.\\nKern\\n\\uf0b7 In deze brief wordt de Kamer geïnformeerd over het voorstel voor en de\\n    verdere uitwerking van een geografische verdeling tussen het Caribisch deel\\n    van het Koninkrijk, Europees Nederland en Suriname, met betrekking tot de\\n    regeling voor maatschappelijke initiatieven en de beleidsintensiveringen uit de\\n    kabinetsreactie op het rapport “Ketenen van het Verleden”. U licht daarbij de\\n    overwegingen van het kabinet toe.\\n\\uf0b7 In deze brief schetst u het voorstel zoals besproken in de ministeriële\\n    stuurgroep van 29 September jl. en tijdens de Catshuissessie op Sint Maarten\\n    op 1 en 2 oktober jl.\\n\\uf0b7 De brief is in samenwerking met de interdepartementale werkgroep\\n    <mark style=\"background: #00ced1!important\">slavernijverleden</mark> opgesteld.\\n\\uf0b7 De minister van Buitenlandse Zaken is vanwege de betrokkenheid Suriname\\n    medeondertekenaar van de brief.\\nProces\\nVanwege een misverstand met versiebeheer is er vertraging opgelopen in het\\naccorderingsproces bij BZ. In de bijgesloten versie zijn er nog enkele\\ngrammaticale onjuistheden aangepast en is de datum van 19 dec jl aangepast\\nnaar 19 december 2022.\\nBijlagen\\n Volgnummer       Naam                             Informatie\\n 1                Kamerbrief Geografische\\n                                                                                    Pagina 1 van 2\\n', 'positief', nan, nan, nan]\n"
     ]
    }
   ],
   "source": [
    "# output checken\n",
    "# check output of code\n",
    "print(list(merged[0]))"
   ]
  },
  {
   "cell_type": "code",
   "execution_count": 9,
   "metadata": {},
   "outputs": [],
   "source": []
  },
  {
   "cell_type": "code",
   "execution_count": null,
   "metadata": {},
   "outputs": [],
   "source": []
  }
 ],
 "metadata": {
  "kernelspec": {
   "display_name": "Python 3 (ipykernel)",
   "language": "python",
   "name": "python3"
  },
  "language_info": {
   "codemirror_mode": {
    "name": "ipython",
    "version": 3
   },
   "file_extension": ".py",
   "mimetype": "text/x-python",
   "name": "python",
   "nbconvert_exporter": "python",
   "pygments_lexer": "ipython3",
   "version": "3.11.7"
  }
 },
 "nbformat": 4,
 "nbformat_minor": 4
}
