{
 "cells": [
  {
   "cell_type": "code",
   "execution_count": null,
   "metadata": {},
   "outputs": [],
   "source": [
    "### Deze code wordt gebruikt om de datasets samen te stellen die gelabeld worden door meerdere annotators, om de inter-annotator agreement te berekenen. De output van deze code is drie inter_annotate_[NAME].csv bestanden, die gelabeld moeten worden. ###\n",
    "### This code is used to compile the datasets that need to be annotated by multiple annotators in order to calculate inter-annotator agreement. The output of this code is three documents called inter_annotate_[NAME].csv, that must be annotated. ###"
   ]
  },
  {
   "cell_type": "code",
   "execution_count": null,
   "metadata": {},
   "outputs": [],
   "source": [
    "# importeren benodigde packages\n",
    "# import necessary packages\n",
    "import pandas as pd"
   ]
  },
  {
   "cell_type": "code",
   "execution_count": null,
   "metadata": {},
   "outputs": [],
   "source": [
    "# inladen & mergen data\n",
    "# load and merge data\n",
    "def merge_annotated_data(naam_dataset, n_annotators, n_annotations = 3):\n",
    "    \"\"\" functie die de gesplitste data gesplitst door split_annotated_data weer kan samenvoegen.\n",
    "    De datasets met de naam naam_dataset_n_annotators.csv worden ingeladen. Vervolgens wordt de oorspronkelijke dataset gereconstrueerd\n",
    "    uit de ingeladen data. De oorspronkelijke zinnen en het overzicht van de labels wordt gereturned.\n",
    "\n",
    "    Input:\n",
    "    naam_dataset: str, de naam van de documenten die de annotators hebben ingevuld\n",
    "    n_annotators: int, het aantal annotators\n",
    "    n_annotations: int, het aantal annotations per zin. default 3\n",
    "\n",
    "    Output:\n",
    "    merged_data: een DataFrame met daarin de oorspronkelijke data en de n_annotations labels die zijn toegekend.\n",
    "    \"\"\"\n",
    "\n",
    "    \"\"\" function that can merge data split by split_annotated_data.\n",
    "    The datasets with the name naam_dataset_n_annotators.csv are loaded. The original dataset then gets reconstructed\n",
    "    from the loaded data. The original sentences and the overview of the original labels is returned.\n",
    "\n",
    "    Input:\n",
    "    name_dataset: str, the name of the documents that the annotators have filled in\n",
    "    n_annotators: int, the number of annotators\n",
    "    n_annotations: int, the number of annotations per sentence. Defaults to 3\n",
    "    \"\"\"\n",
    "    # inladen path naar data en creëren lege frames\n",
    "    # load path to data and create empty frames\n",
    "    dataset_path = \"/data/rstudio/datasets/programma-discriminatie-en-racisme/Datasets_1/\"\n",
    "    merged_data = pd.DataFrame()\n",
    "\n",
    "    for i in range(n_annotators):\n",
    "        # inladen annotated documenten en samenvoegen\n",
    "        # load annotated documents and compile\n",
    "        annotated_doc = pd.read_excel(dataset_path + naam_dataset + \"_\" + str(i) + '.xlsx')\n",
    "        annotated_doc = annotated_doc.dropna(subset=['Label', 'text', 'Column1'])\n",
    "        columns = list(annotated_doc.columns)\n",
    "\n",
    "        #display(annotated_doc)\n",
    "\n",
    "        # document opstellen\n",
    "        # create document\n",
    "        if i == 0:\n",
    "            merged_data = annotated_doc\n",
    "        else:\n",
    "            merged_data = pd.concat([merged_data, annotated_doc])\n",
    "\n",
    "    display(merged_data)\n",
    "\n",
    "    #merged_data = merged_data.groupby(['Column1']).agg({'id': 'last', 'titel': 'last', 'text': 'last', 'zin': 'last', 'Label': 'mean'})\n",
    "    #merged_data = merged_data.sort_values(by = ['Column1'])\n",
    "\n",
    "    return pd.DataFrame(merged_data)\n",
    "\n",
    "merged = merge_annotated_data('te_labellen', n_annotators = 8, n_annotations = 3)\n",
    "display(merged)"
   ]
  },
  {
   "cell_type": "code",
   "execution_count": null,
   "metadata": {},
   "outputs": [],
   "source": [
    "# exporteren data: laatste 150 datapunten worden gebruikt om inter-annotator agreement te testen\n",
    "# hiervoor nemen we 25 datapunten per persoon\n",
    "# de controle-labellaars (Tess, Michelle, Milena) labellen 150 punten van anderen. Milena labelt de extra zinnen van Tess & Michelle.\n",
    "# er zijn dan 225 zinnen die door 3 mensen zijn gelabeld\n",
    "\n",
    "# export data: the last 150 datapoints are used to calculate inter-annotator agreement\n",
    "# this means we take 25 datapoints per person\n",
    "# the inter-annotators (Tess, Michelle, Milena) each annotate 150 datapoints of others. Milena will annotate extra sentences from Tess & Michelle.\n",
    "# this results in 225 sentences that are annotated by 3 people\n",
    "\n",
    "inter_annotate_1 = merged[merged.labeller_1 == 2.0][0:50] # Tess\n",
    "inter_annotate_2 = merged[merged.labeller_1 == 3.0][0:25] # Cheyenne\n",
    "inter_annotate_3 = merged[merged.labeller_1 == 4.0][0:50] # Michelle\n",
    "inter_annotate_4 = merged[merged.labeller_1 == 5.0][0:25] # Ailing\n",
    "inter_annotate_5 = merged[merged.labeller_1 == 6.0][0:25] # Amy\n",
    "inter_annotate_6 = merged[merged.labeller_1 == 7.0][0:25] # Kiran\n",
    "inter_annotate_7 = merged[merged.labeller_1 == 8.0][0:25] # Milena\n",
    "\n",
    "# samenvoegen datasets\n",
    "# compile datasets\n",
    "inter_annotate_Tess = inter_annotate_2.append([inter_annotate_3, inter_annotate_5, inter_annotate_6, inter_annotate_7])\n",
    "inter_annotate_Michelle = inter_annotate_2.append([inter_annotate_1, inter_annotate_4, inter_annotate_6, inter_annotate_7])\n",
    "inter_annotate_Milena = inter_annotate_1.append([inter_annotate_3, inter_annotate_4, inter_annotate_5])\n",
    "\n",
    "print(len(inter_annotate_Tess), len(inter_annotate_Michelle), len(inter_annotate_Milena))\n",
    "\n",
    "# opslaan als .csv's\n",
    "# save as .csvs\n",
    "output_path = \"~/Projecten/programma-discriminatie-en-racisme/datasets/Inter_annotator/\"\n",
    "inter_annotate_Tess.to_csv(output_path + \"inter_annotate_Tess.csv\")\n",
    "inter_annotate_Michelle.to_csv(output_path + \"inter_annotate_Michelle.csv\")\n",
    "inter_annotate_Milena.to_csv(output_path + \"inter_annotate_Milena.csv\")"
   ]
  }
 ],
 "metadata": {
  "kernelspec": {
   "display_name": "Python 3 (ipykernel)",
   "language": "python",
   "name": "python3"
  },
  "language_info": {
   "codemirror_mode": {
    "name": "ipython",
    "version": 3
   },
   "file_extension": ".py",
   "mimetype": "text/x-python",
   "name": "python",
   "nbconvert_exporter": "python",
   "pygments_lexer": "ipython3",
   "version": "3.11.7"
  }
 },
 "nbformat": 4,
 "nbformat_minor": 4
}
