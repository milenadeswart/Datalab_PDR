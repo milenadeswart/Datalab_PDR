{
 "cells": [
  {
   "cell_type": "code",
   "execution_count": 8,
   "metadata": {},
   "outputs": [],
   "source": [
    "# inladen benodigde packages\n",
    "import pandas as pd\n",
    "import math"
   ]
  },
  {
   "cell_type": "code",
   "execution_count": 6,
   "metadata": {},
   "outputs": [],
   "source": [
    "# inladen dataset met kolom voor scores\n",
    "# inladen data\n",
    "dataset_path = \"~/share/Milena/programma-discriminatie-en-racisme/01_datapreparatie/\"\n",
    "dataset = pd.read_csv(dataset_path + 'dataset_dummy_empty.csv', sep = ';') # voor dummy dataset importeer eerste paar instances"
   ]
  },
  {
   "cell_type": "code",
   "execution_count": 12,
   "metadata": {},
   "outputs": [
    {
     "name": "stdout",
     "output_type": "stream",
     "text": [
      "3800\n",
      "6333\n"
     ]
    }
   ],
   "source": [
    "# aantal zinnen te labellen pp = zinnen * 3 / n_annotators\n",
    "# gat tussen labellaars = aantal_te_labellen / 3\n",
    "\n",
    "def split_annotated_data(data, n_annotators):\n",
    "    datasets = []\n",
    "    aantal_to_label = math.ceil(len(data) * 3 / n_annotators) # omhoog afronden\n",
    "    distance = round(aantal_to_label / n_annotators)\n",
    "    \n",
    "    for n in range(n_annotators):\n",
    "        start = n * distance\n",
    "        eind = start + aantal_to_label\n",
    "        dataset = data.iloc[start:eind]\n",
    "        datasets.append(dataset)\n",
    "    return datasets\n",
    "\n",
    "split_data = split_annotated_data(data = dataset, n_annotators = 5)\n",
    "print(len(split_data[0]))\n",
    "print(len(dataset))"
   ]
  },
  {
   "cell_type": "code",
   "execution_count": 14,
   "metadata": {},
   "outputs": [],
   "source": [
    "# output genereren: iedere dataset naar .csv\n",
    "for i, dataset in enumerate(split_data):\n",
    "    dataset.to_csv('te_labellen_' + str(i) + '.csv')"
   ]
  },
  {
   "cell_type": "code",
   "execution_count": null,
   "metadata": {},
   "outputs": [],
   "source": []
  }
 ],
 "metadata": {
  "kernelspec": {
   "display_name": "DataLabDisc",
   "language": "python",
   "name": "datalabdisc"
  },
  "language_info": {
   "codemirror_mode": {
    "name": "ipython",
    "version": 3
   },
   "file_extension": ".py",
   "mimetype": "text/x-python",
   "name": "python",
   "nbconvert_exporter": "python",
   "pygments_lexer": "ipython3",
   "version": "3.7.4"
  }
 },
 "nbformat": 4,
 "nbformat_minor": 2
}
