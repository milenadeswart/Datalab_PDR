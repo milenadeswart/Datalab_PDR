{
 "cells": [
  {
   "cell_type": "code",
   "execution_count": 8,
   "metadata": {},
   "outputs": [],
   "source": [
    "# inladen benodigde packages\n",
    "import pandas as pd\n",
    "import math"
   ]
  },
  {
   "cell_type": "code",
   "execution_count": 22,
   "metadata": {},
   "outputs": [],
   "source": [
    "# inladen dataset met kolom voor scores\n",
    "# inladen data\n",
    "dataset_path = \"~/share/Milena/programma-discriminatie-en-racisme/01_datapreparatie/\"\n",
    "dataset_empty = pd.read_csv(dataset_path + 'dataset_dummy_empty.csv', sep = ';') # voor dummy dataset importeer eerste paar instances"
   ]
  },
  {
   "cell_type": "code",
   "execution_count": 32,
   "metadata": {},
   "outputs": [
    {
     "name": "stdout",
     "output_type": "stream",
     "text": [
      "Lengte te labelen per persoon na splitten: 3799\n",
      "Lengte originele dataset: 6333\n"
     ]
    }
   ],
   "source": [
    "def split_annotated_data(data, n_annotators, n_annotations):\n",
    "    \"\"\" functie die de data splitst. iedere zin wordt n_annotations keer toegevoegd, \n",
    "    waarbij er wordt doorgeteld aan het aantal annotators, waardoor iedere annotator (ongeveer) evenveel annnotations ontvangt.\n",
    "    De data kan na het annotaten weer gemerged worden door middel van de functie merge_annotated_data.\n",
    "    \n",
    "    Input:\n",
    "    data: een DataFrame die gesplit moet worden\n",
    "    n_annotators: int, het aantal annotators\n",
    "    n_annotations: int, het aantal annotations per zin\n",
    "    \n",
    "    Output:\n",
    "    datasets: een lijst van n_annotators DataFrames.\n",
    "    \"\"\"\n",
    "    # creëer lege list of lists voor de uiteindelijke output\n",
    "    datasets = []\n",
    "    for i in range(n_annotators):\n",
    "        datasets.append([])\n",
    "    \n",
    "    # variabelen om bij te houden waar we zijn in het toevoegen. Een zin wordt n_annotations keer toegevoegd, \n",
    "    # beginnend bij datasets\n",
    "    counter = 0\n",
    "    max_counter = n_annotators -1\n",
    "    \n",
    "    # datapunt creëren\n",
    "    for i in range(len(data)):\n",
    "        datapunt = data.iloc[i]\n",
    "        # het datapunt aan de nodige dataset toevoegen\n",
    "        for j in range(n_annotations):\n",
    "            if counter < max_counter:\n",
    "                datasets[counter].append(datapunt)\n",
    "                counter += 1\n",
    "            else: # counter = n_annotators\n",
    "                datasets[counter].append(datapunt)\n",
    "                counter = 0\n",
    "    \n",
    "    # lijsten converteren naar df zodat ze naar .csv te converteren zijn\n",
    "    for i in range(n_annotators):\n",
    "        datasets[i] = pd.DataFrame(datasets[i])\n",
    "    \n",
    "    return datasets\n",
    "    \n",
    "# output genereren en kijken naar de lengte\n",
    "split_data = split_annotated_data(data = dataset_empty, n_annotators = 5, n_annotations = 3)\n",
    "print(\"Lengte te labelen per persoon na splitten:\", len(split_data[4]))\n",
    "print(\"Lengte originele dataset:\", len(dataset_empty))"
   ]
  },
  {
   "cell_type": "code",
   "execution_count": 33,
   "metadata": {},
   "outputs": [],
   "source": [
    "# output genereren: iedere dataset naar .csv\n",
    "for i, dataset in enumerate(split_data):\n",
    "    dataset.to_csv('te_labellen_' + str(i) + '.csv')"
   ]
  },
  {
   "cell_type": "code",
   "execution_count": null,
   "metadata": {},
   "outputs": [],
   "source": []
  },
  {
   "cell_type": "code",
   "execution_count": null,
   "metadata": {},
   "outputs": [],
   "source": []
  }
 ],
 "metadata": {
  "kernelspec": {
   "display_name": "DataLabDisc",
   "language": "python",
   "name": "datalabdisc"
  },
  "language_info": {
   "codemirror_mode": {
    "name": "ipython",
    "version": 3
   },
   "file_extension": ".py",
   "mimetype": "text/x-python",
   "name": "python",
   "nbconvert_exporter": "python",
   "pygments_lexer": "ipython3",
   "version": "3.7.4"
  }
 },
 "nbformat": 4,
 "nbformat_minor": 2
}
