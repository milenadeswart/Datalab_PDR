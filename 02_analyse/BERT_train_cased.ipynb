{
 "cells": [
  {
   "cell_type": "code",
   "execution_count": 1,
   "metadata": {},
   "outputs": [
    {
     "name": "stdout",
     "output_type": "stream",
     "text": [
      "Installed kernelspec DataLabDisc in /data/milenadeswart/.local/share/jupyter/kernels/datalabdisc\n",
      "/data/anaconda3/bin/jupyter\n",
      "WARNING: pip is being invoked by an old script wrapper. This will fail in a future version of pip.\n",
      "Please see https://github.com/pypa/pip/issues/5599 for advice on fixing the underlying issue.\n",
      "To avoid this problem you can invoke Python with '-m pip' instead of running pip directly.\n",
      "Package                            Version\n",
      "---------------------------------- -----------\n",
      "absl-py                            2.1.0\n",
      "aiohttp                            3.8.6\n",
      "aiosignal                          1.3.1\n",
      "alabaster                          0.7.12\n",
      "alembic                            1.6.5\n",
      "altair                             5.0.1\n",
      "anaconda-client                    1.7.2\n",
      "anaconda-navigator                 1.9.7\n",
      "anaconda-project                   0.8.3\n",
      "appdirs                            1.4.4\n",
      "asn1crypto                         1.0.1\n",
      "astroid                            2.3.1\n",
      "astropy                            3.2.2\n",
      "astunparse                         1.6.3\n",
      "async-generator                    1.10\n",
      "async-timeout                      4.0.3\n",
      "asynctest                          0.13.0\n",
      "atomicwrites                       1.3.0\n",
      "attrs                              19.2.0\n",
      "Babel                              2.7.0\n",
      "backcall                           0.1.0\n",
      "backports.functools-lru-cache      1.5\n",
      "backports.os                       0.1.1\n",
      "backports.shutil-get-terminal-size 1.0.0\n",
      "backports.tempfile                 1.0\n",
      "backports.weakref                  1.0.post1\n",
      "backports.zoneinfo                 0.2.1\n",
      "beautifulsoup4                     4.8.0\n",
      "bitarray                           1.0.1\n",
      "bkcharts                           0.2\n",
      "bleach                             3.1.0\n",
      "blinker                            1.6.3\n",
      "bokeh                              1.3.4\n",
      "boto                               2.49.0\n",
      "Bottleneck                         1.2.1\n",
      "cachetools                         5.3.3\n",
      "certifi                            2019.9.11\n",
      "cffi                               1.12.3\n",
      "chardet                            3.0.4\n",
      "charset-normalizer                 3.3.2\n",
      "click                              8.1.7\n",
      "cloudpickle                        1.2.2\n",
      "clyent                             1.2.2\n",
      "colorama                           0.4.1\n",
      "conda                              4.10.3\n",
      "conda-build                        3.18.9\n",
      "conda-package-handling             1.6.0\n",
      "conda-verify                       3.4.2\n",
      "contextlib2                        0.6.0\n",
      "cryptography                       2.7\n",
      "cycler                             0.10.0\n",
      "Cython                             0.29.13\n",
      "cytoolz                            0.10.0\n",
      "dask                               2.5.2\n",
      "datasets                           2.13.2\n",
      "decorator                          4.4.0\n",
      "defusedxml                         0.6.0\n",
      "dill                               0.3.6\n",
      "distributed                        2.5.2\n",
      "docker-pycreds                     0.4.0\n",
      "docutils                           0.15.2\n",
      "entrypoints                        0.3\n",
      "et-xmlfile                         1.0.1\n",
      "fastcache                          1.1.0\n",
      "fastjsonschema                     2.19.1\n",
      "filelock                           3.0.12\n",
      "Flask                              1.1.1\n",
      "flatbuffers                        24.3.25\n",
      "frozenlist                         1.3.3\n",
      "fsspec                             2023.1.0\n",
      "future                             0.17.1\n",
      "gast                               0.4.0\n",
      "gevent                             1.4.0\n",
      "gitdb                              4.0.11\n",
      "GitPython                          3.1.43\n",
      "glob2                              0.7\n",
      "gmpy2                              2.0.8\n",
      "google-auth                        2.29.0\n",
      "google-auth-oauthlib               0.4.6\n",
      "google-pasta                       0.2.0\n",
      "greenlet                           0.4.15\n",
      "grpcio                             1.62.2\n",
      "h5py                               2.9.0\n",
      "HeapDict                           1.0.1\n",
      "html5lib                           1.0.1\n",
      "huggingface-hub                    0.16.4\n",
      "idna                               2.8\n",
      "imageio                            2.6.0\n",
      "imagesize                          1.1.0\n",
      "imbalanced-learn                   0.12.2\n",
      "imblearn                           0.0\n",
      "importlib-metadata                 6.7.0\n",
      "ipykernel                          5.1.2\n",
      "ipython                            7.8.0\n",
      "ipython_genutils                   0.2.0\n",
      "ipywidgets                         7.5.1\n",
      "isort                              4.3.21\n",
      "itsdangerous                       1.1.0\n",
      "jdcal                              1.4.1\n",
      "jedi                               0.15.1\n",
      "jeepney                            0.4.1\n",
      "Jinja2                             3.1.4\n",
      "joblib                             1.3.2\n",
      "json5                              0.8.5\n",
      "jsonschema                         3.0.2\n",
      "jupyter                            1.0.0\n",
      "jupyter_client                     7.4.9\n",
      "jupyter-console                    6.0.0\n",
      "jupyter_core                       4.12.0\n",
      "jupyterhub                         0.9.6\n",
      "jupyterlab                         1.1.4\n",
      "jupyterlab-pygments                0.2.2\n",
      "jupyterlab-server                  1.0.6\n",
      "keras                              2.11.0\n",
      "keyring                            18.0.0\n",
      "kiwisolver                         1.1.0\n",
      "lazy-object-proxy                  1.4.2\n",
      "libarchive-c                       2.8\n",
      "libclang                           18.1.1\n",
      "lief                               0.9.0\n",
      "lime                               0.2.0.1\n",
      "llvmlite                           0.29.0\n",
      "locket                             0.2.0\n",
      "lxml                               4.4.1\n",
      "Mako                               1.1.4\n",
      "Markdown                           3.4.4\n",
      "markdown-it-py                     2.2.0\n",
      "MarkupSafe                         2.1.5\n",
      "matplotlib                         3.1.1\n",
      "mccabe                             0.6.1\n",
      "mdurl                              0.1.2\n",
      "mistune                            3.0.2\n",
      "mkl-fft                            1.0.14\n",
      "mkl-random                         1.1.0\n",
      "mkl-service                        2.3.0\n",
      "mock                               3.0.5\n",
      "more-itertools                     7.2.0\n",
      "mpmath                             1.1.0\n",
      "msgpack                            0.6.1\n",
      "multidict                          6.0.5\n",
      "multipledispatch                   0.6.0\n",
      "multiprocess                       0.70.14\n",
      "navigator-updater                  0.2.1\n",
      "nbclient                           0.7.4\n",
      "nbconvert                          7.6.0\n",
      "nbformat                           5.8.0\n",
      "nest-asyncio                       1.6.0\n",
      "networkx                           2.3\n",
      "nltk                               3.4.5\n",
      "nodejs                             0.1.1\n",
      "nose                               1.3.7\n",
      "notebook                           6.0.1\n",
      "numba                              0.45.1\n",
      "numexpr                            2.7.0\n",
      "numpy                              1.21.6\n",
      "numpydoc                           0.9.1\n",
      "nvidia-cublas-cu11                 11.10.3.66\n",
      "nvidia-cuda-nvrtc-cu11             11.7.99\n",
      "nvidia-cuda-runtime-cu11           11.7.99\n",
      "nvidia-cudnn-cu11                  8.5.0.96\n",
      "oauthlib                           3.2.2\n",
      "olefile                            0.46\n",
      "openpyxl                           3.0.0\n",
      "opt-einsum                         3.3.0\n",
      "optional-django                    0.1.0\n",
      "packaging                          23.2\n",
      "pamela                             1.0.0\n",
      "pandas                             0.25.1\n",
      "pandocfilters                      1.4.2\n",
      "parso                              0.5.1\n",
      "partd                              1.0.0\n",
      "path.py                            12.0.1\n",
      "pathlib2                           2.3.5\n",
      "patsy                              0.5.1\n",
      "pep517                             0.13.1\n",
      "pep8                               1.7.1\n",
      "pexpect                            4.7.0\n",
      "pickleshare                        0.7.5\n",
      "Pillow                             6.2.0\n",
      "pip                                24.0\n",
      "pkginfo                            1.5.0.1\n",
      "pluggy                             0.13.0\n",
      "ply                                3.11\n",
      "prometheus-client                  0.7.1\n",
      "prompt-toolkit                     2.0.10\n",
      "protobuf                           3.19.6\n",
      "psutil                             5.6.3\n",
      "ptyprocess                         0.6.0\n",
      "py                                 1.8.0\n",
      "pyarrow                            12.0.1\n",
      "pyasn1                             0.5.1\n",
      "pyasn1-modules                     0.3.0\n",
      "pycodestyle                        2.5.0\n",
      "pycosat                            0.6.3\n",
      "pycparser                          2.19\n",
      "pycrypto                           2.6.1\n",
      "pycurl                             7.43.0.3\n",
      "pydeck                             0.8.1b1\n",
      "pyflakes                           2.1.1\n",
      "Pygments                           2.17.2\n",
      "pylint                             2.4.2\n",
      "Pympler                            1.0.1\n",
      "pyodbc                             4.0.27\n",
      "pyOpenSSL                          19.0.0\n",
      "pyparsing                          2.4.2\n",
      "PyQt5                              5.12.3\n",
      "PyQt5-Qt5                          5.15.2\n",
      "PyQt5-sip                          12.13.0\n",
      "PyQtWebEngine                      5.12.1\n",
      "PyQtWebEngine-Qt5                  5.15.2\n",
      "pyrsistent                         0.15.4\n",
      "PySocks                            1.7.1\n",
      "pytest                             5.2.1\n",
      "pytest-arraydiff                   0.3\n",
      "pytest-astropy                     0.5.0\n",
      "pytest-doctestplus                 0.4.0\n",
      "pytest-openfiles                   0.4.0\n",
      "pytest-remotedata                  0.3.2\n",
      "python-dateutil                    2.9.0.post0\n",
      "python-editor                      1.0.4\n",
      "python-oauth2                      1.1.1\n",
      "pytz                               2019.3\n",
      "pytz-deprecation-shim              0.1.0.post0\n",
      "PyWavelets                         1.0.3\n",
      "PyYAML                             5.1.2\n",
      "pyzmq                              26.0.3\n",
      "QtAwesome                          0.6.0\n",
      "qtconsole                          4.5.5\n",
      "QtPy                               1.9.0\n",
      "regex                              2024.4.16\n",
      "requests                           2.22.0\n",
      "requests-oauthlib                  2.0.0\n",
      "rich                               13.7.1\n",
      "rope                               0.14.0\n",
      "rsa                                4.9\n",
      "ruamel_yaml                        0.15.46\n",
      "safetensors                        0.4.3\n",
      "scikit-image                       0.15.0\n",
      "scikit-learn                       1.0.2\n",
      "scipy                              1.7.3\n",
      "seaborn                            0.9.0\n",
      "SecretStorage                      3.1.1\n",
      "Send2Trash                         1.5.0\n",
      "sentencepiece                      0.2.0\n",
      "sentry-sdk                         1.9.0\n",
      "seqeval                            1.2.2\n",
      "setproctitle                       1.3.3\n",
      "setuptools                         68.0.0\n",
      "simplegeneric                      0.8.1\n",
      "simpletransformers                 0.63.11\n",
      "singledispatch                     3.4.0.3\n",
      "six                                1.12.0\n",
      "smmap                              5.0.1\n",
      "snowballstemmer                    2.0.0\n",
      "sortedcollections                  1.1.2\n",
      "sortedcontainers                   2.1.0\n",
      "soupsieve                          1.9.3\n",
      "Sphinx                             2.2.0\n",
      "sphinxcontrib-applehelp            1.0.1\n",
      "sphinxcontrib-devhelp              1.0.1\n",
      "sphinxcontrib-htmlhelp             1.0.2\n",
      "sphinxcontrib-jsmath               1.0.1\n",
      "sphinxcontrib-qthelp               1.0.2\n",
      "sphinxcontrib-serializinghtml      1.1.3\n",
      "sphinxcontrib-websupport           1.1.2\n",
      "spyder                             3.3.6\n",
      "spyder-kernels                     0.5.2\n",
      "SQLAlchemy                         1.3.9\n",
      "statsmodels                        0.10.1\n",
      "streamlit                          1.23.1\n",
      "sympy                              1.4\n",
      "tables                             3.5.2\n",
      "tblib                              1.4.0\n",
      "tenacity                           8.2.3\n",
      "tensorboard                        2.11.2\n",
      "tensorboard-data-server            0.6.1\n",
      "tensorboard-plugin-wit             1.8.1\n",
      "tensorflow                         2.11.0\n",
      "tensorflow-estimator               2.11.0\n",
      "tensorflow-io-gcs-filesystem       0.34.0\n",
      "termcolor                          2.3.0\n",
      "terminado                          0.8.2\n",
      "testpath                           0.4.2\n",
      "threadpoolctl                      3.1.0\n",
      "tinycss2                           1.2.1\n",
      "tokenizers                         0.13.3\n",
      "toml                               0.10.2\n",
      "tomli                              2.0.1\n",
      "toolz                              0.10.0\n",
      "torch                              1.13.1\n",
      "tornado                            6.2\n",
      "tqdl                               0.0.4\n",
      "tqdm                               4.66.2\n",
      "traitlets                          5.9.0\n",
      "transformers                       4.30.2\n",
      "typed-ast                          1.4.3\n",
      "typing                             3.7.4.3\n",
      "typing_extensions                  4.7.1\n",
      "tzdata                             2024.1\n",
      "tzlocal                            4.3.1\n",
      "unicodecsv                         0.14.1\n",
      "urllib3                            1.24.2\n",
      "validators                         0.20.0\n",
      "wandb                              0.16.6\n",
      "watchdog                           3.0.0\n",
      "wcwidth                            0.1.7\n",
      "webencodings                       0.5.1\n",
      "Werkzeug                           2.2.3\n",
      "wheel                              0.42.0\n",
      "widgetsnbextension                 3.5.1\n",
      "wrapt                              1.11.2\n",
      "wurlitzer                          1.0.3\n",
      "xlrd                               1.2.0\n",
      "XlsxWriter                         1.2.1\n",
      "xlwt                               1.3.0\n",
      "xxhash                             3.4.1\n",
      "yarl                               1.9.4\n",
      "zict                               1.0.0\n",
      "zipp                               0.6.0\n"
     ]
    }
   ],
   "source": [
    "# code aangepast van https://www.philschmid.de/bert-text-classification-in-a-different-language\n",
    "!ipython kernel install --user --name DataLabDisc\n",
    "!which jupyter\n",
    "!pip list"
   ]
  },
  {
   "cell_type": "code",
   "execution_count": 106,
   "metadata": {},
   "outputs": [],
   "source": [
    "# import necessary packages\n",
    "import numpy as np\n",
    "import pandas as pd\n",
    "import matplotlib.pyplot as plt\n",
    "import matplotlib.colors\n",
    "from sklearn.model_selection import train_test_split\n",
    "from sklearn.model_selection import StratifiedShuffleSplit\n",
    "from sklearn.model_selection import GridSearchCV\n",
    "from sklearn.model_selection import cross_val_score\n",
    "from sklearn import metrics as metrics\n",
    "from scipy.special import expit\n",
    "import seaborn as sns\n",
    "from datasets.dataset_dict import DatasetDict\n",
    "from datasets import Dataset\n",
    "import torch\n",
    "import pyarrow\n",
    "from transformers import TrainingArguments, Trainer\n",
    "from transformers import AutoTokenizer, AutoModel, TFAutoModel\n",
    "from simpletransformers.classification import ClassificationModel\n",
    "from simpletransformers.classification import ClassificationArgs\n",
    "from tensorflow.keras.optimizers import Adam\n",
    "import warnings\n",
    "warnings.filterwarnings('ignore')\n",
    "\n",
    "seed = 9"
   ]
  },
  {
   "cell_type": "code",
   "execution_count": 3,
   "metadata": {},
   "outputs": [
    {
     "name": "stdout",
     "output_type": "stream",
     "text": [
      "cpu\n"
     ]
    }
   ],
   "source": [
    "# check device waarop de code runt\n",
    "device = torch.device(\"cuda:0\" if torch.cuda.is_available() else \"cpu\")\n",
    "\n",
    "print(device)"
   ]
  },
  {
   "cell_type": "code",
   "execution_count": 4,
   "metadata": {},
   "outputs": [
    {
     "name": "stderr",
     "output_type": "stream",
     "text": [
      "Some weights of the model checkpoint at GroNLP/bert-base-dutch-cased were not used when initializing BertModel: ['cls.predictions.transform.dense.bias', 'cls.predictions.bias', 'cls.predictions.transform.LayerNorm.weight', 'cls.predictions.transform.dense.weight', 'cls.predictions.transform.LayerNorm.bias']\n",
      "- This IS expected if you are initializing BertModel from the checkpoint of a model trained on another task or with another architecture (e.g. initializing a BertForSequenceClassification model from a BertForPreTraining model).\n",
      "- This IS NOT expected if you are initializing BertModel from the checkpoint of a model that you expect to be exactly identical (initializing a BertForSequenceClassification model from a BertForSequenceClassification model).\n",
      "Some weights of BertModel were not initialized from the model checkpoint at GroNLP/bert-base-dutch-cased and are newly initialized: ['bert.pooler.dense.bias', 'bert.pooler.dense.weight']\n",
      "You should probably TRAIN this model on a down-stream task to be able to use it for predictions and inference.\n"
     ]
    }
   ],
   "source": [
    "# gebruik pretrained model (cased!): https://huggingface.co/GroNLP/bert-base-dutch-cased\n",
    "tokenizer = AutoTokenizer.from_pretrained(\"GroNLP/bert-base-dutch-cased\")\n",
    "model = AutoModel.from_pretrained(\"GroNLP/bert-base-dutch-cased\")  # PyTorch"
   ]
  },
  {
   "cell_type": "code",
   "execution_count": null,
   "metadata": {},
   "outputs": [],
   "source": [
    "# inladen & mergen data\n",
    "def merge_annotated_data(naam_dataset, n_annotators, n_annotations = 3):\n",
    "    \"\"\" functie die de gesplitste data gesplitst door split_annotated_data weer kan samenvoegen.\n",
    "    De datasets met de naam naam_dataset_n_annotators.csv worden ingeladen. Vervolgens wordt de oorspronkelijke dataset gereconstrueerd\n",
    "    uit de ingeladen data. De oorspronkelijke zinnen en het overzicht van de labels wordt gereturned.\n",
    "\n",
    "    Input:\n",
    "    naam_dataset: str, de naam van de documenen die de annotators hebben ingevuld\n",
    "    n_annotators: int, het aantal annotators\n",
    "    n_annotations: int, het aantal annotations per zin. default 3\n",
    "\n",
    "    Output:\n",
    "    merged_data: een DataFrame met daarin de oorspronkelijke data en de n_annotations labels die zijn toegekend.\n",
    "    \"\"\"\n",
    "    # inladen path naar data en creëren lege frames\n",
    "    dataset_path = \"~/Projecten/programma-discriminatie-en-racisme/datasets/Datasets_2/\"\n",
    "    merged_data = pd.DataFrame()\n",
    "\n",
    "    for i in range(n_annotators):\n",
    "        # inladen annotated documenten en samenvoegen\n",
    "        annotated_doc = pd.read_excel(dataset_path + naam_dataset + \"_\" + str(i) + '.xlsx')\n",
    "        annotated_doc = annotated_doc.dropna(subset=['Label', 'text', 'Column1'])\n",
    "        print(len(annotated_doc))\n",
    "        columns = list(annotated_doc.columns)\n",
    "\n",
    "        #display(annotated_doc)\n",
    "\n",
    "        # document opstellen\n",
    "        if i == 0:\n",
    "            merged_data = annotated_doc\n",
    "        else:\n",
    "            merged_data = pd.concat([merged_data, annotated_doc])\n",
    "    \n",
    "    extra_zoekwoorden = pd.read_excel(dataset_path + 'te_verwijderen.xlsx')\n",
    "    merged_data = pd.concat([merged_data, extra_zoekwoorden])\n",
    "    \n",
    "    missende_zoekwoorden = pd.read_excel(dataset_path + 'missing_words.xlsx')\n",
    "    merged_data = pd.concat([merged_data, missende_zoekwoorden])\n",
    "    \n",
    "    extra_migratie = pd.read_excel(dataset_path + 'extra_migrate.xlsx')\n",
    "    merged_data = pd.concat([merged_data, extra_migratie])\n",
    "    \n",
    "    herlabelled = pd.read_excel(dataset_path + 'herlabellen.xlsx')\n",
    "    merged_data = pd.concat([merged_data, herlabelled])\n",
    "    \n",
    "    #display(merged_data)\n",
    "\n",
    "    aggregated_data = merged_data.groupby(['Column1']).agg({'id': 'last', 'titel': 'last', 'text': 'last', 'zin': 'last', 'word': 'last', 'Label': 'last'})\n",
    "    \n",
    "    print(len(merged_data), len(aggregated_data)) \n",
    "    \n",
    "    #aggregated_data = aggregated_data.sort_values(by = ['Column1'])\n",
    "\n",
    "    return pd.DataFrame(merged_data), pd.DataFrame(aggregated_data)\n",
    "\n",
    "merged, aggregated = merge_annotated_data('te_labellen', n_annotators = 8, n_annotations = 3)\n",
    "\n",
    "display(merged)"
   ]
  },
  {
   "cell_type": "code",
   "execution_count": null,
   "metadata": {},
   "outputs": [],
   "source": [
    "# bekijken dataset\n",
    "print(merged.columns)\n",
    "\n",
    "pos = len(aggregated[aggregated.Label == 1.0])\n",
    "neg = len(aggregated[aggregated.Label==0.0])\n",
    "unclear = len(aggregated[aggregated.Label==4.0])\n",
    "useless = len(aggregated[aggregated.Label==7.0])\n",
    "\n",
    "print(f\"The dataset has {pos} biased and {neg} unbiased instances for a total of {pos+neg}. There are {unclear} unclear labels and {useless} useless instances.\")"
   ]
  },
  {
   "cell_type": "code",
   "execution_count": null,
   "metadata": {
    "scrolled": true
   },
   "outputs": [],
   "source": [
    "zoekwoorden_set = set(merged['word'])\n",
    "\n",
    "print(len(zoekwoorden_set))\n",
    "\n",
    "zoekwoorden = ['meerbloed', 'hij of zij', 'rolstoelgebonden', 'Andere achtergrond', 'westers', 'mbo-leerling', 'slaven', 'berber', 'joods', 'zwarte school', 'grensoverschrijdend gedrag', 'halfbloed', 'gekleurd', 'hij/zij', 'ontwikkelingslanden', 'plusklassen', 'doventolk', 'probleembuurt', 'zittenblijven', 'zwart', 'lager opgeleid', 'minderheden', 'handicap', 'blank', 'kaukasisch', 'juf ', 'begeleider', 'mohammedaan', 'gebarentolk', 'etnisch', 'bruin', 'thuiszitter', 'stroom', 'derde wereld', 'privilege', 'islam ', 'fobie', 'dubbelbloed', 'stromen', 'non-binair', 'inheems', 'ras', 'excellente school', 'speciaal onderwijs', 'gouden eeuw', 'transseksueel', 'man', 'page', 'rolstoeler', 'ontdekken', 'anderstalig', 'opstromen', 'caribisch gebied', 'gehandicapt', 'rolstoelrijder', 'slavernijverleden', 'hoogopgeleid', 'travestiet', 'tussenpositie', 'witte school', 'slaaf', 'mavo', 'racisme', 'hoofddoek', 'jongen', 'achterstandsscore', 'turk', 'ontdekking', 'medicijnman', 'bediende', 'zigeuner', 'nieuwkomer', 'afstromen', 'arabisch', 'macht', 'exotisch', 'islamiet', 'eskimo', 'oostblok', 'laag opgeleid', 'transgender', 'geslacht', 'armoede', 'lagelonenlanden', 'bi-cultureel', 'verliefd', 'probleemkinderen', 'mbo-cursist', 'ouders', 'hermafrodiet', 'probleemwijk', 'achterstandsschool', 'primitief', 'praktisch geschoold', 'christen', 'mbo-deelnemer', 'dames en heren', 'kloof', 'vluchtelingencrisis', 'achterstandsleerling', 'nieuwe nederlander', 'indiaan', 'queer', 'autochtoon', 'theoretisch geschoold', 'donker', 'meisje', 'allochtoon', 'bicultureel', 'hetero', 'west', 'homo', 'laagopgeleid', 'vrouw', 'seksueel', 'traditie', 'passend onderwijs', 'migranten', 'dwerg', 'achterstandsscholen']\n",
    "zoekwoorden = set(zoekwoorden)\n",
    "\n",
    "afwezig = zoekwoorden - zoekwoorden_set\n",
    "print(len(afwezig))\n",
    "\n",
    "print(afwezig)"
   ]
  },
  {
   "cell_type": "code",
   "execution_count": null,
   "metadata": {},
   "outputs": [],
   "source": [
    "dataset_path = \"~/Projecten/programma-discriminatie-en-racisme/datasets/\"\n",
    "zoekwoorden = pd.read_excel(dataset_path + \"Zoekwoorden15.03.24.xlsx\", names = ['Categorie', 'Zoekwoord', 'Doel', 'Voorkeur', 'Vermijden', 'Toelichting'])\n",
    "\n",
    "search_dict = dict(zip(zoekwoorden['Zoekwoord'], zoekwoorden['Categorie']))\n",
    "#print(search_dict)\n",
    "\n",
    "# leuk grafiekje van hoe vaak woorden voorkomen\n",
    "word_freq = {}\n",
    "i = 0\n",
    "\n",
    "for woord in merged['word']:\n",
    "    category = search_dict[woord]\n",
    "    \n",
    "    if category in word_freq:\n",
    "        word_freq[category] += 1\n",
    "    elif pd.isna(woord) == True:\n",
    "        pass\n",
    "    else:\n",
    "        word_freq[category] = 1\n",
    "        \n",
    "mycmap = plt.get_cmap(\"viridis\").colors\n",
    "        \n",
    "plt.bar(word_freq.keys(), word_freq.values(), color = mycmap)\n",
    "plt.xticks(rotation=90)\n",
    "plt.xlabel('Category')\n",
    "plt.ylabel('Word')\n",
    "plt.title('Frequency of search word categories in dataset')\n",
    "plt.show()\n",
    "\n",
    "print(word_freq)"
   ]
  },
  {
   "cell_type": "code",
   "execution_count": 227,
   "metadata": {},
   "outputs": [],
   "source": [
    "# implementeer undersampling, oversampling, normaal sampling\n",
    "def sampling_strategy(input_frame, strategy = 'normal', max = 1.0, balance = 0.5):\n",
    "    if strategy == 'oversampling': # F1 = 0.78\n",
    "        pos = input_frame[input_frame.label == 1.0]\n",
    "        neg = input_frame[input_frame.label==0.0]\n",
    "        output_frame = pd.concat([pos, pos, neg]) # double the sample of positive instances\n",
    "        \n",
    "    elif strategy == 'undersampling': # F1 = 0.80\n",
    "        pos = input_frame[input_frame.label == 1.0]\n",
    "        neg = input_frame[input_frame.label==0.0]\n",
    "        max_len = int(max*len(neg))\n",
    "        output_frame = pd.concat([pos, neg[0:max_len]])\n",
    "        \n",
    "    elif strategy == 'balanced': # F1 =\n",
    "        # len(input_frame) = len(output_frame)\n",
    "        pos = input_frame[input_frame.label == 1.0]\n",
    "        neg = input_frame[input_frame.label==0.0]\n",
    "        neg_len = int(len(input_frame) * balance)\n",
    "        pos_extra_len = len(input_frame) - neg_len - len(pos)\n",
    "        output_frame = pd.concat([pos, neg[0:neg_len]])\n",
    "        \n",
    "        while pos_extra_len/len(pos) > 1:\n",
    "            output_frame = pd.concat([output_frame, pos]) # heel extra frame toevoegen\n",
    "            pos_extra_len -= len(pos)\n",
    "            \n",
    "        # anders: overig toevoegen\n",
    "        output_frame = pd.concat([output_frame, pos[0:pos_extra_len]])\n",
    "    \n",
    "    else: #strategy = 'normal' # F1 = 0.78\n",
    "        output_frame = input_frame[input_frame.label < 2.0] # behoudt alleen labels 0 en 1\n",
    "    return output_frame"
   ]
  },
  {
   "cell_type": "code",
   "execution_count": 228,
   "metadata": {},
   "outputs": [
    {
     "name": "stdout",
     "output_type": "stream",
     "text": [
      "4679\n"
     ]
    },
    {
     "data": {
      "text/html": [
       "<div>\n",
       "<style scoped>\n",
       "    .dataframe tbody tr th:only-of-type {\n",
       "        vertical-align: middle;\n",
       "    }\n",
       "\n",
       "    .dataframe tbody tr th {\n",
       "        vertical-align: top;\n",
       "    }\n",
       "\n",
       "    .dataframe thead th {\n",
       "        text-align: right;\n",
       "    }\n",
       "</style>\n",
       "<table border=\"1\" class=\"dataframe\">\n",
       "  <thead>\n",
       "    <tr style=\"text-align: right;\">\n",
       "      <th></th>\n",
       "      <th>id</th>\n",
       "      <th>titel</th>\n",
       "      <th>text</th>\n",
       "      <th>zin</th>\n",
       "      <th>word</th>\n",
       "      <th>Label</th>\n",
       "    </tr>\n",
       "    <tr>\n",
       "      <th>Column1</th>\n",
       "      <th></th>\n",
       "      <th></th>\n",
       "      <th></th>\n",
       "      <th></th>\n",
       "      <th></th>\n",
       "      <th></th>\n",
       "    </tr>\n",
       "  </thead>\n",
       "  <tbody>\n",
       "    <tr>\n",
       "      <td>38</td>\n",
       "      <td>81da7a4b-29e5-44e3-b462-00428735270c</td>\n",
       "      <td>Wijziging van Boek 7 van het Burgerlijk Wetboe...</td>\n",
       "      <td>door tegelijkertijd voor werkgevers de verschi...</td>\n",
       "      <td>6</td>\n",
       "      <td>stromen</td>\n",
       "      <td>0.0</td>\n",
       "    </tr>\n",
       "    <tr>\n",
       "      <td>50</td>\n",
       "      <td>4f2497a6-1b5f-4a9c-b30e-00cd3d7cb3c7</td>\n",
       "      <td>Goedkeuring van het voornemen tot opzegging va...</td>\n",
       "      <td>de regering is zich zeer bewust van de nederla...</td>\n",
       "      <td>3</td>\n",
       "      <td>traditie</td>\n",
       "      <td>0.0</td>\n",
       "    </tr>\n",
       "    <tr>\n",
       "      <td>53</td>\n",
       "      <td>c2ef8e51-9249-4959-a745-00ce9e84b5e8</td>\n",
       "      <td>Voorstel van wet van de leden Van der Graaf, J...</td>\n",
       "      <td>dienovereenkomstig streeft elke partij ernaar ...</td>\n",
       "      <td>24</td>\n",
       "      <td>stromen</td>\n",
       "      <td>0.0</td>\n",
       "    </tr>\n",
       "    <tr>\n",
       "      <td>110</td>\n",
       "      <td>e8aa1cd5-42a5-49c6-abd6-0124493a0edc</td>\n",
       "      <td>Voorstel van wet van de leden Bergkamp, Özütok...</td>\n",
       "      <td>tweede kamer der staten-generaal 2 vergaderjaa...</td>\n",
       "      <td>1</td>\n",
       "      <td>hetero</td>\n",
       "      <td>0.0</td>\n",
       "    </tr>\n",
       "    <tr>\n",
       "      <td>112</td>\n",
       "      <td>e8aa1cd5-42a5-49c6-abd6-0124493a0edc</td>\n",
       "      <td>Voorstel van wet van de leden Bergkamp, Özütok...</td>\n",
       "      <td>b in de beweegreden wordt «hetero- of homoseks...</td>\n",
       "      <td>3</td>\n",
       "      <td>hetero</td>\n",
       "      <td>0.0</td>\n",
       "    </tr>\n",
       "    <tr>\n",
       "      <td>...</td>\n",
       "      <td>...</td>\n",
       "      <td>...</td>\n",
       "      <td>...</td>\n",
       "      <td>...</td>\n",
       "      <td>...</td>\n",
       "      <td>...</td>\n",
       "    </tr>\n",
       "    <tr>\n",
       "      <td>9870</td>\n",
       "      <td>304fdfcb-c3e7-4373-ad19-482bf732d147</td>\n",
       "      <td>Wijziging van de Wet op het hoger onderwijs en...</td>\n",
       "      <td>ten aanzien van studenten die tijdelijk een an...</td>\n",
       "      <td>7</td>\n",
       "      <td>stromen</td>\n",
       "      <td>0.0</td>\n",
       "    </tr>\n",
       "    <tr>\n",
       "      <td>9874</td>\n",
       "      <td>304fdfcb-c3e7-4373-ad19-482bf732d147</td>\n",
       "      <td>Wijziging van de Wet op het hoger onderwijs en...</td>\n",
       "      <td>een functiestoornis is een langdurige of blijv...</td>\n",
       "      <td>21</td>\n",
       "      <td>fobie</td>\n",
       "      <td>1.0</td>\n",
       "    </tr>\n",
       "    <tr>\n",
       "      <td>9910</td>\n",
       "      <td>314097a8-6eb5-4d89-99e4-485cbfbe552a</td>\n",
       "      <td>Wijziging van enkele belastingwetten en enige ...</td>\n",
       "      <td>een prejudiciële procedure is daarmee niet all...</td>\n",
       "      <td>19</td>\n",
       "      <td>macht</td>\n",
       "      <td>0.0</td>\n",
       "    </tr>\n",
       "    <tr>\n",
       "      <td>9949</td>\n",
       "      <td>e18653b4-fb0b-46ab-9c81-495f59dbdeab</td>\n",
       "      <td>Wijziging van de Wet op de vennootschapsbelast...</td>\n",
       "      <td>de gedachte achter de raming is dat vrijwel al...</td>\n",
       "      <td>23</td>\n",
       "      <td>stromen</td>\n",
       "      <td>0.0</td>\n",
       "    </tr>\n",
       "    <tr>\n",
       "      <td>9950</td>\n",
       "      <td>e18653b4-fb0b-46ab-9c81-495f59dbdeab</td>\n",
       "      <td>Wijziging van de Wet op de vennootschapsbelast...</td>\n",
       "      <td>de gedachte achter de raming is dat vrijwel al...</td>\n",
       "      <td>23</td>\n",
       "      <td>stromen</td>\n",
       "      <td>0.0</td>\n",
       "    </tr>\n",
       "  </tbody>\n",
       "</table>\n",
       "<p>3632 rows × 6 columns</p>\n",
       "</div>"
      ],
      "text/plain": [
       "                                           id  \\\n",
       "Column1                                         \n",
       "38       81da7a4b-29e5-44e3-b462-00428735270c   \n",
       "50       4f2497a6-1b5f-4a9c-b30e-00cd3d7cb3c7   \n",
       "53       c2ef8e51-9249-4959-a745-00ce9e84b5e8   \n",
       "110      e8aa1cd5-42a5-49c6-abd6-0124493a0edc   \n",
       "112      e8aa1cd5-42a5-49c6-abd6-0124493a0edc   \n",
       "...                                       ...   \n",
       "9870     304fdfcb-c3e7-4373-ad19-482bf732d147   \n",
       "9874     304fdfcb-c3e7-4373-ad19-482bf732d147   \n",
       "9910     314097a8-6eb5-4d89-99e4-485cbfbe552a   \n",
       "9949     e18653b4-fb0b-46ab-9c81-495f59dbdeab   \n",
       "9950     e18653b4-fb0b-46ab-9c81-495f59dbdeab   \n",
       "\n",
       "                                                     titel  \\\n",
       "Column1                                                      \n",
       "38       Wijziging van Boek 7 van het Burgerlijk Wetboe...   \n",
       "50       Goedkeuring van het voornemen tot opzegging va...   \n",
       "53       Voorstel van wet van de leden Van der Graaf, J...   \n",
       "110      Voorstel van wet van de leden Bergkamp, Özütok...   \n",
       "112      Voorstel van wet van de leden Bergkamp, Özütok...   \n",
       "...                                                    ...   \n",
       "9870     Wijziging van de Wet op het hoger onderwijs en...   \n",
       "9874     Wijziging van de Wet op het hoger onderwijs en...   \n",
       "9910     Wijziging van enkele belastingwetten en enige ...   \n",
       "9949     Wijziging van de Wet op de vennootschapsbelast...   \n",
       "9950     Wijziging van de Wet op de vennootschapsbelast...   \n",
       "\n",
       "                                                      text zin      word  \\\n",
       "Column1                                                                    \n",
       "38       door tegelijkertijd voor werkgevers de verschi...   6   stromen   \n",
       "50       de regering is zich zeer bewust van de nederla...   3  traditie   \n",
       "53       dienovereenkomstig streeft elke partij ernaar ...  24   stromen   \n",
       "110      tweede kamer der staten-generaal 2 vergaderjaa...   1    hetero   \n",
       "112      b in de beweegreden wordt «hetero- of homoseks...   3    hetero   \n",
       "...                                                    ...  ..       ...   \n",
       "9870     ten aanzien van studenten die tijdelijk een an...   7   stromen   \n",
       "9874     een functiestoornis is een langdurige of blijv...  21     fobie   \n",
       "9910     een prejudiciële procedure is daarmee niet all...  19     macht   \n",
       "9949     de gedachte achter de raming is dat vrijwel al...  23   stromen   \n",
       "9950     de gedachte achter de raming is dat vrijwel al...  23   stromen   \n",
       "\n",
       "         Label  \n",
       "Column1         \n",
       "38         0.0  \n",
       "50         0.0  \n",
       "53         0.0  \n",
       "110        0.0  \n",
       "112        0.0  \n",
       "...        ...  \n",
       "9870       0.0  \n",
       "9874       1.0  \n",
       "9910       0.0  \n",
       "9949       0.0  \n",
       "9950       0.0  \n",
       "\n",
       "[3632 rows x 6 columns]"
      ]
     },
     "metadata": {},
     "output_type": "display_data"
    },
    {
     "name": "stdout",
     "output_type": "stream",
     "text": [
      "2714 727 727\n",
      "179\n"
     ]
    }
   ],
   "source": [
    "print(len(aggregated))\n",
    "\n",
    "# prepareer dataset voor inladen in model\n",
    "model_data = aggregated[aggregated.Label < 2.0]\n",
    "#model_data = sampling_strategy(aggregated, strategy = 'undersampling', max = 0.7)\n",
    "display(model_data)\n",
    "\n",
    "model_data = model_data.drop(columns = ['id', 'titel', 'zin'])\n",
    "model_data = model_data.rename(columns={\"Label\": \"label\", 'text': 'text'}) # totaalscore/label = doel, text = ingelezen tekst\n",
    "\n",
    "# split dataset: 60% train, 20% val, 20% test\n",
    "train_val_df, test_df_words = train_test_split(model_data, test_size=0.20, stratify = model_data['label'], random_state=seed)\n",
    "train_df_words, val_df_words = train_test_split(train_val_df, test_size=0.25, stratify = train_val_df['label'], random_state=seed)\n",
    "\n",
    "train_df_words = sampling_strategy(train_df_words, strategy = 'oversampling')\n",
    "\n",
    "train_df = train_df_words.drop(columns = ['word'])\n",
    "val_df = val_df_words.drop(columns = ['word'])\n",
    "test_df = test_df_words.drop(columns = ['word'])\n",
    "\n",
    "print(len(train_df), len(val_df), len(test_df))\n",
    "print(len(val_df[val_df['label']==1.0]))"
   ]
  },
  {
   "cell_type": "code",
   "execution_count": 231,
   "metadata": {},
   "outputs": [
    {
     "name": "stdout",
     "output_type": "stream",
     "text": [
      "42\n",
      "4\n",
      "{nan, 'achterstandsleerling', 'verliefd', 'oostblok'}\n"
     ]
    }
   ],
   "source": [
    "zoekwoorden_set = set(test_df_words['word'])\n",
    "\n",
    "print(len(zoekwoorden_set))\n",
    "\n",
    "zoekwoorden = set(merged['word'])\n",
    "\n",
    "afwezig = zoekwoorden - zoekwoorden_set\n",
    "print(len(afwezig))\n",
    "print(afwezig)"
   ]
  },
  {
   "cell_type": "code",
   "execution_count": 229,
   "metadata": {},
   "outputs": [
    {
     "data": {
      "image/png": "[encoded data removed]",
      "text/plain": [
       "<Figure size 432x288 with 1 Axes>"
      ]
     },
     "metadata": {
      "needs_background": "light"
     },
     "output_type": "display_data"
    },
    {
     "name": "stdout",
     "output_type": "stream",
     "text": [
      "{'ouders': 162, 'islam': 45, 'gehandicapt': 181, 'geslacht': 176, 'migranten': 126, 'mankracht': 110, 'hoogopgeleid': 53, 'nieuwkomer': 10, 'meisje': 87, 'stromen': 336, 'afstromen': 18, 'stroom': 290, 'slaaf': 14, 'armoede': 131, 'arabisch': 21, 'homo': 15, 'laagopgeleid': 28, 'slaven': 10, 'minderheden': 52, 'juf': 11, 'thuiszitter': 6, 'macht': 238, 'seksueel': 252, 'slavernijverleden': 19, 'transgender': 61, 'hetero': 28, 'anderstalig': 34, 'traditie': 30, 'hoofddoek': 17, 'kloof': 19, 'vluchtelingencrisis': 11, 'zittenblijven': 14, 'opstromen': 10, 'achterstandsleerling': 4, 'verliefd': 5, 'privilege': 12, 'jongen': 8, 'oostblok': 2, 'christen': 25, 'joods': 10, 'blank': 6, 'racisme': 21, 'inheems': 5, 'fobie': 1}\n"
     ]
    },
    {
     "data": {
      "image/png": "[encoded data removed]",
      "text/plain": [
       "<Figure size 432x288 with 1 Axes>"
      ]
     },
     "metadata": {
      "needs_background": "light"
     },
     "output_type": "display_data"
    },
    {
     "name": "stdout",
     "output_type": "stream",
     "text": [
      "{'geslacht': 62, 'stromen': 97, 'gehandicapt': 25, 'laagopgeleid': 6, 'ouders': 41, 'stroom': 95, 'anderstalig': 11, 'meisje': 13, 'minderheden': 11, 'traditie': 6, 'blank': 3, 'afstromen': 6, 'mankracht': 19, 'armoede': 46, 'seksueel': 72, 'jongen': 4, 'transgender': 13, 'racisme': 6, 'islam': 10, 'christen': 7, 'kloof': 2, 'migranten': 38, 'nieuwkomer': 3, 'hetero': 16, 'macht': 72, 'arabisch': 8, 'juf': 2, 'slaaf': 1, 'privilege': 3, 'slavernijverleden': 3, 'opstromen': 2, 'slaven': 3, 'homo': 3, 'inheems': 1, 'hoogopgeleid': 4, 'fobie': 2, 'hoofddoek': 2, 'joods': 3, 'zittenblijven': 3, 'thuiszitter': 1, 'tussenpositie': 1, 'vluchtelingencrisis': 1}\n"
     ]
    }
   ],
   "source": [
    "# hoe vaak zitten woorden in de train set?\n",
    "word_freq = {}\n",
    "\n",
    "for woord in train_df_words['word']:\n",
    "    if woord in word_freq:\n",
    "        word_freq[woord] += 1\n",
    "    elif pd.isna(woord) == True:\n",
    "        pass\n",
    "    else:\n",
    "        word_freq[woord] = 1\n",
    "        \n",
    "mycmap = plt.get_cmap(\"viridis\").colors\n",
    "        \n",
    "plt.bar(word_freq.keys(), word_freq.values(), color = mycmap)\n",
    "plt.xticks(rotation=90)\n",
    "plt.xlabel('Woord')\n",
    "plt.ylabel('Frequentie')\n",
    "plt.title('Aantal keer dat woorden voorkomen in de train dataset')\n",
    "plt.show()\n",
    "\n",
    "print(word_freq)\n",
    "\n",
    "# en in de test set?\n",
    "word_freq = {}\n",
    "\n",
    "for woord in test_df_words['word']:\n",
    "    if woord in word_freq:\n",
    "        word_freq[woord] += 1\n",
    "    elif pd.isna(woord) == True:\n",
    "        pass\n",
    "    else:\n",
    "        word_freq[woord] = 1\n",
    "        \n",
    "mycmap = plt.get_cmap(\"viridis\").colors\n",
    "        \n",
    "plt.bar(word_freq.keys(), word_freq.values(), color = mycmap)\n",
    "plt.xticks(rotation=90)\n",
    "plt.xlabel('Woord')\n",
    "plt.ylabel('Frequentie')\n",
    "plt.title('Aantal keer dat woorden voorkomen in de test dataset')\n",
    "plt.show()\n",
    "\n",
    "print(word_freq)"
   ]
  },
  {
   "cell_type": "code",
   "execution_count": 298,
   "metadata": {},
   "outputs": [
    {
     "name": "stderr",
     "output_type": "stream",
     "text": [
      "Some weights of the model checkpoint at GroNLP/bert-base-dutch-cased were not used when initializing BertForSequenceClassification: ['cls.predictions.transform.dense.bias', 'cls.predictions.bias', 'cls.predictions.transform.LayerNorm.weight', 'cls.predictions.transform.dense.weight', 'cls.predictions.transform.LayerNorm.bias']\n",
      "- This IS expected if you are initializing BertForSequenceClassification from the checkpoint of a model trained on another task or with another architecture (e.g. initializing a BertForSequenceClassification model from a BertForPreTraining model).\n",
      "- This IS NOT expected if you are initializing BertForSequenceClassification from the checkpoint of a model that you expect to be exactly identical (initializing a BertForSequenceClassification model from a BertForSequenceClassification model).\n",
      "Some weights of BertForSequenceClassification were not initialized from the model checkpoint at GroNLP/bert-base-dutch-cased and are newly initialized: ['bert.pooler.dense.weight', 'bert.pooler.dense.bias', 'classifier.weight', 'classifier.bias']\n",
      "You should probably TRAIN this model on a down-stream task to be able to use it for predictions and inference.\n"
     ]
    }
   ],
   "source": [
    "# define hyperparameters\n",
    "# to change parameters: zie https://simpletransformers.ai/docs/usage/#configuring-a-simple-transformers-model\n",
    "train_args ={\"reprocess_input_data\": True, # tokenization gebeurt binnen model\n",
    "             \"fp16\":False, # vorm van de input van de data\n",
    "             \"silent\": False, # zeker weten dat progress bars worden geprint\n",
    "             \"use_multiprocessing\": False, # versnelt training\n",
    "             \"use_multiprocessing_for_evaluation\": False, # versnelt training\n",
    "             \"overwrite_output_dir\": True, # niet ieder model opslaan\n",
    "             \"save_total_limit\": 2, # slaat meest recente en beste epoch op\n",
    "             \"save_strategy\": 'no', # niet tussentijds opslaan\n",
    "             \"load_best_model_at_end\": True, # het beste model inladen\n",
    "             \"num_train_epochs\": 7, # hoeveel epochs\n",
    "             \"learning_rate\": 0.000002, # learning rate\n",
    "             \"weight_decay\": 0.15,\n",
    "             \"optimizer\": 'AdamW',\n",
    "             #\"loss_type\": \"custom\",\n",
    "             #\"hidden_dropout_prob\": 0.5,\n",
    "             \"evaluate_during_training\": True, # om validation data in te laten\n",
    "            \"evaluation_strategy\":\"epoch\", # slaat een tussentijds model op om te evalueren\n",
    "            #\"eval_steps\": 2000, # hoe vaak het model wordt opgeslagen\n",
    "            \"train_batch_size\": 4, # batch size trainingsdata\n",
    "            \"eval_batch_size\": 4} # batch size validation data\n",
    "\n",
    "model_args = ClassificationArgs()\n",
    "model_args.reprocess_input_data = True\n",
    "model_args.fp16 = False\n",
    "model_args.silent = False\n",
    "model_args.use_multiprocessing = False\n",
    "model_args.use_multiprocessing_for_evaluation = False\n",
    "model_args.overwrite_output_dir = True\n",
    "model_args.save_total_limit = 2\n",
    "model_args.save_strategy = \"no\"\n",
    "model_args.load_best_model_at_end = True\n",
    "model_args.num_train_epochs = 4\n",
    "model_args.learning_rate = 0.000002\n",
    "model_args.optimizer = \"AdamW\"\n",
    "model_args.relative_step = True\n",
    "model_args.warmup_init = True\n",
    "model_args.evaluation_during_training = True\n",
    "model_args.evaluation_strategy = \"epoch\"\n",
    "model_args.hidden_dropout_prob = 0.5\n",
    "model_args.train_batch_size = 8\n",
    "model_args.eval_batch_size = 8\n",
    "model_args.no_cache = False\n",
    "#model_args.loss_type = 'focal'\n",
    "#model_args.weight_decay = 0.1\n",
    "\n",
    "# Create a ClassificationModel (code uit bron; zie bovenaan notebook)\n",
    "model = ClassificationModel(\n",
    "    \"bert\", \"GroNLP/bert-base-dutch-cased\", # Nederlands!!\n",
    "    #\"bert\", \"bert-base-uncased\", # English!!\n",
    "    num_labels=2, # hoeveel mogelijke targets er zijn\n",
    "    args=train_args,\n",
    "    use_cuda=False # omdat dit op de cpu draait\n",
    ")"
   ]
  },
  {
   "cell_type": "code",
   "execution_count": 299,
   "metadata": {
    "scrolled": true
   },
   "outputs": [
    {
     "data": {
      "application/vnd.jupyter.widget-view+json": {
       "model_id": "004483d902f142ba805c3de5c83c3f66",
       "version_major": 2,
       "version_minor": 0
      },
      "text/plain": [
       "Epoch:   0%|          | 0/7 [00:00<?, ?it/s]"
      ]
     },
     "metadata": {},
     "output_type": "display_data"
    },
    {
     "data": {
      "application/vnd.jupyter.widget-view+json": {
       "model_id": "818a46cd67314f14a72e772ae88a8ad6",
       "version_major": 2,
       "version_minor": 0
      },
      "text/plain": [
       "Running Epoch 0 of 7:   0%|          | 0/679 [00:00<?, ?it/s]"
      ]
     },
     "metadata": {},
     "output_type": "display_data"
    },
    {
     "data": {
      "application/vnd.jupyter.widget-view+json": {
       "model_id": "bae3fb1f371f4ed3b64fab3a464ef5ef",
       "version_major": 2,
       "version_minor": 0
      },
      "text/plain": [
       "Running Epoch 1 of 7:   0%|          | 0/679 [00:00<?, ?it/s]"
      ]
     },
     "metadata": {},
     "output_type": "display_data"
    },
    {
     "data": {
      "application/vnd.jupyter.widget-view+json": {
       "model_id": "0f6d874fad1843cea5b5a53eb043867e",
       "version_major": 2,
       "version_minor": 0
      },
      "text/plain": [
       "Running Epoch 2 of 7:   0%|          | 0/679 [00:00<?, ?it/s]"
      ]
     },
     "metadata": {},
     "output_type": "display_data"
    },
    {
     "data": {
      "application/vnd.jupyter.widget-view+json": {
       "model_id": "fe68a94c73c7408f96b588201d312790",
       "version_major": 2,
       "version_minor": 0
      },
      "text/plain": [
       "Running Epoch 3 of 7:   0%|          | 0/679 [00:00<?, ?it/s]"
      ]
     },
     "metadata": {},
     "output_type": "display_data"
    },
    {
     "data": {
      "application/vnd.jupyter.widget-view+json": {
       "model_id": "ef441b0c73cf4bf0bba9a28e5eb665c9",
       "version_major": 2,
       "version_minor": 0
      },
      "text/plain": [
       "Running Epoch 4 of 7:   0%|          | 0/679 [00:00<?, ?it/s]"
      ]
     },
     "metadata": {},
     "output_type": "display_data"
    },
    {
     "data": {
      "application/vnd.jupyter.widget-view+json": {
       "model_id": "169c40c6c16249b7b4d17460e6335e12",
       "version_major": 2,
       "version_minor": 0
      },
      "text/plain": [
       "Running Epoch 5 of 7:   0%|          | 0/679 [00:00<?, ?it/s]"
      ]
     },
     "metadata": {},
     "output_type": "display_data"
    },
    {
     "data": {
      "application/vnd.jupyter.widget-view+json": {
       "model_id": "3f43f7367a7d4c31b3cf53936526cebf",
       "version_major": 2,
       "version_minor": 0
      },
      "text/plain": [
       "Running Epoch 6 of 7:   0%|          | 0/679 [00:00<?, ?it/s]"
      ]
     },
     "metadata": {},
     "output_type": "display_data"
    },
    {
     "name": "stderr",
     "output_type": "stream",
     "text": [
      "IOPub message rate exceeded.\n",
      "The notebook server will temporarily stop sending output\n",
      "to the client in order to avoid crashing it.\n",
      "To change this limit, set the config variable\n",
      "`--NotebookApp.iopub_msg_rate_limit`.\n",
      "\n",
      "Current values:\n",
      "NotebookApp.iopub_msg_rate_limit=1000.0 (msgs/sec)\n",
      "NotebookApp.rate_limit_window=3.0 (secs)\n",
      "\n"
     ]
    }
   ],
   "source": [
    "# trainen!\n",
    "train_results = model.train_model(train_df = train_df, eval_df = val_df)"
   ]
  },
  {
   "cell_type": "code",
   "execution_count": 300,
   "metadata": {},
   "outputs": [
    {
     "name": "stdout",
     "output_type": "stream",
     "text": [
      "The history saving thread hit an unexpected error (OperationalError('database or disk is full')).History will not be written to the database.\n"
     ]
    },
    {
     "data": {
      "application/vnd.jupyter.widget-view+json": {
       "model_id": "e96f85eaf8374315814650bb6f49c3ec",
       "version_major": 2,
       "version_minor": 0
      },
      "text/plain": [
       "Running Evaluation:   0%|          | 0/182 [00:00<?, ?it/s]"
      ]
     },
     "metadata": {},
     "output_type": "display_data"
    }
   ],
   "source": [
    "# testen\n",
    "from sklearn.metrics import f1_score, accuracy_score\n",
    "\n",
    "# om f1 te kunnen genereren\n",
    "def f1_multiclass(labels, preds):\n",
    "    return f1_score(labels, preds, average='macro')\n",
    "\n",
    "result, model_outputs, wrong_predictions = model.eval_model(test_df, f1=f1_multiclass, acc=accuracy_score)\n"
   ]
  },
  {
   "cell_type": "code",
   "execution_count": null,
   "metadata": {},
   "outputs": [],
   "source": [
    "# resultaten: mcc = , tp = true positives, tn = true negatives, fp = false negatives, fn = false negatives\n",
    "print(result)\n",
    "\n",
    "# 0.7806059741456883, lr = 0.00002, batch = 8, oversampling\n",
    "# 0.7618282264590501, lr = 0.002, batch = 8, oversampling\n",
    "# 0.80, lr = default, batch = 8, undersampling\n",
    "# 0.7892210553443721, lr = 0.00002, batch = 24, oversampling\n",
    "# 0.7727849196570864, lr = 0.00002, batch = 24, balanced sampling\n",
    "# 0.7643486483807626, lr = 0.00002, batch = 24, undersampling\n",
    "# 0.7721387757070184, lr = 0.0002, batch = 24, undersampling\n",
    "# 0.7656888451873702, lr = default, batch = 8, undersampling\n",
    "# 0.7819736575481258, batch = 24, epochs = 8, oversampling (doubled)\n",
    "# 0.7618978588149389, hidden dropout of 0.5, balanced sampling\n",
    "# 0.7750330201139665, dropout 0.8, balanced sampling\n",
    "# 0.7470579808026853, category = oversampling\n",
    "# 0.7551529031388926, dropout 0.5, batch size = 4\n",
    "# 0.7599348682562457, weight decay = 0.01\n",
    "# 0.68260712156061, lr = 0.000002, weight decay = 0.1, batch = 8\n",
    "# 0.6687961596234598, lr = 0.000002, weight decay = 0\n",
    "# 0.7672738336177362, lr = 0.00002, weight decay = 0.1, batch = 24\n",
    "# 0.7565585210545067, epochs = 8, weight decay = 0.2\n",
    "# 0.7620034919249236, epochs = 8, batch = 8, weight decay = 0.2\n",
    "# 0.758152920054916, epochs = 16\n",
    "# 0.7524879530693485, epochs = 7, weight decay = 0.15\n",
    "# , batch size = 4"
   ]
  },
  {
   "cell_type": "code",
   "execution_count": null,
   "metadata": {},
   "outputs": [],
   "source": [
    "# maak een plotje van de loss\n",
    "print(train_results)\n",
    "\n",
    "train_losses = train_results[1]['train_loss']\n",
    "eval_losses = train_results[1]['eval_loss']\n",
    "\n",
    "plt.plot(train_losses, c = 'teal', label = 'train loss')\n",
    "plt.plot(eval_losses, c = 'deeppink', label = 'val loss')\n",
    "plt.legend()\n",
    "plt.ylabel('Loss')\n",
    "plt.xlabel('Epoch')\n",
    "plt.title('Training and evaluation loss over time')\n",
    "plt.show()"
   ]
  },
  {
   "cell_type": "code",
   "execution_count": 16,
   "metadata": {},
   "outputs": [
    {
     "name": "stdout",
     "output_type": "stream",
     "text": [
      "[[ 2.03758216 -2.35322595]\n",
      " [ 3.1558075  -4.14925909]\n",
      " [-2.12877727  2.4454608 ]\n",
      " ...\n",
      " [ 2.99353552 -3.3284359 ]\n",
      " [-1.45371222  1.68145931]\n",
      " [ 2.65058756 -3.34778738]]\n",
      "[[0.88468684 0.0868097 ]\n",
      " [0.95913694 0.01553108]\n",
      " [0.10633113 0.92022887]\n",
      " ...\n",
      " [0.95228123 0.03460845]\n",
      " [0.18943091 0.84309767]\n",
      " [0.9340472  0.03396769]]\n"
     ]
    }
   ],
   "source": [
    "print(model_outputs)\n",
    "\n",
    "probabilities = expit(model_outputs) # dit is de sigmoid van de voorspelling\n",
    "print(probabilities)"
   ]
  },
  {
   "cell_type": "code",
   "execution_count": 296,
   "metadata": {},
   "outputs": [
    {
     "data": {
      "application/vnd.jupyter.widget-view+json": {
       "model_id": "96a1b8c532d74401aeb1ec3be5e4567d",
       "version_major": 2,
       "version_minor": 0
      },
      "text/plain": [
       "  0%|          | 0/46 [00:00<?, ?it/s]"
      ]
     },
     "metadata": {},
     "output_type": "display_data"
    }
   ],
   "source": [
    "#print(list(test_df['text']))\n",
    "\n",
    "predictions, raw_outputs = model.predict(list(test_df['text']))\n"
   ]
  },
  {
   "cell_type": "code",
   "execution_count": 18,
   "metadata": {},
   "outputs": [
    {
     "name": "stdout",
     "output_type": "stream",
     "text": [
      "[0 0 1 0 0 1 0 0 0 1 0 0 0 1 0 0 0 0 0 0 1 1 1 0 1 0 0 0 0 0 0 1 0 0 0 0 0\n",
      " 0 0 0 1 0 0 0 0 0 0 1 0 0 0 0 1 0 0 0 0 0 1 0 0 1 0 1 0 0 1 0 0 1 0 1 0 0\n",
      " 0 0 0 0 1 1 0 0 0 0 0 0 0 1 0 1 1 0 1 0 0 0 0 0 0 0 1 1 0 0 0 0 0 0 0 0 0\n",
      " 1 0 1 0 0 0 0 1 0 0 0 0 0 0 0 0 0 1 0 0 0 0 1 0 0 0 0 0 0 0 0 0 1 0 0 0 0\n",
      " 0 0 1 0 0 0 1 0 0 0 0 0 0 0 0 1 0 1 0 0 0 1 1 0 0 0 0 0 1 0 0 0 0 0 0 0 0\n",
      " 0 0 1 0 0 0 1 0 0 0 1 0 1 0 0 1 1 0 0 0 0 0 0 0 0 1 0 1 0 1 0 0 0 0 0 0 0\n",
      " 0 0 0 1 0 0 1 0 0 0 1 1 0 1 0 0 0 0 0 0 0 0 0 0 1 1 0 1 0 1 1 0 0 0 0 0 0\n",
      " 0 0 0 0 0 0 0 0 0 0 1 0 0 1 0 0 0 0 0 1 0 0 0 0 1 0 0 0 0 0 0 0 0 0 1 0 0\n",
      " 0 0 0 0 0 1 0 1 0 0 0 0 0 0 0 0 0 0 1 1 1 0 0 1 0 1 0 1 0 0 0 0 0 0 1 0 1\n",
      " 0 1 0 1 0 0 0 0 0 0 0 0 0 0 0 0 0 1 0 0 0 0 0 0 1 0 0 0 0 1 0 0 0 0 0 0 1\n",
      " 0 0 0 0 0 0 0 0 0 0 0 0 0 1 0 0 1 0 0 1 1 0 0 0 0 0 0 0 0 0 0 0 1 1 0 0 1\n",
      " 0 0 0 0 1 1 1 1 0 1 1 0 0 0 0 0 0 0 0 0 1 0 0 0 0 1 1 0 0 0 0 0 0 1 0 0 0\n",
      " 0 0 0 0 0 0 0 0 0 0 0 0 1 0 0 0 1 1 0 1 1 0 0 0 0 1 0 0 0 0 0 0 0 1 1 1 0\n",
      " 0 0 1 0 0 0 0 0 1 0 0 0 0 0 0 1 0 0 0 0 0 0 0 0 1 1 0 1 1 1 0 0 1 0 0 0 0\n",
      " 0 1 0 0 0 1 0 0 0 0 0 0 0 0 0 1 0 0 0 0 0 1 0 0 1 0 0 0 0 0 0 1 0 0 0 0 1\n",
      " 0 0 0 0 0 0 0 0 0 1 1 0 0 0 0 0 0 0 0 0 0 0 0 0 0 0 0 0 0 0 0 0 0 0 0 0 0\n",
      " 0 0 0 0 1 0 0 0 0 0 1 0 1 0 0 1 0 0 0 0 0 0 0 0 0 0 0 0 0 0 0 0 1 0 0 0 1\n",
      " 0 0 1 0 0 0 0 0 1 0 0 0 0 0 0 0 0 0 0 0 0 0 0 0 0 1 0 0 0 0 0 0 1 1 0 1 0\n",
      " 0 1 0 0 0 0 0 0 0 0 1 0 0 1 0 0 0 0 1 0 0 0 0 1 1 1 0 0 1 0 0 1 0 0 0 0 0\n",
      " 0 1 0 1 0 0 0 0 1 0 1 1 0 0 1 0 0 1 1 0 1 0 1 0]\n",
      "[0.0, 0.0, 1.0, 0.0, 0.0, 1.0, 0.0, 0.0, 0.0, 1.0, 0.0, 0.0, 0.0, 1.0, 0.0, 0.0, 0.0, 0.0, 1.0, 0.0, 0.0, 0.0, 0.0, 0.0, 1.0, 1.0, 0.0, 0.0, 1.0, 0.0, 1.0, 1.0, 0.0, 1.0, 0.0, 1.0, 0.0, 0.0, 0.0, 0.0, 0.0, 1.0, 0.0, 0.0, 0.0, 0.0, 1.0, 1.0, 0.0, 0.0, 0.0, 1.0, 0.0, 0.0, 0.0, 0.0, 0.0, 1.0, 1.0, 0.0, 0.0, 1.0, 0.0, 0.0, 1.0, 1.0, 1.0, 0.0, 0.0, 1.0, 0.0, 1.0, 0.0, 0.0, 0.0, 0.0, 1.0, 0.0, 0.0, 0.0, 1.0, 0.0, 0.0, 0.0, 0.0, 1.0, 0.0, 1.0, 0.0, 1.0, 1.0, 0.0, 1.0, 1.0, 0.0, 0.0, 0.0, 1.0, 1.0, 0.0, 1.0, 1.0, 0.0, 0.0, 0.0, 0.0, 0.0, 0.0, 0.0, 0.0, 0.0, 1.0, 0.0, 1.0, 0.0, 0.0, 0.0, 0.0, 1.0, 0.0, 0.0, 0.0, 0.0, 0.0, 0.0, 0.0, 0.0, 0.0, 1.0, 0.0, 0.0, 0.0, 0.0, 1.0, 0.0, 0.0, 0.0, 0.0, 0.0, 0.0, 0.0, 1.0, 0.0, 1.0, 0.0, 0.0, 0.0, 0.0, 0.0, 0.0, 1.0, 0.0, 0.0, 0.0, 0.0, 1.0, 0.0, 0.0, 0.0, 0.0, 0.0, 1.0, 0.0, 0.0, 0.0, 1.0, 0.0, 0.0, 0.0, 1.0, 1.0, 0.0, 0.0, 0.0, 0.0, 0.0, 0.0, 0.0, 0.0, 0.0, 0.0, 1.0, 0.0, 1.0, 0.0, 0.0, 0.0, 0.0, 0.0, 0.0, 0.0, 0.0, 0.0, 0.0, 0.0, 1.0, 0.0, 1.0, 1.0, 0.0, 1.0, 1.0, 0.0, 0.0, 0.0, 0.0, 0.0, 0.0, 0.0, 0.0, 1.0, 0.0, 0.0, 0.0, 0.0, 1.0, 0.0, 0.0, 0.0, 0.0, 1.0, 0.0, 0.0, 0.0, 0.0, 1.0, 0.0, 0.0, 1.0, 0.0, 1.0, 1.0, 0.0, 1.0, 0.0, 1.0, 0.0, 0.0, 0.0, 0.0, 0.0, 0.0, 0.0, 0.0, 0.0, 0.0, 1.0, 1.0, 0.0, 0.0, 0.0, 1.0, 1.0, 0.0, 0.0, 0.0, 0.0, 0.0, 0.0, 0.0, 1.0, 0.0, 0.0, 0.0, 0.0, 0.0, 0.0, 0.0, 1.0, 1.0, 0.0, 0.0, 0.0, 0.0, 0.0, 0.0, 0.0, 0.0, 0.0, 1.0, 0.0, 0.0, 0.0, 1.0, 0.0, 0.0, 1.0, 0.0, 0.0, 0.0, 1.0, 0.0, 0.0, 0.0, 0.0, 0.0, 0.0, 0.0, 1.0, 1.0, 0.0, 1.0, 0.0, 1.0, 0.0, 0.0, 0.0, 1.0, 0.0, 0.0, 0.0, 0.0, 0.0, 0.0, 1.0, 1.0, 1.0, 0.0, 1.0, 1.0, 0.0, 1.0, 0.0, 0.0, 0.0, 0.0, 0.0, 1.0, 0.0, 0.0, 1.0, 0.0, 1.0, 0.0, 0.0, 0.0, 0.0, 0.0, 0.0, 1.0, 0.0, 0.0, 0.0, 0.0, 0.0, 0.0, 0.0, 0.0, 0.0, 0.0, 1.0, 0.0, 1.0, 0.0, 0.0, 0.0, 0.0, 0.0, 0.0, 0.0, 0.0, 0.0, 1.0, 0.0, 0.0, 0.0, 0.0, 0.0, 0.0, 0.0, 0.0, 0.0, 0.0, 0.0, 0.0, 0.0, 0.0, 0.0, 0.0, 0.0, 0.0, 0.0, 0.0, 0.0, 0.0, 0.0, 1.0, 0.0, 0.0, 0.0, 1.0, 1.0, 0.0, 0.0, 0.0, 0.0, 0.0, 1.0, 1.0, 1.0, 0.0, 0.0, 1.0, 1.0, 0.0, 0.0, 0.0, 0.0, 0.0, 0.0, 0.0, 1.0, 1.0, 1.0, 1.0, 0.0, 1.0, 1.0, 0.0, 0.0, 0.0, 0.0, 0.0, 0.0, 0.0, 0.0, 0.0, 1.0, 0.0, 0.0, 0.0, 1.0, 0.0, 1.0, 0.0, 0.0, 0.0, 0.0, 0.0, 0.0, 1.0, 0.0, 0.0, 1.0, 0.0, 0.0, 0.0, 0.0, 0.0, 0.0, 0.0, 0.0, 0.0, 0.0, 0.0, 0.0, 0.0, 0.0, 0.0, 0.0, 0.0, 1.0, 0.0, 0.0, 0.0, 1.0, 0.0, 0.0, 0.0, 0.0, 0.0, 0.0, 0.0, 0.0, 0.0, 0.0, 0.0, 0.0, 1.0, 0.0, 0.0, 1.0, 0.0, 0.0, 1.0, 0.0, 0.0, 0.0, 0.0, 1.0, 0.0, 0.0, 0.0, 0.0, 0.0, 0.0, 1.0, 0.0, 0.0, 0.0, 0.0, 0.0, 0.0, 1.0, 0.0, 1.0, 1.0, 0.0, 0.0, 0.0, 0.0, 0.0, 0.0, 1.0, 0.0, 0.0, 0.0, 0.0, 0.0, 1.0, 0.0, 1.0, 0.0, 0.0, 0.0, 0.0, 0.0, 0.0, 0.0, 1.0, 0.0, 0.0, 0.0, 0.0, 0.0, 0.0, 1.0, 1.0, 0.0, 0.0, 0.0, 0.0, 1.0, 0.0, 0.0, 0.0, 0.0, 1.0, 0.0, 1.0, 0.0, 0.0, 1.0, 0.0, 1.0, 0.0, 0.0, 0.0, 1.0, 0.0, 0.0, 0.0, 1.0, 0.0, 1.0, 1.0, 1.0, 0.0, 0.0, 0.0, 0.0, 1.0, 0.0, 1.0, 1.0, 1.0, 0.0, 0.0, 0.0, 0.0, 0.0, 0.0, 0.0, 1.0, 0.0, 0.0, 0.0, 0.0, 0.0, 0.0, 0.0, 0.0, 0.0, 0.0, 0.0, 1.0, 1.0, 0.0, 0.0, 0.0, 0.0, 0.0, 1.0, 0.0, 1.0, 0.0, 1.0, 1.0, 0.0, 0.0, 0.0, 0.0, 0.0, 0.0, 0.0, 0.0, 0.0, 0.0, 1.0, 0.0, 0.0, 0.0, 0.0, 0.0, 0.0, 0.0, 0.0, 0.0, 1.0, 0.0, 0.0, 0.0, 0.0, 0.0, 0.0, 0.0, 0.0, 1.0, 0.0, 0.0, 0.0, 0.0, 0.0, 0.0, 1.0, 0.0, 0.0, 0.0, 0.0, 1.0, 0.0, 0.0, 0.0, 0.0, 1.0, 0.0, 0.0, 0.0, 0.0, 0.0, 0.0, 1.0, 1.0, 0.0, 1.0, 0.0, 0.0, 0.0, 0.0, 0.0, 0.0, 0.0, 0.0, 0.0, 0.0, 0.0, 1.0, 0.0, 0.0, 1.0, 0.0, 0.0, 0.0, 0.0, 1.0, 0.0, 0.0, 1.0, 0.0, 1.0, 1.0, 1.0, 0.0, 0.0, 1.0, 0.0, 0.0, 1.0, 0.0, 0.0, 0.0, 1.0, 0.0, 0.0, 0.0, 0.0, 1.0, 0.0, 0.0, 1.0, 0.0, 1.0, 0.0, 1.0, 1.0, 1.0, 0.0, 1.0, 0.0, 0.0, 1.0, 1.0, 0.0, 0.0, 0.0, 1.0, 0.0]\n"
     ]
    }
   ],
   "source": [
    "print(predictions)\n",
    "print(list(test_df['label']))"
   ]
  },
  {
   "cell_type": "code",
   "execution_count": 297,
   "metadata": {},
   "outputs": [
    {
     "name": "stdout",
     "output_type": "stream",
     "text": [
      "0.553072625698324 0.8467153284671532 0.15328467153284672 0.44692737430167595\n",
      "99 464 84 80\n"
     ]
    },
    {
     "data": {
      "image/png": "[encoded data removed]",
      "text/plain": [
       "<Figure size 432x288 with 2 Axes>"
      ]
     },
     "metadata": {
      "needs_background": "light"
     },
     "output_type": "display_data"
    }
   ],
   "source": [
    "# confusion matrix\n",
    "tp = result['tp']\n",
    "tn = result['tn']\n",
    "fp = result['fp']\n",
    "fn = result['fn']\n",
    "total = tp+tn+fp+fn\n",
    "\n",
    "tp_rel = tp/(tp+fn)\n",
    "tn_rel = tn/(tn+fp)\n",
    "fp_rel = fp/(tn+fp)\n",
    "fn_rel = fn/(tp+fn)\n",
    "\n",
    "print(tp_rel, tn_rel, fp_rel, fn_rel)\n",
    "print(tp, tn, fp, fn)\n",
    "\n",
    "cm = np.array([[tn_rel, fp_rel], [fn_rel, tp_rel]])\n",
    "ax = sns.heatmap(cm, annot = True, cmap = \"viridis\")\n",
    "ax.set_ylim([0,2])\n",
    "plt.title(\"Relative confusion matrix for model test performance (%)\")\n",
    "plt.xlabel(\"Predicted label\")\n",
    "plt.ylabel(\"True label\")\n",
    "plt.show()"
   ]
  },
  {
   "cell_type": "code",
   "execution_count": 282,
   "metadata": {},
   "outputs": [
    {
     "name": "stdout",
     "output_type": "stream",
     "text": [
      "[[0.11531316 0.9131903 ]\n",
      " [0.04086306 0.98446892]\n",
      " [0.89366887 0.07977113]\n",
      " ...\n",
      " [0.04771877 0.96539155]\n",
      " [0.81056909 0.15690233]\n",
      " [0.0659528  0.96603231]]\n"
     ]
    },
    {
     "data": {
      "image/png": "[encoded data removed]",
      "text/plain": [
       "<Figure size 432x288 with 1 Axes>"
      ]
     },
     "metadata": {
      "needs_background": "light"
     },
     "output_type": "display_data"
    }
   ],
   "source": [
    "# TO DO: FINISH THIS\n",
    "# uncertainty of model (violinplot)\n",
    "print(1-probabilities)\n",
    "\n",
    "sns.violinplot(data = probabilities)\n",
    "plt.ylabel(\"Sigmoid of model output\")\n",
    "plt.xlabel(\"True label\")\n",
    "plt.show()"
   ]
  },
  {
   "cell_type": "code",
   "execution_count": 284,
   "metadata": {},
   "outputs": [
    {
     "name": "stdout",
     "output_type": "stream",
     "text": [
      "{'geslacht': 0.7258064516129032, 'stromen': 0.8969072164948454, 'gehandicapt': 0.92, 'laagopgeleid': 0.8333333333333334, 'ouders': 0.7073170731707317, 'stroom': 0.9789473684210527, 'anderstalig': 1.0, 'meisje': 0.6923076923076923, 'minderheden': 0.7272727272727273, 'traditie': 0.8333333333333334, 'blank': 1.0, 'afstromen': 0.6666666666666666, 'mankracht': 0.9473684210526315, 'armoede': 0.8260869565217391, 'seksueel': 0.9583333333333334, 'jongen': 0.25, 'transgender': 0.3076923076923077, 'racisme': 1.0, 'islam': 0.5, 'christen': 0.8571428571428571, 'kloof': 0.5, 'migranten': 0.5526315789473685, 'nieuwkomer': 0.6666666666666666, 'hetero': 0.8125, 'macht': 0.8888888888888888, 'arabisch': 0.75, 'juf': 0.5, 'slaaf': 1.0, 'privilege': 1.0, 'slavernijverleden': 1.0, 'opstromen': 1.0, 'slaven': 0.6666666666666666, 'homo': 1.0, 'inheems': 1.0, 'hoogopgeleid': 1.0, 'fobie': 0.5, 'hoofddoek': 1.0, 'joods': 0.6666666666666666, 'zittenblijven': 1.0, 'thuiszitter': 1.0, 'tussenpositie': 1.0, 'vluchtelingencrisis': 0.0}\n"
     ]
    },
    {
     "data": {
      "image/png": "[encoded data removed]",
      "text/plain": [
       "<Figure size 432x288 with 1 Axes>"
      ]
     },
     "metadata": {
      "needs_background": "light"
     },
     "output_type": "display_data"
    }
   ],
   "source": [
    "# kijken naar betrouwbaarheid per zoekwoord\n",
    "test_df_words['predicted'] = predictions\n",
    "\n",
    "dict_word_totals = {}\n",
    "dict_word_correct = {}\n",
    "dict_word_relative = {}\n",
    "\n",
    "dict_label_totals = {}\n",
    "dict_label_pos = {}\n",
    "dict_label_relative = {}\n",
    "\n",
    "for i in range(len(test_df_words)):\n",
    "    woord = test_df_words['word'].iloc[i]\n",
    "    label = test_df_words['label'].iloc[i]\n",
    "    if woord not in dict_word_totals:\n",
    "        dict_word_totals[woord] = 1\n",
    "        dict_word_relative[woord] = 0\n",
    "        dict_label_totals[woord] = 1\n",
    "        dict_label_relative[woord] = 0\n",
    "        \n",
    "        if test_df_words['predicted'].iloc[i] == test_df_words['label'].iloc[i]:\n",
    "            dict_word_correct[woord] = 1\n",
    "        else:\n",
    "            dict_word_correct[woord] = 0\n",
    "        \n",
    "        if label == 1:\n",
    "            dict_label_pos[woord] = 1\n",
    "        else:\n",
    "            dict_label_pos[woord] = 0\n",
    "            \n",
    "    else:\n",
    "        dict_word_totals[woord] += 1\n",
    "        dict_label_totals[woord] +=1\n",
    "        if test_df_words['predicted'].iloc[i] == test_df_words['label'].iloc[i]:\n",
    "            dict_word_correct[woord] += 1\n",
    "        if label == 1:\n",
    "            dict_label_pos[woord] += 1\n",
    "        \n",
    "    dict_word_relative[woord] = dict_word_correct[woord]/dict_word_totals[woord]\n",
    "    dict_label_relative[woord] = dict_label_pos[woord]/dict_label_totals[woord]\n",
    "            \n",
    "print(dict_word_relative)\n",
    "\n",
    "n=len(dict_word_relative)\n",
    "r = np.arange(n) \n",
    "width = 0.25\n",
    "\n",
    "plt.bar(dict_word_relative.keys(), dict_word_relative.values(), color = mycmap)\n",
    "#plt.bar(dict_label_relative.keys(), dict_label_relative.values(), color = 'blue')\n",
    "plt.xticks(rotation=90)\n",
    "plt.xlabel('Word')\n",
    "plt.ylabel('Frequency of correct predictions')\n",
    "plt.title('Correct predictions by model per word (%)')\n",
    "plt.show()\n",
    "\n",
    "# TODO: TOEVOEGEN HOE VEEL VAN DE WOORDEN EEN 1 ZIJN"
   ]
  },
  {
   "cell_type": "code",
   "execution_count": 253,
   "metadata": {},
   "outputs": [
    {
     "name": "stdout",
     "output_type": "stream",
     "text": [
      "{'geslacht': 0.7258064516129032, 'stromen': 0.8969072164948454, 'gehandicapt': 0.92, 'laagopgeleid': 0.8333333333333334, 'ouders': 0.7073170731707317, 'stroom': 0.9789473684210527, 'anderstalig': 1.0, 'meisje': 0.6923076923076923, 'minderheden': 0.7272727272727273, 'traditie': 0.8333333333333334, 'blank': 1.0, 'afstromen': 0.6666666666666666, 'mankracht': 0.9473684210526315, 'armoede': 0.8260869565217391, 'seksueel': 0.9583333333333334, 'jongen': 0.25, 'transgender': 0.3076923076923077, 'racisme': 1.0, 'islam': 0.5, 'christen': 0.8571428571428571, 'kloof': 0.5, 'migranten': 0.5526315789473685, 'nieuwkomer': 0.6666666666666666, 'hetero': 0.8125, 'macht': 0.8888888888888888, 'arabisch': 0.75, 'juf': 0.5, 'slaaf': 1.0, 'privilege': 1.0, 'slavernijverleden': 1.0, 'opstromen': 1.0, 'slaven': 0.6666666666666666, 'homo': 1.0, 'inheems': 1.0, 'hoogopgeleid': 1.0, 'fobie': 0.5, 'hoofddoek': 1.0, 'joods': 0.6666666666666666, 'zittenblijven': 1.0, 'thuiszitter': 1.0, 'tussenpositie': 1.0, 'vluchtelingencrisis': 0.0}\n",
      "{'geslacht': 0.22580645161290322, 'stromen': 0.1134020618556701, 'gehandicapt': 0.96, 'laagopgeleid': 1.0, 'ouders': 0.2682926829268293, 'stroom': 0.05263157894736842, 'anderstalig': 0.0, 'meisje': 0.9230769230769231, 'minderheden': 0.18181818181818182, 'traditie': 0.16666666666666666, 'blank': 0.0, 'afstromen': 0.5, 'mankracht': 1.0, 'armoede': 0.17391304347826086, 'seksueel': 0.0, 'jongen': 0.5, 'transgender': 0.46153846153846156, 'racisme': 0.16666666666666666, 'islam': 0.6, 'christen': 0.14285714285714285, 'kloof': 0.5, 'migranten': 0.42105263157894735, 'nieuwkomer': 0.3333333333333333, 'hetero': 0.1875, 'macht': 0.05555555555555555, 'arabisch': 0.25, 'juf': 0.0, 'slaaf': 0.0, 'privilege': 0.0, 'slavernijverleden': 0.0, 'opstromen': 1.0, 'slaven': 1.0, 'homo': 1.0, 'inheems': 0.0, 'hoogopgeleid': 1.0, 'fobie': 0.5, 'hoofddoek': 0.0, 'joods': 0.6666666666666666, 'zittenblijven': 1.0, 'thuiszitter': 1.0, 'tussenpositie': 0.0, 'vluchtelingencrisis': 1.0}\n"
     ]
    },
    {
     "data": {
      "image/png": "[encoded data removed]",
      "text/plain": [
       "<Figure size 432x288 with 1 Axes>"
      ]
     },
     "metadata": {
      "needs_background": "light"
     },
     "output_type": "display_data"
    }
   ],
   "source": [
    "# kijken naar betrouwbaarheid per categorie\n",
    "test_df_words['predicted'] = predictions\n",
    "\n",
    "dict_word_totals = {}\n",
    "dict_word_correct = {}\n",
    "dict_word_relative = {}\n",
    "\n",
    "dict_label_totals = {}\n",
    "dict_label_pos = {}\n",
    "dict_label_relative = {}\n",
    "\n",
    "for i in range(len(test_df_words)):\n",
    "    woord = test_df_words['word'].iloc[i]\n",
    "    label = test_df_words['label'].iloc[i]\n",
    "    if woord not in dict_word_totals:\n",
    "        dict_word_totals[woord] = 1\n",
    "        dict_word_relative[woord] = 0\n",
    "        dict_label_totals[woord] = 1\n",
    "        dict_label_relative[woord] = 0\n",
    "        \n",
    "        if test_df_words['predicted'].iloc[i] == test_df_words['label'].iloc[i]:\n",
    "            dict_word_correct[woord] = 1\n",
    "        else:\n",
    "            dict_word_correct[woord] = 0\n",
    "        \n",
    "        if label == 1:\n",
    "            dict_label_pos[woord] = 1\n",
    "        else:\n",
    "            dict_label_pos[woord] = 0\n",
    "            \n",
    "    else:\n",
    "        dict_word_totals[woord] += 1\n",
    "        dict_label_totals[woord] +=1\n",
    "        if test_df_words['predicted'].iloc[i] == test_df_words['label'].iloc[i]:\n",
    "            dict_word_correct[woord] += 1\n",
    "        if label == 1:\n",
    "            dict_label_pos[woord] += 1\n",
    "        \n",
    "    dict_word_relative[woord] = dict_word_correct[woord]/dict_word_totals[woord]\n",
    "    dict_label_relative[woord] = dict_label_pos[woord]/dict_label_totals[woord]\n",
    "            \n",
    "print(dict_word_relative)\n",
    "print(dict_label_relative)\n",
    "\n",
    "n=len(dict_word_relative)\n",
    "r = np.arange(n) \n",
    "width = 0.25\n",
    "\n",
    "plt.bar(dict_word_relative.keys(), dict_word_relative.values(), color = mycmap)\n",
    "#plt.bar(r+width, dict_label_relative.values(), color = 'blue')\n",
    "plt.xticks(rotation=90)\n",
    "plt.xlabel('Word')\n",
    "plt.ylabel('Frequency of correct predictions')\n",
    "plt.title('Correct predictions by model per word (%)')\n",
    "\n",
    "plt.show()\n",
    "\n",
    "# TODO: TOEVOEGEN HOE VEEL VAN DE WOORDEN EEN 1 ZIJN"
   ]
  },
  {
   "cell_type": "code",
   "execution_count": 22,
   "metadata": {},
   "outputs": [
    {
     "name": "stdout",
     "output_type": "stream",
     "text": [
      "{'input_ids': tensor([[    1,  1521, 15800,   117, 10031, 27707,   117,   131, 22482,   124,\n",
      "         13177, 20049, 11281, 29448, 28236, 27106, 10031, 18070, 29167, 26208,\n",
      "         17586, 29265,  8470, 20271, 25262,   115, 13912,   125,   131, 13644,\n",
      "         20125,   135,   126,   131,  8470, 10156, 28999,    13,     2]]), 'token_type_ids': tensor([[0, 0, 0, 0, 0, 0, 0, 0, 0, 0, 0, 0, 0, 0, 0, 0, 0, 0, 0, 0, 0, 0, 0, 0,\n",
      "         0, 0, 0, 0, 0, 0, 0, 0, 0, 0, 0, 0, 0, 0, 0]]), 'attention_mask': tensor([[1, 1, 1, 1, 1, 1, 1, 1, 1, 1, 1, 1, 1, 1, 1, 1, 1, 1, 1, 1, 1, 1, 1, 1,\n",
      "         1, 1, 1, 1, 1, 1, 1, 1, 1, 1, 1, 1, 1, 1, 1]])}\n"
     ]
    },
    {
     "ename": "TypeError",
     "evalue": "'ClassificationModel' object is not callable",
     "output_type": "error",
     "traceback": [
      "\u001b[0;31m---------------------------------------------------------------------------\u001b[0m",
      "\u001b[0;31mTypeError\u001b[0m                                 Traceback (most recent call last)",
      "\u001b[0;32m<ipython-input-22-498aef789a78>\u001b[0m in \u001b[0;36m<module>\u001b[0;34m\u001b[0m\n\u001b[1;32m     19\u001b[0m \u001b[0;34m\u001b[0m\u001b[0m\n\u001b[1;32m     20\u001b[0m \u001b[0mexplainer\u001b[0m \u001b[0;34m=\u001b[0m \u001b[0mLimeTextExplainer\u001b[0m\u001b[0;34m(\u001b[0m\u001b[0mclass_names\u001b[0m\u001b[0;34m=\u001b[0m\u001b[0mclass_names\u001b[0m\u001b[0;34m)\u001b[0m\u001b[0;34m\u001b[0m\u001b[0;34m\u001b[0m\u001b[0m\n\u001b[0;32m---> 21\u001b[0;31m \u001b[0mexp\u001b[0m \u001b[0;34m=\u001b[0m \u001b[0mexplainer\u001b[0m\u001b[0;34m.\u001b[0m\u001b[0mexplain_instance\u001b[0m\u001b[0;34m(\u001b[0m\u001b[0mtext\u001b[0m\u001b[0;34m,\u001b[0m \u001b[0mpredictor\u001b[0m\u001b[0;34m,\u001b[0m \u001b[0mnum_features\u001b[0m\u001b[0;34m=\u001b[0m\u001b[0;36m20\u001b[0m\u001b[0;34m,\u001b[0m \u001b[0mnum_samples\u001b[0m\u001b[0;34m=\u001b[0m\u001b[0;36m2000\u001b[0m\u001b[0;34m)\u001b[0m\u001b[0;34m\u001b[0m\u001b[0;34m\u001b[0m\u001b[0m\n\u001b[0m\u001b[1;32m     22\u001b[0m \u001b[0mexp\u001b[0m\u001b[0;34m.\u001b[0m\u001b[0mshow_in_notebook\u001b[0m\u001b[0;34m(\u001b[0m\u001b[0mtext\u001b[0m\u001b[0;34m=\u001b[0m\u001b[0mtext\u001b[0m\u001b[0;34m)\u001b[0m\u001b[0;34m\u001b[0m\u001b[0;34m\u001b[0m\u001b[0m\n",
      "\u001b[0;32m~/.local/lib/python3.7/site-packages/lime/lime_text.py\u001b[0m in \u001b[0;36mexplain_instance\u001b[0;34m(self, text_instance, classifier_fn, labels, top_labels, num_features, num_samples, distance_metric, model_regressor)\u001b[0m\n\u001b[1;32m    413\u001b[0m         data, yss, distances = self.__data_labels_distances(\n\u001b[1;32m    414\u001b[0m             \u001b[0mindexed_string\u001b[0m\u001b[0;34m,\u001b[0m \u001b[0mclassifier_fn\u001b[0m\u001b[0;34m,\u001b[0m \u001b[0mnum_samples\u001b[0m\u001b[0;34m,\u001b[0m\u001b[0;34m\u001b[0m\u001b[0;34m\u001b[0m\u001b[0m\n\u001b[0;32m--> 415\u001b[0;31m             distance_metric=distance_metric)\n\u001b[0m\u001b[1;32m    416\u001b[0m         \u001b[0;32mif\u001b[0m \u001b[0mself\u001b[0m\u001b[0;34m.\u001b[0m\u001b[0mclass_names\u001b[0m \u001b[0;32mis\u001b[0m \u001b[0;32mNone\u001b[0m\u001b[0;34m:\u001b[0m\u001b[0;34m\u001b[0m\u001b[0;34m\u001b[0m\u001b[0m\n\u001b[1;32m    417\u001b[0m             \u001b[0mself\u001b[0m\u001b[0;34m.\u001b[0m\u001b[0mclass_names\u001b[0m \u001b[0;34m=\u001b[0m \u001b[0;34m[\u001b[0m\u001b[0mstr\u001b[0m\u001b[0;34m(\u001b[0m\u001b[0mx\u001b[0m\u001b[0;34m)\u001b[0m \u001b[0;32mfor\u001b[0m \u001b[0mx\u001b[0m \u001b[0;32min\u001b[0m \u001b[0mrange\u001b[0m\u001b[0;34m(\u001b[0m\u001b[0myss\u001b[0m\u001b[0;34m[\u001b[0m\u001b[0;36m0\u001b[0m\u001b[0;34m]\u001b[0m\u001b[0;34m.\u001b[0m\u001b[0mshape\u001b[0m\u001b[0;34m[\u001b[0m\u001b[0;36m0\u001b[0m\u001b[0;34m]\u001b[0m\u001b[0;34m)\u001b[0m\u001b[0;34m]\u001b[0m\u001b[0;34m\u001b[0m\u001b[0;34m\u001b[0m\u001b[0m\n",
      "\u001b[0;32m~/.local/lib/python3.7/site-packages/lime/lime_text.py\u001b[0m in \u001b[0;36m__data_labels_distances\u001b[0;34m(self, indexed_string, classifier_fn, num_samples, distance_metric)\u001b[0m\n\u001b[1;32m    480\u001b[0m             \u001b[0mdata\u001b[0m\u001b[0;34m[\u001b[0m\u001b[0mi\u001b[0m\u001b[0;34m,\u001b[0m \u001b[0minactive\u001b[0m\u001b[0;34m]\u001b[0m \u001b[0;34m=\u001b[0m \u001b[0;36m0\u001b[0m\u001b[0;34m\u001b[0m\u001b[0;34m\u001b[0m\u001b[0m\n\u001b[1;32m    481\u001b[0m             \u001b[0minverse_data\u001b[0m\u001b[0;34m.\u001b[0m\u001b[0mappend\u001b[0m\u001b[0;34m(\u001b[0m\u001b[0mindexed_string\u001b[0m\u001b[0;34m.\u001b[0m\u001b[0minverse_removing\u001b[0m\u001b[0;34m(\u001b[0m\u001b[0minactive\u001b[0m\u001b[0;34m)\u001b[0m\u001b[0;34m)\u001b[0m\u001b[0;34m\u001b[0m\u001b[0;34m\u001b[0m\u001b[0m\n\u001b[0;32m--> 482\u001b[0;31m         \u001b[0mlabels\u001b[0m \u001b[0;34m=\u001b[0m \u001b[0mclassifier_fn\u001b[0m\u001b[0;34m(\u001b[0m\u001b[0minverse_data\u001b[0m\u001b[0;34m)\u001b[0m\u001b[0;34m\u001b[0m\u001b[0;34m\u001b[0m\u001b[0m\n\u001b[0m\u001b[1;32m    483\u001b[0m         \u001b[0mdistances\u001b[0m \u001b[0;34m=\u001b[0m \u001b[0mdistance_fn\u001b[0m\u001b[0;34m(\u001b[0m\u001b[0msp\u001b[0m\u001b[0;34m.\u001b[0m\u001b[0msparse\u001b[0m\u001b[0;34m.\u001b[0m\u001b[0mcsr_matrix\u001b[0m\u001b[0;34m(\u001b[0m\u001b[0mdata\u001b[0m\u001b[0;34m)\u001b[0m\u001b[0;34m)\u001b[0m\u001b[0;34m\u001b[0m\u001b[0;34m\u001b[0m\u001b[0m\n\u001b[1;32m    484\u001b[0m         \u001b[0;32mreturn\u001b[0m \u001b[0mdata\u001b[0m\u001b[0;34m,\u001b[0m \u001b[0mlabels\u001b[0m\u001b[0;34m,\u001b[0m \u001b[0mdistances\u001b[0m\u001b[0;34m\u001b[0m\u001b[0;34m\u001b[0m\u001b[0m\n",
      "\u001b[0;32m<ipython-input-22-498aef789a78>\u001b[0m in \u001b[0;36mpredictor\u001b[0;34m(texts)\u001b[0m\n\u001b[1;32m     10\u001b[0m \u001b[0;34m\u001b[0m\u001b[0m\n\u001b[1;32m     11\u001b[0m \u001b[0;32mdef\u001b[0m \u001b[0mpredictor\u001b[0m\u001b[0;34m(\u001b[0m\u001b[0mtexts\u001b[0m\u001b[0;34m)\u001b[0m\u001b[0;34m:\u001b[0m\u001b[0;34m\u001b[0m\u001b[0;34m\u001b[0m\u001b[0m\n\u001b[0;32m---> 12\u001b[0;31m     \u001b[0moutputs\u001b[0m \u001b[0;34m=\u001b[0m \u001b[0mmodel\u001b[0m\u001b[0;34m(\u001b[0m\u001b[0;34m**\u001b[0m\u001b[0mtokenizer\u001b[0m\u001b[0;34m(\u001b[0m\u001b[0mtexts\u001b[0m\u001b[0;34m,\u001b[0m \u001b[0mreturn_tensors\u001b[0m\u001b[0;34m=\u001b[0m\u001b[0;34m\"pt\"\u001b[0m\u001b[0;34m,\u001b[0m \u001b[0mpadding\u001b[0m\u001b[0;34m=\u001b[0m\u001b[0;32mTrue\u001b[0m\u001b[0;34m)\u001b[0m\u001b[0;34m)\u001b[0m\u001b[0;34m\u001b[0m\u001b[0;34m\u001b[0m\u001b[0m\n\u001b[0m\u001b[1;32m     13\u001b[0m     \u001b[0mtensor_logits\u001b[0m \u001b[0;34m=\u001b[0m \u001b[0moutputs\u001b[0m\u001b[0;34m[\u001b[0m\u001b[0;36m0\u001b[0m\u001b[0;34m]\u001b[0m\u001b[0;34m\u001b[0m\u001b[0;34m\u001b[0m\u001b[0m\n\u001b[1;32m     14\u001b[0m     \u001b[0mprobas\u001b[0m \u001b[0;34m=\u001b[0m \u001b[0mF\u001b[0m\u001b[0;34m.\u001b[0m\u001b[0msoftmax\u001b[0m\u001b[0;34m(\u001b[0m\u001b[0mtensor_logits\u001b[0m\u001b[0;34m)\u001b[0m\u001b[0;34m.\u001b[0m\u001b[0mdetach\u001b[0m\u001b[0;34m(\u001b[0m\u001b[0;34m)\u001b[0m\u001b[0;34m.\u001b[0m\u001b[0mnumpy\u001b[0m\u001b[0;34m(\u001b[0m\u001b[0;34m)\u001b[0m\u001b[0;34m\u001b[0m\u001b[0;34m\u001b[0m\u001b[0m\n",
      "\u001b[0;31mTypeError\u001b[0m: 'ClassificationModel' object is not callable"
     ]
    }
   ],
   "source": [
    "import numpy as np\n",
    "import lime\n",
    "import torch\n",
    "import torch.nn.functional as F\n",
    "from lime.lime_text import LimeTextExplainer\n",
    "\n",
    "from transformers import AutoTokenizer, AutoModelForSequenceClassification\n",
    "\n",
    "class_names = ['positive','negative']\n",
    "\n",
    "def predictor(texts):\n",
    "    outputs = model(**tokenizer(texts, return_tensors=\"pt\", padding=True))\n",
    "    tensor_logits = outputs[0]\n",
    "    probas = F.softmax(tensor_logits).detach().numpy()\n",
    "    return probas\n",
    "\n",
    "text = 'Building more bypasses will help the environment by reducing pollution and traffic jams in towns and cities.'\n",
    "print(tokenizer(text, return_tensors='pt', padding=True))\n",
    "\n",
    "explainer = LimeTextExplainer(class_names=class_names)\n",
    "exp = explainer.explain_instance(text, predictor, num_features=20, num_samples=2000)\n",
    "exp.show_in_notebook(text=text)"
   ]
  },
  {
   "cell_type": "code",
   "execution_count": null,
   "metadata": {},
   "outputs": [],
   "source": []
  },
  {
   "cell_type": "code",
   "execution_count": null,
   "metadata": {},
   "outputs": [],
   "source": []
  },
  {
   "cell_type": "code",
   "execution_count": null,
   "metadata": {},
   "outputs": [],
   "source": []
  },
  {
   "cell_type": "code",
   "execution_count": null,
   "metadata": {},
   "outputs": [],
   "source": [
    "# OUDE/ANDERE CODE"
   ]
  },
  {
   "cell_type": "code",
   "execution_count": null,
   "metadata": {},
   "outputs": [],
   "source": [
    "#dataset = dataset_zoek.drop(columns = ['Unnamed: 0', 'document', 'zin', 'label', 'score_annotator'])\n",
    "#dataset = dataset.rename(columns={\"totaalscore\": \"label\", 'text': 'text'})\n",
    "print(dataset.columns)\n",
    "\n",
    "\n",
    "X = list(dataset_zoek[\"text\"])\n",
    "y = list(dataset_zoek[\"totaalscore\"])\n",
    "X_train_val, X_test, y_train_val, y_test = train_test_split(X, y, test_size=0.2)\n",
    "X_train, X_val, y_train, y_val = train_test_split(X_train_val, y_train_val, test_size = 0.25)\n",
    "X_train_tokenized = tokenizer(X_train, padding=True, truncation=True, max_length=512)\n",
    "X_val_tokenized = tokenizer(X_val, padding=True, truncation=True, max_length=512)\n",
    "X_test_tokenized = tokenizer(X_test, padding=True, truncation=True, max_length=512)"
   ]
  },
  {
   "cell_type": "code",
   "execution_count": null,
   "metadata": {},
   "outputs": [],
   "source": [
    "#tokenized_train = tokenizer(dataset['train'][\"text\"], return_tensors=\"np\", padding=True)\n",
    "# Tokenizer returns a BatchEncoding, but we convert that to a dict for Keras\n",
    "#tokenized_data = dict(tokenized_train)\n",
    "                     \n",
    "#labels_train = np.array(dataset['train'][\"label\"])  # Label is already an array of 0 and 1)"
   ]
  },
  {
   "cell_type": "code",
   "execution_count": null,
   "metadata": {},
   "outputs": [],
   "source": [
    "# trainen\n",
    "# sla training_arguments op\n",
    "args = TrainingArguments(\n",
    "    output_dir=\"output\",\n",
    "    evaluation_strategy=\"steps\",\n",
    "    eval_steps=500,\n",
    "    per_device_train_batch_size=8,\n",
    "    per_device_eval_batch_size=8,\n",
    "    num_train_epochs=3,\n",
    "    seed=0,\n",
    "    load_best_model_at_end=True,\n",
    "    reprocess_input_data= True,\n",
    "    fp16=False,\n",
    "    overwrite_output_dir = True\n",
    ")\n",
    "\n",
    "metric = evaluate.load(\"accuracy\")\n",
    "\n",
    "def compute_metrics(p):\n",
    "    pred, labels = p\n",
    "    pred = np.argmax(pred, axis=1)\n",
    "\n",
    "    accuracy = accuracy_score(y_true=labels, y_pred=pred)\n",
    "    recall = recall_score(y_true=labels, y_pred=pred)\n",
    "    precision = precision_score(y_true=labels, y_pred=pred)\n",
    "    f1 = f1_score(y_true=labels, y_pred=pred)\n",
    "\n",
    "    return {\"accuracy\": accuracy, \"precision\": precision, \"recall\": recall, \"f1\": f1}\n",
    "\n",
    "training_args = TrainingArguments(output_dir=\"test_trainer\", evaluation_strategy=\"epoch\")"
   ]
  },
  {
   "cell_type": "code",
   "execution_count": null,
   "metadata": {},
   "outputs": [],
   "source": [
    "# train model!\n",
    "trainer = Trainer(\n",
    "    model=model,\n",
    "    args=args,\n",
    "    train_dataset=train,\n",
    "    eval_dataset=val,\n",
    "    compute_metrics=compute_metrics,\n",
    ")\n",
    "\n",
    "trainer.train()"
   ]
  },
  {
   "cell_type": "code",
   "execution_count": null,
   "metadata": {},
   "outputs": [],
   "source": [
    "def build_classifier_model():\n",
    "    text_input = tf.keras.layers.Input(shape=(), dtype=tf.string, name='text')\n",
    "    preprocessing_layer = hub.KerasLayer(tfhub_handle_preprocess, name='preprocessing')\n",
    "    encoder_inputs = preprocessing_layer(text_input)\n",
    "    encoder = hub.KerasLayer(tfhub_handle_encoder, trainable=True, name='BERT_encoder')\n",
    "    outputs = encoder(encoder_inputs)\n",
    "    net = outputs['pooled_output']\n",
    "    net = tf.keras.layers.Dropout(0.1)(net)\n",
    "    net = tf.keras.layers.Dense(1, activation=None, name='classifier')(net)\n",
    "    return tf.keras.Model(text_input, net)\n",
    "\n",
    "classifier_model = build_classifier_model()\n",
    "bert_raw_result = classifier_model(tf.constant(text_test))\n",
    "print(tf.sigmoid(bert_raw_result))"
   ]
  },
  {
   "cell_type": "code",
   "execution_count": null,
   "metadata": {},
   "outputs": [],
   "source": [
    "# maak dataset correcte format: [{'label': value, 'text': text}, {'label': value, 'text': text}]\n",
    "data = []\n",
    "\n",
    "for i in range(len(dataset_zoek)):\n",
    "    label = dataset_zoek['totaalscore'].iloc[i]\n",
    "    text = dataset_zoek['zin'].iloc[i]\n",
    "    tokenized_text = tokenizer(str(text), return_tensors=\"np\", padding=True)\n",
    "    duo = {'label': label, 'text': tokenized_text}\n",
    "    data.append(duo)\n",
    "    \n",
    "print(len(data))"
   ]
  },
  {
   "cell_type": "code",
   "execution_count": null,
   "metadata": {},
   "outputs": [],
   "source": [
    "# split dataset: 60% train, 20% val, 20% test\n",
    "trainval, test = train_test_split(data, train_size = 0.8)\n",
    "train, val = train_test_split(trainval, train_size = 0.75)\n",
    "\n",
    "print(len(train), len(val), len(test))"
   ]
  },
  {
   "cell_type": "code",
   "execution_count": null,
   "metadata": {},
   "outputs": [],
   "source": [
    "train_labels = []\n",
    "\n",
    "for item in train:\n",
    "    train_labels.append(item['label'])"
   ]
  },
  {
   "cell_type": "code",
   "execution_count": null,
   "metadata": {},
   "outputs": [],
   "source": []
  },
  {
   "cell_type": "code",
   "execution_count": null,
   "metadata": {},
   "outputs": [],
   "source": [
    "import numpy as np\n",
    "import pandas as pd\n",
    "from sklearn.model_selection import train_test_split\n",
    "from sklearn.metrics import accuracy_score, recall_score, precision_score, f1_score\n",
    "import torch\n",
    "from transformers import TrainingArguments, Trainer\n",
    "from transformers import BertTokenizer, BertForSequenceClassification\n",
    "from transformers import EarlyStoppingCallback\n",
    "\n",
    "# Read data\n",
    "dataset_zoek = pd.read_csv(dataset_path + 'dataset_dummy.csv', sep = ',') # model is te groot om te trainen met volledige dataset zonder GPU\n",
    "dataset = dataset_zoek.drop(columns = ['Unnamed: 0', 'document', 'zin', 'label', 'score_annotator'])\n",
    "dataset = dataset.rename(columns={\"totaalscore\": \"label\", 'text': 'text'})\n",
    "\n",
    "# Define pretrained tokenizer and model\n",
    "tokenizer = AutoTokenizer.from_pretrained(\"GroNLP/bert-base-dutch-cased\")\n",
    "model = AutoModel.from_pretrained(\"GroNLP/bert-base-dutch-cased\")  # PyTorch\n",
    "\n",
    "# ----- 1. Preprocess data -----#\n",
    "# Preprocess data\n",
    "X = list(dataset_zoek[\"text\"])\n",
    "y = list(dataset_zoek[\"totaalscore\"])\n",
    "X_train, X_val, y_train, y_val = train_test_split(X, y, test_size=0.2)\n",
    "X_train_tokenized = tokenizer(X_train, padding=True, truncation=True, max_length=512)\n",
    "X_val_tokenized = tokenizer(X_val, padding=True, truncation=True, max_length=512)\n",
    "\n"
   ]
  },
  {
   "cell_type": "code",
   "execution_count": null,
   "metadata": {},
   "outputs": [],
   "source": [
    "# Create torch dataset\n",
    "class Dataset(torch.utils.data.Dataset):\n",
    "    def __init__(self, encodings, labels=None):\n",
    "        self.encodings = encodings\n",
    "        self.labels = labels\n",
    "\n",
    "    def __getitem__(self, idx):\n",
    "        item = {key: torch.tensor(val[idx]) for key, val in self.encodings.items()}\n",
    "        if self.labels:\n",
    "            item[\"labels\"] = torch.tensor(self.labels[idx])\n",
    "        return item\n",
    "\n",
    "    def __len__(self):\n",
    "        return len(self.encodings[\"input_ids\"])\n",
    "\n",
    "train_dataset = Dataset(X_train_tokenized, y_train)\n",
    "val_dataset = Dataset(X_val_tokenized, y_val)\n",
    "\n",
    "# ----- 2. Fine-tune pretrained model -----#\n",
    "# Define Trainer parameters\n",
    "def compute_metrics(p):\n",
    "    pred, labels = p\n",
    "    pred = np.argmax(pred, axis=1)\n",
    "\n",
    "    accuracy = accuracy_score(y_true=labels, y_pred=pred)\n",
    "    recall = recall_score(y_true=labels, y_pred=pred)\n",
    "    precision = precision_score(y_true=labels, y_pred=pred)\n",
    "    f1 = f1_score(y_true=labels, y_pred=pred)\n",
    "\n",
    "    return {\"accuracy\": accuracy, \"precision\": precision, \"recall\": recall, \"f1\": f1}\n",
    "\n"
   ]
  },
  {
   "cell_type": "code",
   "execution_count": null,
   "metadata": {},
   "outputs": [],
   "source": [
    "# Define Trainer\n",
    "args = TrainingArguments(\n",
    "    output_dir=\"output\",\n",
    "    evaluation_strategy=\"steps\",\n",
    "    eval_steps=500,\n",
    "    per_device_train_batch_size=8,\n",
    "    per_device_eval_batch_size=8,\n",
    "    num_train_epochs=3,\n",
    "    seed=0,\n",
    "    load_best_model_at_end=True,\n",
    ")\n",
    "trainer = Trainer(\n",
    "    model=model,\n",
    "    args=args,\n",
    "    train_dataset=train_dataset,\n",
    "    eval_dataset=val_dataset,\n",
    "    compute_metrics=compute_metrics,\n",
    "    callbacks=[EarlyStoppingCallback(early_stopping_patience=3)],\n",
    ")\n",
    "\n",
    "# Train pre-trained model\n",
    "trainer.train()"
   ]
  },
  {
   "cell_type": "code",
   "execution_count": null,
   "metadata": {},
   "outputs": [],
   "source": [
    "# ----- 3. Predict -----#\n",
    "# Load test data\n",
    "test_data = pd.read_csv(\"test.csv\")\n",
    "X_test = list(test_data[\"review\"])\n",
    "X_test_tokenized = tokenizer(X_test, padding=True, truncation=True, max_length=512)\n",
    "\n",
    "# Create torch dataset\n",
    "test_dataset = Dataset(X_test_tokenized)\n",
    "\n",
    "# Load trained model\n",
    "model_path = \"output/checkpoint-50000\"\n",
    "model = BertForSequenceClassification.from_pretrained(model_path, num_labels=2)\n",
    "\n",
    "# Define test trainer\n",
    "test_trainer = Trainer(model)\n",
    "\n",
    "# Make prediction\n",
    "raw_pred, _, _ = test_trainer.predict(test_dataset)\n",
    "\n",
    "# Preprocess raw predictions\n",
    "y_pred = np.argmax(raw_pred, axis=1)"
   ]
  },
  {
   "cell_type": "code",
   "execution_count": null,
   "metadata": {},
   "outputs": [],
   "source": [
    "ds = Dataset.from_pandas(dataset)\n",
    "\n",
    "print(ds)\n",
    "\n",
    "# split dataset: 60% train, 20% val, 20% test\n",
    "train_testvalid = ds.train_test_split(test_size=0.4)\n",
    "# Split the 40% test + valid in half test, half valid\n",
    "test_valid = train_testvalid['test'].train_test_split(test_size=0.5)\n",
    "# gather everyone if you want to have a single DatasetDict\n",
    "ds = DatasetDict({\n",
    "    'train': train_testvalid['train'],\n",
    "    'test': test_valid['test'],\n",
    "    'valid': test_valid['train']})\n",
    "\n",
    "print(ds['train']['text'][100])"
   ]
  },
  {
   "cell_type": "code",
   "execution_count": null,
   "metadata": {},
   "outputs": [],
   "source": [
    "def forward(\n",
    "        self,\n",
    "        input_ids=None,\n",
    "        attention_mask=None,\n",
    "        token_type_ids=None,\n",
    "        position_ids=None,\n",
    "        head_mask=None,\n",
    "        inputs_embeds=None,\n",
    "        labels=None,\n",
    "        output_attentions=None,\n",
    "        output_hidden_states=True,\n",
    "        return_dict=True,\n",
    "        tokenizer=None, \n",
    "        topic=None, \n",
    "        freeze_bert = None, \n",
    "        num_feats=None, \n",
    "        keep_stopwords = None,\n",
    "        combined_feats = None, \n",
    "        sum_layers = None\n",
    "    ):\n",
    "        r\"\"\"\n",
    "        labels (`torch.LongTensor` of shape `(batch_size,)`, *optional*):\n",
    "            Labels for computing the sequence classification/regression loss. Indices should be in `[0, ...,\n",
    "            config.num_labels - 1]`. If `config.num_labels == 1` a regression loss is computed (Mean-Square loss), If\n",
    "            `config.num_labels > 1` a classification loss is computed (Cross-Entropy).\n",
    "        \"\"\"\n",
    "        return_dict = return_dict if return_dict is not None else self.config.use_return_dict\n",
    "\n",
    "        outputs = self.bert(\n",
    "            input_ids,\n",
    "            attention_mask=attention_mask,\n",
    "            token_type_ids=token_type_ids,\n",
    "            position_ids=position_ids,\n",
    "            head_mask=head_mask,\n",
    "            inputs_embeds=inputs_embeds,\n",
    "            output_attentions=output_attentions,\n",
    "            output_hidden_states=output_hidden_states,\n",
    "            return_dict=return_dict,\n",
    "        )\n",
    "\n",
    "       \n",
    "        combined_feats=aggregate_features(outputs, tokenizer, input_ids, topic, \n",
    "                                     num_feats, keep_stopwords, sum_layers).to(device)\n",
    "        combined_feats = self.dropout(combined_feats)\n",
    "        logits = self.classifier(combined_feats)\n",
    "\n",
    "        loss = None\n",
    "        if labels is not None:\n",
    "            if self.config.problem_type is None:\n",
    "                if self.num_labels == 1:\n",
    "                    self.config.problem_type = \"regression\"\n",
    "                elif self.num_labels > 1 and (labels.dtype == torch.long or labels.dtype == torch.int):\n",
    "                    self.config.problem_type = \"single_label_classification\"\n",
    "                else:\n",
    "                    self.config.problem_type = \"multi_label_classification\"\n",
    "\n",
    "            if self.config.problem_type == \"regression\":\n",
    "                loss_fct = MSELoss()\n",
    "                if self.num_labels == 1:\n",
    "                    loss = loss_fct(logits.squeeze(), labels.squeeze())\n",
    "                else:\n",
    "                    loss = loss_fct(logits, labels)\n",
    "            elif self.config.problem_type == \"single_label_classification\":\n",
    "                loss_fct = CrossEntropyLoss()\n",
    "                loss = loss_fct(logits.view(-1, self.num_labels), labels.view(-1))\n",
    "            elif self.config.problem_type == \"multi_label_classification\":\n",
    "                loss_fct = BCEWithLogitsLoss()\n",
    "                loss = loss_fct(logits, labels)\n",
    "        if not return_dict:\n",
    "            output = (logits,) + outputs[2:]\n",
    "            return ((loss,) + output) if loss is not None else output\n",
    "\n",
    "        return SequenceClassifierOutput(\n",
    "            loss=loss,\n",
    "            logits=logits,\n",
    "            hidden_states=outputs.hidden_states,\n",
    "            attentions=outputs.attentions,\n",
    "        )"
   ]
  },
  {
   "cell_type": "code",
   "execution_count": null,
   "metadata": {},
   "outputs": [],
   "source": []
  }
 ],
 "metadata": {
  "kernelspec": {
   "display_name": "DataLabDisc",
   "language": "python",
   "name": "datalabdisc"
  },
  "language_info": {
   "codemirror_mode": {
    "name": "ipython",
    "version": 3
   },
   "file_extension": ".py",
   "mimetype": "text/x-python",
   "name": "python",
   "nbconvert_exporter": "python",
   "pygments_lexer": "ipython3",
   "version": "3.7.4"
  }
 },
 "nbformat": 4,
 "nbformat_minor": 2
}
