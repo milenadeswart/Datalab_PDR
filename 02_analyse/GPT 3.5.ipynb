{
 "cells": [
  {
   "cell_type": "code",
   "execution_count": null,
   "id": "7097481b-dd08-41d3-b60f-b64cededd345",
   "metadata": {},
   "outputs": [],
   "source": [
    "### Deze code bevat het runnen van 2 GPT-modellen op de test set van DBDG.\n",
    "### This code runs the test set of DBDG on 2 GPT-models."
   ]
  },
  {
   "cell_type": "code",
   "execution_count": 27,
   "id": "05f270d4",
   "metadata": {},
   "outputs": [],
   "source": [
    "# importeer benodigde packages\n",
    "# import necessary packages\n",
    "from openai import OpenAI\n",
    "import openai\n",
    "\n",
    "import numpy as np\n",
    "import pandas as pd\n",
    "import matplotlib.pyplot as plt\n",
    "import matplotlib.colors\n",
    "from sklearn.model_selection import train_test_split\n",
    "from sklearn.model_selection import StratifiedShuffleSplit\n",
    "from sklearn.model_selection import GridSearchCV\n",
    "from sklearn.model_selection import cross_val_score\n",
    "from sklearn import metrics as metrics\n",
    "from scipy.special import expit\n",
    "import seaborn as sns\n",
    "from datasets.dataset_dict import DatasetDict\n",
    "from datasets import Dataset\n",
    "import torch\n",
    "import pyarrow\n",
    "from transformers import TrainingArguments, Trainer\n",
    "from transformers import AutoTokenizer, AutoModel, TFAutoModel\n",
    "from simpletransformers.classification import ClassificationModel\n",
    "from simpletransformers.classification import ClassificationArgs\n",
    "from tensorflow.keras.optimizers import Adam\n",
    "from sklearn.metrics import f1_score, accuracy_score\n",
    "import warnings\n",
    "warnings.filterwarnings('ignore')\n",
    "\n",
    "seed = 9"
   ]
  },
  {
   "cell_type": "code",
   "execution_count": 2,
   "id": "f769ccec",
   "metadata": {},
   "outputs": [],
   "source": [
    "# verbinden met OpenAI-account\n",
    "# connect to OpenAI account\n",
    "client = OpenAI(api_key='sk-proj-[]')\n",
    "# defaults to getting the key using os.environ.get(\"OPENAI_API_KEY\")\n",
    "# if you saved the key under a different environment variable name, you can do something like:\n",
    "# client = OpenAI(\n",
    "#   api_key=os.environ.get(\"CUSTOM_ENV_NAME\"),\n",
    "# )"
   ]
  },
  {
   "cell_type": "code",
   "execution_count": 4,
   "id": "b404a3b2",
   "metadata": {},
   "outputs": [
    {
     "name": "stdout",
     "output_type": "stream",
     "text": [
      "ChatCompletionMessage(content='Label: Bias\\n\\nReasoning: The sentence contains bias because it makes a sweeping generalization about Islam as a religion that \"controls every aspect of human existence.\" This phrasing implies an extreme, one-dimensional view of Islam that does not take into account the diversity of beliefs and practices within the religion or the varied interpretations held by its followers. Additionally, it suggests a stereotype that may perpetuate the idea that Islam is overly authoritarian or controlling, which can contribute to prejudice against Muslims as a group. This presentation reflects bias aimed at a specific religious group, which aligns with the criteria for classification as containing bias.', role='assistant', function_call=None, tool_calls=None)\n"
     ]
    }
   ],
   "source": [
    "# testen voorbeeld in het Engels\n",
    "# English translated example\n",
    "completion = client.chat.completions.create(\n",
    "  model=\"gpt-4o-mini\",\n",
    "  #model=\"gpt-3.5-turbo\",\n",
    "  messages=[\n",
    "    {\"role\": \"system\", \"content\": \"You are an expert in bias, stereotyping and discrimination. Your job is to classify sentences according to the following definition: a sentence is considered to contain bias when: the sentence contains bias, meaning a stereotype, exclusion, power imbalance or prejudice, either implicit or explicit AND that bias is is aimed against a specific group; OR the sentence contains a word that must be avoided according to the word list.\"},\n",
    "    {\"role\": \"user\", \"content\": \"Label the following sentence and explain your reasoning: the islam is an all-encompassing religion that controls every aspect of human existence.\"}\n",
    "  ]\n",
    ")\n",
    "\n",
    "print(completion.choices[0].message)"
   ]
  },
  {
   "cell_type": "code",
   "execution_count": 5,
   "id": "dbe34e62",
   "metadata": {},
   "outputs": [
    {
     "name": "stdout",
     "output_type": "stream",
     "text": [
      "blank en haelermans, die in het antwoord op vraag 39 uitgebreid zijn aangehaald, concluderen op basis van hun onderzoek naar trends in onderwijsbureau- cratie dat het niet aannemelijk is dat schaalvergroting heeft bijgedragen aan meer management (2008: p.\n",
      "met recht kunnen we spreken over illusies van fusies», concludeert hoogleraar jos blank.33 terwijl professionals in de publieke sector aan autonomie hebben ingeboet, zien wij bij sommige bedrijven juist het tegenovergestelde.\n",
      "met recht kunnen we spreken over illusies van fusies», concludeert hoogleraar jos blank.33 terwijl professionals in de publieke sector aan autonomie hebben ingeboet, zien wij bij sommige bedrijven juist het tegenovergestelde.\n",
      "niet-dossierstuk over de afgelopen twintig jaar wijst uit dat in het basisonderwijs het 2008–2009, 2009d31257. aantal managers vrij stabiel is gebleven (blank, j. en c.\n",
      "blank en haelermans, die in het antwoord op vraag 39 uitgebreid zijn aangehaald, concluderen op basis van hun onderzoek naar trends in onderwijsbureau- cratie dat het niet aannemelijk is dat schaalvergroting heeft bijgedragen aan meer management (2008: p.\n",
      "algemene achtergrondkenmerken volgens (blank & groot, 2011) zijn de grootste efficiency-voordelen te vinden bij een gemeentegrootte tussen de 17.000 en 65.000 inwoners.\n",
      "in het herindelingsontwerp verwijzen we bijvoorbeeld naar onderzoek van blank en de groot waaruit blijkt dat bij opschaling boven de 65.000 inwoners voor de inwoners van die gemeenten duurder is, zonder dat er schaalvoordelen tegenover staan.\n",
      "specifiek gekeken naar het aantal bedden concludeerden stevens en tulder (et al.) in 1995 dat een ziekenhuis met 200 tot 300 bedden het efficiëntst is.69 bart van hulst en jos blank concludeerden in 2017 dat de optimale schaal voor ziekenhuizen ongeveer 320 bedden is.\n",
      "73 bdo benchmark 2018. https://perspectieven.bdo.nl/benchmark-ziekenhuizen-2018 74 https://ziekenhuiszorgincijfers.nl/assets/uploads/nvz-brancherapport-2018.pdf 75 van hulst, b., & blank, j.\n",
      "gemotiveerde leerlingen vanuit het praktijkonderwijs met een positief advies opstromen binnen roc’s?\n",
      "bij opstromen van de basis- naar de kaderberoepsgerichte of van de kaderberoepsgerichte naar de gemengde leerweg kan een leerling dus probleemloos hetzelfde profiel houden.\n",
      "dit komt enerzijds doordat leerlingen steeds vaker opstromen naar een hoger niveau (vooral zichtbaar in de basisbe- roepsgerichte leerweg) en anderzijds door bevolkingsdaling in krimpge- bieden.\n",
      "4.4 na afronding van de associate degree de leden van de vvd-fractie vragen de regering of zij er zorg voor draagt dat afgestudeerden van een associate degree voldoende soepele keuzes kunnen maken richting een of meer hbo-bachelors om verder te kunnen opstromen.\n",
      "dit komt enerzijds doordat leerlingen steeds vaker opstromen naar een hoger niveau (vooral zichtbaar in de basisbe- roepsgerichte leerweg) en anderzijds door bevolkingsdaling in krimpge- bieden.\n",
      "4.4 na afronding van de associate degree de leden van de vvd-fractie vragen de regering of zij er zorg voor draagt dat afgestudeerden van een associate degree voldoende soepele keuzes kunnen maken richting een of meer hbo-bachelors om verder te kunnen opstromen.\n",
      "opstromen, diploma’s stapelen (van vmbo tot universiteit) en op latere leeftijd verder gaan of beginnen met een opleiding moet makkelijker worden.\n",
      "tezamen leidt dat tot een neutrale score, die ook wordt behaald bij leerlingen die niet opstromen en niet blijven zitten.\n",
      "gemotiveerde leerlingen vanuit het praktijkonderwijs met een positief advies opstromen binnen roc’s?\n",
      "deze mensen zijn nazaten van de slaven in de koloniën.\n",
      "slavernij en uitbuiting naar schatting 50 miljoen mensen22 ter wereld zijn «moderne slaven».\n",
      "de misdrijven uit het wetboek van strafrecht die als gevolg van de derde nota van wijziging extra onder de reikwijdte van de regeling komen te vallen zijn: enkele gemeengevaarlijke misdrijven met dodelijke afloop (artikelen 161, 161bis, 161sexies, 162, 162a, 172 en 173a sr), ambtsdwang en wederspannigheid met dodelijke afloop (artikelen 181 en 182 sr), enkele met oorlog of militaire dienst in verband staande misdrijven met dodelijke afloop (artikelen 175a en 206 sr), mensensmokkel met dodelijke afloop (artikel 197a sr), het toedienen van bedwelmende drank met dodelijke afloop (artikel 252 sr), het verlaten van hulpbehoevenden en te vondeling leggen met dodelijke afloop (artikel 257 sr), dienstdoen op een schip dat voor slavenhandel is bestemd met de dood van een of meer slaven als gevolg (artikel 275 sr), opzettelijke vrijheidsberoving met dodelijke afloop (artikel 282 sr), levensbeëindiging op verzoek, hulp bij zelfdoding en het afbreken van de zwangerschap (artikelen 293, 294 en 296 sr) en, ten slotte, zeeroof en luchtroof met dodelijke afloop (artikel 382 sr).\n",
      "moderne slavernij naar schatting 45,8 miljoen mensen1 ter wereld zijn «moderne slaven».\n",
      "veel van de werkmannen worden onder valse voorwendselen de boot op gelokt, jaren als slaven vastgehouden, krijgen amper te eten en worden mishandeld.24 verbeteringen aan deze situatie gaan zeer traag.\n",
      "slavernij en uitbuiting naar schatting 45,8 miljoen mensen23 ter wereld zijn «moderne slaven».\n",
      "deze mensen zijn nazaten van de slaven in de koloniën.\n",
      "deze duurzaamheidcriteria hebben zowel betrekking op milieu- aspecten als op sociale aspecten (bijvoorbeeld kinder- of slaven- arbeid).\n",
      "de afrikaanse slaven die worden verkocht aan eilandelijke huishoudingen krijgen ook nakomelingen.\n",
      "de leden van de cu-fractie vragen waarom er bij de huidige instroom van ontheemden uit oekraïne wel gebruik is gemaakt van het staatsnoodrecht, terwijl dat bij eerdere vluchtelingencrisis niet is gebeurd.\n",
      "dit budget is ingezet voor de vluchtelingencrisis in griekenland (special mediteranean initiative/unhcr), de nederlandse laborantenteams in de ebolacrisis en noodhulp aan dominica (inzet van het marineschip zs.\n",
      "dit budget is ingezet voor de vluchtelingencrisis in griekenland (special mediteranean initiative/unhcr), de nederlandse laborantenteams in de ebolacrisis en noodhulp aan dominica (inzet van het marineschip zs.\n",
      "de leden van de cu-fractie vragen waarom er bij de huidige instroom van ontheemden uit oekraïne wel gebruik is gemaakt van het staatsnoodrecht, terwijl dat bij eerdere vluchtelingencrisis niet is gebeurd.\n",
      "dit budget is ingezet voor de vluchtelingencrisis in griekenland (special mediteranean initiative/unhcr), de nederlandse laborantenteams in de ebolacrisis en noodhulp aan dominica (inzet van het marineschip zs.\n",
      "het betreft o.a. aanvullende uitgaven voor eu trustfonds colombia, het eu-regional trust fund (madad) gericht op de syrische vluchtelingencrisis, de bijdrage aan het imf capaciteitsopbouwprogramma in oekraïne en andere kiesgroeplanden aan de oostflank van europa en extra uitgaven bij de aanvullende artikel 100-brief toezegging access to justice and community security programme (ajacs).\n",
      "vluchtelingencrisis de opvang van asielzoekers heeft de afgelopen tijd veel gevraagd van overheden op europees, landelijk en lokaal niveau, maar ook van duizenden vrijwilligers.\n",
      "voor alle drie taakvelden geldt dat deze de afgelopen jaren sterk veranderd dan wel geïn- tensiveerd zijn door de toenemende migratiestroom, ( in het bijzonder de vluchtelingencrisis) de aanhoudend substan- tiële terroristische dreiging en de toenemende aandacht voor de bestrijding van mensensmokkel en mensenhandel.\n",
      "dat vereist optreden, zonder techno- fobie, zonder technofilie, en zonder taboes.\n",
      "zo heb ik echt een fobie voor post van uwv en/of gemeenten en ook het openen van de brievenbus geeft mij angsten.\n",
      "dat vereist optreden, zonder techno- fobie, zonder technofilie, en zonder taboes.\n",
      "zo heb ik echt een fobie voor post van uwv en/of gemeenten en ook het openen van de brievenbus geeft mij angsten.\n",
      "een functiestoornis is een langdurige of blijvende functiebeperking, zoals reuma en astma, en handicaps zoals slechthorendheid, maar ook een fobie, depressiviteit, adhd en dyslexie.\n",
      "denk bijvoorbeeld bij de opgestarte gecoördineerde aanpak vanuit de jeugdwet bij een thuiszitter.\n",
      "de leden van de pvda-fractie vragen of een thuiszitter wordt gekort als verschillende instanties al die tijd niet tot een oplossing hebben kunnen komen.\n",
      "denk bijvoorbeeld bij de opgestarte gecoördineerde aanpak vanuit de jeugdwet bij een thuiszitter.\n",
      "de leden van de pvda-fractie vragen of een thuiszitter wordt gekort als verschillende instanties al die tijd niet tot een oplossing hebben kunnen komen.\n",
      "het opleidingsniveau bepaalt het gewicht dat de school toekent aan een achterstandsleerling.\n",
      "het opleidingsniveau bepaalt het gewicht dat de school toekent aan een achterstandsleerling.\n",
      "niet zo lang geleden was in het nieuws dat de brabantse juf kiet waarschuwt dat meisjes nog jonger dan 12 van nederlandse basisscholen verdwijnen in de vakantie terwijl het bewustzijn hierover op scholen te weinig aanwezig is.10 11 uit mijn gesprekken met veilig thuis blijkt dat er, niet alleen ten aanzien van ontvoering en achterlating, maar überhaupt over eergerelateerd geweld en onderdrukking relatief weinig meldingen uit het onderwijs komen terwijl dit een zeer belangrijke plek is om verborgen problemen vroegtijdig te kunnen signaleren.\n",
      "2: «het nederlands huwelijksrecht discrimineert niet: als vrouw of man ben je in nederland, ongeacht je afkomst en religie, vrij om je liefdesleven zo in te richten als je wilt» 10 https://zoek.officielebekendmakingen.nl/kv-tk-2019z05556.html 11 en https://www.telegraaf.nl/nieuws/3320539/brabantse-juf-kiet-waarschuwt-meisjes-van-12- ontvoerd-en-uitgehuwelijkt 12 https://www.who.int/reproductivehealth/publications/eliminating-virginity-testing-interagency- statement/en/ 13 https://maagdenvliesherstel.nl 14 aanhangsel handelingen ii 2018/19, nr.\n",
      "sinds dit schooljaar worden kinderen nog maar op één criterium aangenomen op de middelbare school: het advies van de juf of meester.\n",
      "wat als het misgaat en de juf of meester veroorzaakt schade in de neusholte?\n",
      "dat is ook wat juf debbie in de initiatiefnota heel precies zegt.\n",
      "niet zo lang geleden was in het nieuws dat de brabantse juf kiet waarschuwt dat meisjes nog jonger dan 12 van nederlandse basisscholen verdwijnen in de vakantie terwijl het bewustzijn hierover op scholen te weinig aanwezig is.10 11 uit mijn gesprekken met veilig thuis blijkt dat er, niet alleen ten aanzien van ontvoering en achterlating, maar überhaupt over eergerelateerd geweld en onderdrukking relatief weinig meldingen uit het onderwijs komen terwijl dit een zeer belangrijke plek is om verborgen problemen vroegtijdig te kunnen signaleren.\n",
      "2: «het nederlands huwelijksrecht discrimineert niet: als vrouw of man ben je in nederland, ongeacht je afkomst en religie, vrij om je liefdesleven zo in te richten als je wilt» 10 https://zoek.officielebekendmakingen.nl/kv-tk-2019z05556.html 11 en https://www.telegraaf.nl/nieuws/3320539/brabantse-juf-kiet-waarschuwt-meisjes-van-12- ontvoerd-en-uitgehuwelijkt 12 https://www.who.int/reproductivehealth/publications/eliminating-virginity-testing-interagency- statement/en/ 13 https://maagdenvliesherstel.nl 14 aanhangsel handelingen ii 2018/19, nr.\n",
      "iedereen herinnert zich nog die ene juf of meester.\n",
      "sinds dit schooljaar worden kinderen nog maar op één criterium aangenomen op de middelbare school: het advies van de juf of meester.\n",
      "2 initiatiefnota in nederland bepaal jezelf op wie je verliefd wordt, met wie je naar bed gaat of en zo ja, met wie je trouwt en in welke volgorde je dat doet.\n",
      "anno 2016 is er nog een grote groep vrouwen die niet zelf kan bepalen op wie zij verliefd worden en met wie zij naar bed gaan.1 met de komst van mensen uit landen waar de positie van de vrouw eerder middeleeuws dan modern is, dreigt hun aantal toe te nemen.\n",
      "hun wordt het recht ontzegd om naar buiten te gaan, verliefd te worden, zelf te beslissen met wie ze naar bed gaan en wanneer, zelf te beslissen over het aangaan of laten voortduren van hun huwelijk.\n",
      "en verder is als onvoldoende gewichtige reden beoordeeld dat de partners veel steun aan elkaar hadden, erg verliefd waren, dat een huwelijk na een moeilijke tijd het gevoel zou geven dichter bij elkaar te staan, financiële redenen, of het feit dat de verzoekers er last van hadden dat zij als gevolg van hun minderjarigheid niet geheel zelfstandig rechtshandelingen konden verrichten.\n",
      "deze leden vragen of deze algemene opdracht voldoende structuur biedt voor samenwerking en afstemming ten aanzien van de verschillende specifieke facetten van de natuurbeschermingsregelgeving waaronder samen- werking en afstemming zoals instandhoudingsmaatregelen en populatie- beheer (inheems en uitheems).\n",
      "het feit dat een soort in groten getale in nederland aanwezig is, betekent overigens niet dat de soort daarmee als «inheems» moet worden beschouwd.\n",
      "ii tiny forests een tiny forest is een dichtbegroeid inheems bos ter grootte van een tennisbaan.\n",
      "de indieners stellen daarom het volgende voor: – ondersteun de uitbreiding van tiny forests in samenwerking met de vng en het ipo. – stel financiering beschikbaar om wetenschappelijk vervolgonderzoek te doen naar het effect van tiny forests op bestuivers, vlinders en andere insecten die nu met uitsterven bedreigd worden. – stel financiering beschikbaar om mensen op te leiden om hun tuin in te richten als een inheems bos. – verzoek aan de vng om gemeenten aan te sporen om geld beschik- baar te stellen voor het onttegelen van tuinen en het planten van inheemse gewassen. – stimuleer natuureducatie om kinderen het belang van inheemse gewassen bij te brengen.\n",
      "tiny forests – ondersteun de uitbreiding van tiny forests in samenwerking met de vng en het ipo. – stel financiering beschikbaar om wetenschappelijk vervolgonderzoek te doen naar het effect van tiny forests op bestuivers, vlinders en andere insecten die nu met uitsterven bedreigd worden. – stel financiering beschikbaar om mensen op te leiden om hun tuin in te richten als een inheems bos. – verzoek aan de vng om gemeenten aan te sporen om geld beschik- baar te stellen voor het onttegelen van tuinen en het planten van inheemse gewassen. – stimuleer natuureducatie om kinderen het belang van inheemse gewassen bij te brengen.\n",
      "de wet verbiedt het doden, het vangen en het verstoren van inheems beschermde dier- en plantensoorten, evenals het beschadigen, verstoren of vernielen van voortplantings-, verblijf- en rustplaatsen.\n",
      "in de structuur van het huidige en het nieuwe wetboek van strafvordering neemt de hulpofficier van justitie een tussenpositie in tussen andere opsporingsambtenaren en de officier van justitie.\n",
      "de nla verzoekt te bezien of het mogelijk is om de formuleringen in artikel 9b zodanig aan te passen dat er minimale ruimte geboden wordt voor een tussenpositie die noch onder het eerste lid, noch onder het tweede lid te scharen is, met inachtneming van de ruimte die de richtlijn zelf hiervoor biedt.\n",
      "het koninkrijk neemt in dit krachtenveld een tussenpositie in, gelet op enerzijds de belangen van de koopvaardijvloot en anderzijds de belangen van de grote havens en onder meer het feit dat het koninkrijk een kuststaat is gelegen aan een van de drukst bevaren scheepvaartroutes van de wereld.\n",
      "nederlandse orde van advocaten vierde protocol bij het evrm en de overwegingen die het ehrm in de zaak stamose heeft uitgesproken over de proportionaliteit van een dergelijke strafbaarstelling in dit verband wordt er op gewezen dat in de voormalige sovjet unie en andere landen van het oostblok dergelijke strafbaarstellingen inclusief het voorgestelde verlofstelsel uit 134b sr gemeengoed waren ten aanzien van reizen naar het onwelgevallige westen.\n"
     ]
    }
   ],
   "source": [
    "# data inladen\n",
    "# load data\n",
    "dataset_path = \"~/Projecten/programma-discriminatie-en-racisme/datasets/Datasets_2/\"\n",
    "\n",
    "test_df = pd.read_csv('test_df.csv')\n",
    "new_test_df = pd.read_csv('new_test_df.csv')\n",
    "\n",
    "for item in new_test_df['text']:\n",
    "    print(item)"
   ]
  },
  {
   "cell_type": "code",
   "execution_count": 6,
   "id": "d6cbb9a9",
   "metadata": {},
   "outputs": [
    {
     "name": "stdout",
     "output_type": "stream",
     "text": [
      "['0', '1', '0', '0', '0', '1', '0', '0', '0', '0', '0', '0', '1', '0', '1', '1', '1', '0', '0', '1', '0', '1', '1', '0', '1', '1', '1', '0', '1', '1', '0', '1', '1', '1', '0', '0', '1', '1', '0', '1', '0', '1', '0', '0', '1', '1', '1', '1', '1', '0', '1', '1', '0', '0', '0', '0', '1', '0', '0', '1', '0', '0', '0', '1', '0', '1', '1', '0', '0', '1', '1', '0', '0', '1', '1', '0', '1', '1', '1', '0', '0', '0', '0', '1', '0', '1', '0', '0', '0', '1', '0', '1', '0', '1', '1', '1', '0', '1', '0', '1', '0', '1', '1', '0', '1', '1', '1', '0', '0', '0', '1', '1', '0', '1', '1', '1', '1', '0', '1', '1', '1', '1', '1', '0', '0', '1', '1', '1', '1', '1', '1', '1', '1', '1', '1', '0', '1', '1', '0', '1', '0', '1', '0', '1', '0', '0', '0', '0', '0', '1', '0', '0', '1', '1', '1', '1', '0', '0', '1', '0', '1', '1', '0', '0', '1', '1', '0', '1 (biased)', '1', '0', '1', '1', '1', '1', '0', '1', '1', '1', '1', '0', '0', '0', '1', '0', '0', '1', '1', '0', '1', '1', '1', '1', '1', '0', '1', '0', '0', '1', '1', '1', '1', '1', '0', '0', '1', '0', '0', '0', '0', '1', '1', '0', '0', '0', '0', '1', '1', '0', '0', '1', '1', '0', '1', '0', '1', '0', '1', '0', '1', '1', '1', '0', '1', '1', '1', '1', '0', '0', '1', '1', '0', '1', '0', '1', '1', '1', '0', '0', '1', '1', '1', '1', '0', '1', '1', '1', '1', '0', '0', '1', '1', '1', '1', '0', '1', '0', '1', '1', '1', '1', '1', '1', '1', '0', '1', '1', '1', '1', '1', '0', '0', '1', '1', '1', '0', '1', '0', '1', '1', '1', '0', '0', '0', '1', '0', '1', '1', '1', '0', '1', '0', '1', '1', '1', '0', '0', '1', '1', '1', '0', '1', '1', '0', '1', '1', '0', '1', '0', '1', '1', '1', '0', '1', '1', '0', '0', '1', '0', '0', '0', '1', '0', '1', '0', '1', '1', '0', '0', '0', '1', '0', '1', '0', '0', '1', '1', '1', '0', '0', '1', '1', '1', '0', '0', '0', '1', '1', '1', '0', '1', '1', '1', '0', '0', '1', '1 (biased)', '1', '0', '1', '1', '0', '0', '0', '0', '1', '1', '0', '0', '0', '1', '1', '0', '1', '0', '0', '0', '0', '0', '1', '1', '0', '0', '0', '0', '1', '0', '0', '0', '0', '1', '1', '1', '1', '1', '1', '1', '0', '1', '1', '0', '1', '0', '1', '1', '1', '1', '1', '1', '1', '0', '0', '0', '0', '1', '0', '1', '0', '0', '1', '0', '1', '1', '1', '1', '1', '1', '1', '1', '1', '1', '0', '1', '1', '0', '1', '0', '1', '1', '1', '1', '1', '1', '1', '1', '1', '0', '1', '0', '1', '1', '1', '0', '1', '1', '1', '1', '1', '1', '1', '1', '1', '1', '0', '1', '0', '0', '1', '1', '1', '0', '1', '1', '0', '0', '0', '1', '0', '0', '1', '1', '1', '1', '0', '0', '1', '1', '1', '1', '0', '0', '0', '0', '1', '1', '1', '1', '1', '1', '0', '1', '1', '0', '1', '1', '0', '1', '1', '1', '0', '1', '1', '0', '0', '1', '1', '0', '0', '1', '1', '1', '1', '1', '1', '1', '1', '0', '1', '0', '0', '0', '0', '1', '1', '1', '0', '1', '1', '1', '1', '1', '1', '1', '1', '1', '1', '1', '1', '0', '0', '0', '0', '1', '1', '0', '0', '0', '0', '1', '0', '1', '1', '1', '1', '0', '1', '0', '1', '0', '1', '1', '1', '0', '1', '1', '1', '0', '0', '0', '0', '1', '1', '0', '1', '1', '1', '1', '1', '0', '1', '1', '1', '0', '0', '1', '1', 'De gegeven zin is 0 (niet-biased).', '0', '1', '1', '1', '0', '0', '0', '1', '0', '1', '0', '0', '0', '1', '0', '0', '1', '0', '1', '1', '0', '0', '0', '0', '0', '1', '0', '1', '1', '0', '1', '1', '1', '1', '0', '1', '0', '1', '1', '1', '1', '1', '0', '1', '0', '1', '0', '0', '0', '1', '1', '0', '1', '0', '1', '0', '1', '0', '1', '1', '1', '1', '0', '1', '1', '1', '1', '0', '0', '1', '1', '1', '1', '1', '1', '1', '1', '0', '1', '1', '1', '0', '1', '1', '1', '1', '0', '0', '0', '0', '1', '1', '1', '1', '1', '1', '0', '1', '1', '1', '1', '0', '1', '0', '1', '0', '0']\n"
     ]
    }
   ],
   "source": [
    "# loop om voorspellingen op te halen en sla ze op als lijst\n",
    "# loop to get predictions and save them in a list\n",
    "predictions = []\n",
    "\n",
    "for item in test_df['text']:\n",
    "    completion = client.chat.completions.create(\n",
    "      model=\"gpt-3.5-turbo\",\n",
    "      messages=[\n",
    "        {\"role\": \"system\", \"content\": \"Je bent een expert op het gebied van bias, stereotypering en discriminatie. Je taak is om zinnen te classificeren volgens de volgende definitie: een zin bevat bias als de zin een stereotype, uitsluiting, machtsverhoudingen of vooroordelen bevat, die impliciet of expliciet kunnen zijn, en die gaan over een af te bakenen groep personen, OF als een zin een woord bevat wat moet worden vermeden omdat het bias bevat.\"},\n",
    "        {\"role\": \"user\", \"content\": f\"Geef de volgende zin een label, antwoord alleen met 0 of 1. Geef de zin het label 0 voor niet-biased en 1 voor biased. De zin is: '{item}'\"}\n",
    "      ]\n",
    "    )\n",
    "    \n",
    "    answer = completion.choices[0].message.content\n",
    "    predictions.append(answer)\n",
    "    \n",
    "print(predictions)\n",
    "# predictions (4o) = ['0', '1', '0', '0', '0', '1', '0', '0', '0', '0', '0', '0', '1', '0', '1', '1', '1', '0', '0', '1', '0', '1', '1', '0', '1', '1', '1', '0', '1', '1', '0', '1', '1', '1', '0', '0', '1', '1', '0', '1', '0', '1', '0', '0', '1', '1', '1', '1', '1', '0', '1', '1', '0', '0', '0', '0', '1', '0', '0', '1', '0', '0', '0', '1', '0', '1', '1', '0', '0', '1', '1', '0', '0', '1', '1', '0', '1', '1', '1', '0', '0', '0', '0', '1', '0', '1', '0', '0', '0', '1', '0', '1', '0', '1', '1', '1', '0', '1', '0', '1', '0', '1', '1', '0', '1', '1', '1', '0', '0', '0', '1', '1', '0', '1', '1', '1', '1', '0', '1', '1', '1', '1', '1', '0', '0', '1', '1', '1', '1', '1', '1', '1', '1', '1', '1', '0', '1', '1', '0', '1', '0', '1', '0', '1', '0', '0', '0', '0', '0', '1', '0', '0', '1', '1', '1', '1', '0', '0', '1', '0', '1', '1', '0', '0', '1', '1', '0', '1', '1', '0', '1', '1', '1', '1', '0', '1', '1', '1', '1', '0', '0', '0', '1', '0', '0', '1', '1', '0', '1', '1', '1', '1', '1', '0', '1', '0', '0', '1', '1', '1', '1', '1', '0', '0', '1', '0', '0', '0', '0', '1', '1', '0', '0', '0', '0', '1', '1', '0', '0', '1', '1', '0', '1', '0', '1', '0', '1', '0', '1', '1', '1', '0', '1', '1', '1', '1', '0', '0', '1', '1', '0', '1', '0', '1', '1', '1', '0', '0', '1', '1', '1', '1', '0', '1', '1', '1', '1', '0', '0', '1', '1', '1', '1', '0', '1', '0', '1', '1', '1', '1', '1', '1', '1', '0', '1', '1', '1', '1', '1', '0', '0', '1', '1', '1', '0', '1', '0', '1', '1', '1', '0', '0', '0', '1', '0', '1', '1', '1', '0', '1', '0', '1', '1', '1', '0', '0', '1', '1', '1', '0', '1', '1', '0', '1', '1', '0', '1', '0', '1', '1', '1', '0', '1', '1', '0', '0', '1', '0', '0', '0', '1', '0', '1', '0', '1', '1', '0', '0', '0', '1', '0', '1', '0', '0', '1', '1', '1', '0', '0', '1', '1', '1', '0', '0', '0', '1', '1', '1', '0', '1', '1', '1', '0', '0', '1', '1', '1', '0', '1', '1', '0', '0', '0', '0', '1', '1', '0', '0', '0', '1', '1', '0', '1', '0', '0', '0', '0', '0', '1', '1', '0', '0', '0', '0', '1', '0', '0', '0', '0', '1', '1', '1', '1', '1', '1', '1', '0', '1', '1', '0', '1', '0', '1', '1', '1', '1', '1', '1', '1', '0', '0', '0', '0', '1', '0', '1', '0', '0', '1', '0', '1', '1', '1', '1', '1', '1', '1', '1', '1', '1', '0', '1', '1', '0', '1', '0', '1', '1', '1', '1', '1', '1', '1', '1', '1', '0', '1', '0', '1', '1', '1', '0', '1', '1', '1', '1', '1', '1', '1', '1', '1', '1', '0', '1', '0', '0', '1', '1', '1', '0', '1', '1', '0', '0', '0', '1', '0', '0', '1', '1', '1', '1', '0', '0', '1', '1', '1', '1', '0', '0', '0', '0', '1', '1', '1', '1', '1', '1', '0', '1', '1', '0', '1', '1', '0', '1', '1', '1', '0', '1', '1', '0', '0', '1', '1', '0', '0', '1', '1', '1', '1', '1', '1', '1', '1', '0', '1', '0', '0', '0', '0', '1', '1', '1', '0', '1', '1', '1', '1', '1', '1', '1', '1', '1', '1', '1', '1', '0', '0', '0', '0', '1', '1', '0', '0', '0', '0', '1', '0', '1', '1', '1', '1', '0', '1', '0', '1', '0', '1', '1', '1', '0', '1', '1', '1', '0', '0', '0', '0', '1', '1', '0', '1', '1', '1', '1', '1', '0', '1', '1', '1', '0', '0', '1', '1', '0', '0', '1', '1', '1', '0', '0', '0', '1', '0', '1', '0', '0', '0', '1', '0', '0', '1', '0', '1', '1', '0', '0', '0', '0', '0', '1', '0', '1', '1', '0', '1', '1', '1', '1', '0', '1', '0', '1', '1', '1', '1', '1', '0', '1', '0', '1', '0', '0', '0', '1', '1', '0', '1', '0', '1', '0', '1', '0', '1', '1', '1', '1', '0', '1', '1', '1', '1', '0', '0', '1', '1', '1', '1', '1', '1', '1', '1', '0', '1', '1', '1', '0', '1', '1', '1', '1', '0', '0', '0', '0', '1', '1', '1', '1', '1', '1', '0', '1', '1', '1', '1', '0', '1', '0', '1', '0', '0']\n",
    "# predictions (3.5) = ['0', '1', '1 ', '0', '0', '1', '0', '0', '0', '0', '0', '1', '1', '0', '1', '1', '1', '0', '1', '1', '0', '1', '1', '0', '1', '1', '1', '0', '1', '1', '0', '1', '1', '1', '0', '0', '0', '1', '0', '1', '0', '1', '0', '0', '0', '1', '1', '1', '1', '0', '1', '1', '0', '0', '1', '1', '1', '0', '0', '1', '0', '0', '0', '1', '0', '1', '1', '1', '0', '1', '1', '0', '0', '1', '1', '1', '0', '0', '1', '0', '0', '0', '0', '0', '0', '1', '1', '0', '0', '1', '0', '1', '0', '1', '1', '1', '0', '1', '1', '1', '0', '0', '1', '0', '1', '1', '0', '0', '0', '0', '1', '1', '0', '1', '1', '1', '1', '0', '1', '1', '1', '1', '1', '0', '0', '1', '1', '0', '1', '0', '1', '1', '1', '1', '1', '0', '1', '1', '0', '1', '0', '1', '0', '1', '0', '0', '0', '1', '1', '0', '0', '0', '1', '1', '1', '1', '0', '0', '1', '0', '1', '0', '0', '0', '1', '1', '0', '1', '1', '0', '1', '1', '1', '1', '0', '1', '1', '0', '1', '0', '0', '0', '0', '0', '0', '1', '1', '0', '1', '1', '1', '1', '1', '0', '1', '0', '1', '1', '1', '1', '1', '1', '0', '0', '1', '0', '0', '0', '0', '1', '1', '0', '0', '0', '0', '1', '1', '0', '0', '1', '1', '0', '1', '0', '1', '0', '1', '0', '1', '1', '1', '0', '1', '1', '1', '1', '0', '0', '1', '1', '0', '1', '0', '1', '1', '1', '0', '0', '1', '1', '1', '1', '0', '1', '1', '1', '1', '0', '0', '1', '1', '1', '1', '1', '1', '0', '1', '1', '1', '0', '0', '1', '1', '1', '1', '1', '1', '1', '1', '0', '0', '1', '1', '1', '0', '1', '0', '1', '1', '1', '0', '0', '1', '1', '0', '1', '1', '1', '0', '1', '0', '1', '1', '1', '0', '0', '1', '1', '1', '0', '1', '1', '0', '1', '1', '0', '1', '1', '1', '1', '1', '0', '1', '1', '0', '1', '1', '0', '0', '1', '1', '0', '1', '0', '1', '0', '0', '0', '0', '0', '0', '1', '0', '1', '0', '1', '1', '0', '1', '1', '1', '1', '0', '0', '0', '1', '1', '0', '0', '1', '1', '0', '0', '0', '1', '0', '1', '0', '1', '1', '0', '0', '1', '0', '1', '1', '0', '0', '0', '1', '1', '0', '1', '1', '0', '0', '0', '0', '1', '1', '1', '0', '1', '0', '1', '0', '0', '0', '0', '1', '1', '1', '1', '1', '1', '1', '1', '1', '1', '0', '1', '0', '1', '1', '1', '1', '1', '1', '1', '1', '0', '0', '0', '1', '1', '1', '0', '0', '1', '0', '1', '1', '1', '1', '1', '1', '1', '1', '1', '0', '1', '1', '1', '0', '1', '0', '1', '1', '1', '1', '1', '1', '1', '1', '1', '0', '1', '0', '0', '1', '0', '0', '1', '1', '1', '1', '1', '1', '1', '1', '1', '1', '0', '1', '0', '0', '1', '1', '1', '0', '1', '1', '0', '0', '0', '1', '0', '1', '1', '0', '1', '0', '0', '0', '1', '1', '1', '1', '0', '0', '0', '1', '1', '0', '0', '1', '1', '1', '0', '0', '1', '0', '1', '1', '1', '1', '1', '1', '0', '1', '1', '0', '0', '1', '1', '0', '0', '0', '1', '0', '0', '1', '1', '1', '1', '0', '0', '0', '0', '0', '0', '1', '1', '1', '0', '1', '1', '1', '1', '1', '1', '1', '1', '1', '1', '0', '1', '0', '0', '0', '0', '1', '1', '0', '1', '1', '0', '0', '0', '0', '1', '1', '1', '0', '1', '0', '1', '0', '1', '1', '1', '0', '1', '1', '1', '1', '0', '0', '0', '1', '1', '0', '1', '1', '1', '1', '1', '0', '1', '1', '1', '0', '0', '1', '1', '0', '1', '1', '1', '1', '0', '1', '0', '1', '0', '1', '0', '0', '0', '1', '0', '0', '1', '0', '1', '1', '0', '1', '0', '0', '0', '1', '0', '0', '1', '0', '1', '1', '1', '1', '0', '1', '0', '1', '1', '1', '1', '1', '0', '0', '0', '1', '0', '0', '0', '0', '1', '0', '1', '0', '1', '0', '1', '0', '0', '1', '0', '1', '0', '1', '1', '1', '1', '0', '0', '1', '1', '1', '1', '1', '1', '1', '1', '0', '1', '1', '1', '0', '1', '1', '1', '1', '1', '0', '0', '0', '1', '0', '1', '1', '1', '0', '0', '1', '1', '1', '1', '0', '1', '0', '1', '0', '0']"
   ]
  },
  {
   "cell_type": "code",
   "execution_count": 16,
   "id": "90f64b36",
   "metadata": {},
   "outputs": [],
   "source": [
    "# opslaan in correcte format\n",
    "# save in correct format\n",
    "#predictions = ['0', '1', '0', '0', '0', '1', '0', '0', '0', '0', '0', '0', '1', '0', '1', '1', '1', '0', '0', '1', '0', '1', '1', '0', '1', '1', '1', '0', '1', '1', '0', '1', '1', '1', '0', '0', '1', '1', '0', '1', '0', '1', '0', '0', '1', '1', '1', '1', '1', '0', '1', '1', '0', '0', '0', '0', '1', '0', '0', '1', '0', '0', '0', '1', '0', '1', '1', '0', '0', '1', '1', '0', '0', '1', '1', '0', '1', '1', '1', '0', '0', '0', '0', '1', '0', '1', '0', '0', '0', '1', '0', '1', '0', '1', '1', '1', '0', '1', '0', '1', '0', '1', '1', '0', '1', '1', '1', '0', '0', '0', '1', '1', '0', '1', '1', '1', '1', '0', '1', '1', '1', '1', '1', '0', '0', '1', '1', '1', '1', '1', '1', '1', '1', '1', '1', '0', '1', '1', '0', '1', '0', '1', '0', '1', '0', '0', '0', '0', '0', '1', '0', '0', '1', '1', '1', '1', '0', '0', '1', '0', '1', '1', '0', '0', '1', '1', '0', '1', '1', '0', '1', '1', '1', '1', '0', '1', '1', '1', '1', '0', '0', '0', '1', '0', '0', '1', '1', '0', '1', '1', '1', '1', '1', '0', '1', '0', '0', '1', '1', '1', '1', '1', '0', '0', '1', '0', '0', '0', '0', '1', '1', '0', '0', '0', '0', '1', '1', '0', '0', '1', '1', '0', '1', '0', '1', '0', '1', '0', '1', '1', '1', '0', '1', '1', '1', '1', '0', '0', '1', '1', '0', '1', '0', '1', '1', '1', '0', '0', '1', '1', '1', '1', '0', '1', '1', '1', '1', '0', '0', '1', '1', '1', '1', '0', '1', '0', '1', '1', '1', '1', '1', '1', '1', '0', '1', '1', '1', '1', '1', '0', '0', '1', '1', '1', '0', '1', '0', '1', '1', '1', '0', '0', '0', '1', '0', '1', '1', '1', '0', '1', '0', '1', '1', '1', '0', '0', '1', '1', '1', '0', '1', '1', '0', '1', '1', '0', '1', '0', '1', '1', '1', '0', '1', '1', '0', '0', '1', '0', '0', '0', '1', '0', '1', '0', '1', '1', '0', '0', '0', '1', '0', '1', '0', '0', '1', '1', '1', '0', '0', '1', '1', '1', '0', '0', '0', '1', '1', '1', '0', '1', '1', '1', '0', '0', '1', '1', '1', '0', '1', '1', '0', '0', '0', '0', '1', '1', '0', '0', '0', '1', '1', '0', '1', '0', '0', '0', '0', '0', '1', '1', '0', '0', '0', '0', '1', '0', '0', '0', '0', '1', '1', '1', '1', '1', '1', '1', '0', '1', '1', '0', '1', '0', '1', '1', '1', '1', '1', '1', '1', '0', '0', '0', '0', '1', '0', '1', '0', '0', '1', '0', '1', '1', '1', '1', '1', '1', '1', '1', '1', '1', '0', '1', '1', '0', '1', '0', '1', '1', '1', '1', '1', '1', '1', '1', '1', '0', '1', '0', '1', '1', '1', '0', '1', '1', '1', '1', '1', '1', '1', '1', '1', '1', '0', '1', '0', '0', '1', '1', '1', '0', '1', '1', '0', '0', '0', '1', '0', '0', '1', '1', '1', '1', '0', '0', '1', '1', '1', '1', '0', '0', '0', '0', '1', '1', '1', '1', '1', '1', '0', '1', '1', '0', '1', '1', '0', '1', '1', '1', '0', '1', '1', '0', '0', '1', '1', '0', '0', '1', '1', '1', '1', '1', '1', '1', '1', '0', '1', '0', '0', '0', '0', '1', '1', '1', '0', '1', '1', '1', '1', '1', '1', '1', '1', '1', '1', '1', '1', '0', '0', '0', '0', '1', '1', '0', '0', '0', '0', '1', '0', '1', '1', '1', '1', '0', '1', '0', '1', '0', '1', '1', '1', '0', '1', '1', '1', '0', '0', '0', '0', '1', '1', '0', '1', '1', '1', '1', '1', '0', '1', '1', '1', '0', '0', '1', '1', '0', '0', '1', '1', '1', '0', '0', '0', '1', '0', '1', '0', '0', '0', '1', '0', '0', '1', '0', '1', '1', '0', '0', '0', '0', '0', '1', '0', '1', '1', '0', '1', '1', '1', '1', '0', '1', '0', '1', '1', '1', '1', '1', '0', '1', '0', '1', '0', '0', '0', '1', '1', '0', '1', '0', '1', '0', '1', '0', '1', '1', '1', '1', '0', '1', '1', '1', '1', '0', '0', '1', '1', '1', '1', '1', '1', '1', '1', '0', '1', '1', '1', '0', '1', '1', '1', '1', '0', '0', '0', '0', '1', '1', '1', '1', '1', '1', '0', '1', '1', '1', '1', '0', '1', '0', '1', '0', '0']\n",
    "predictions_int = []\n",
    "\n",
    "for item in predictions:\n",
    "    predictions_int.append(int(item))\n",
    "    \n",
    "predictions = predictions_int"
   ]
  },
  {
   "cell_type": "code",
   "execution_count": 28,
   "id": "d2deee38",
   "metadata": {},
   "outputs": [
    {
     "name": "stdout",
     "output_type": "stream",
     "text": [
      "0.5503032263281313\n"
     ]
    }
   ],
   "source": [
    "# vinden f1-score\n",
    "# calculate f1 score\n",
    "def f1_multiclass(labels, preds):\n",
    "    return f1_score(labels, preds, average='macro')\n",
    "\n",
    "f1_old = f1_multiclass(list(test_df['label']), predictions)\n",
    "print(f1_old)\n",
    "\n",
    "# 0.5593280444187767\n",
    "# 4o: 0.5503032263281313"
   ]
  },
  {
   "cell_type": "code",
   "execution_count": 10,
   "id": "e1fbadfa",
   "metadata": {},
   "outputs": [
    {
     "name": "stdout",
     "output_type": "stream",
     "text": [
      "[0, 1, 1, 1, 0, 1, 1, 0, 0, 1, 1, 1, 1, 0, 1, 1, 0, 1, 1, 1, 0, 1, 1, 1, 1, 1, 1, 1, 1, 1, 1, 1, 1, 1, 1, 1, 1, 1, 1, 1, 1, 1, 1, 1, 1, 1, 1, 1, 1, 1, 0, 1, 1, 1, 1, 1, 1, 1, 1, 1, 0, 1, 0, 0, 0, 0, 0, 1, 0]\n"
     ]
    }
   ],
   "source": [
    "# herhaal voor ongeziene woorden\n",
    "# repeat for unseen words\n",
    "new_predictions = []\n",
    "\n",
    "for item in new_test_df['text']:\n",
    "    completion = client.chat.completions.create(\n",
    "      model=\"gpt-3.5-turbo\",\n",
    "      messages=[\n",
    "        {\"role\": \"system\", \"content\": \"Je bent een expert op het gebied van bias, stereotypering en discriminatie. Je taak is om zinnen te classificeren volgens de volgende definitie: een zin bevat bias als de zin een stereotype, uitsluiting, machtsverhoudingen of vooroordelen bevat, die impliciet of expliciet kunnen zijn, en die gaan over een af te bakenen groep personen, OF als een zin een woord bevat wat moet worden vermeden omdat het bias bevat.\"},\n",
    "        {\"role\": \"user\", \"content\": f\"Geef de volgende zin een label, antwoord alleen met 0 of 1. Geef de zin het label 0 voor niet-biased en 1 voor biased. De zin is: '{item}'\"}\n",
    "      ]\n",
    "    )\n",
    "    \n",
    "    answer = completion.choices[0].message.content\n",
    "    new_predictions.append(int(answer))\n",
    "    \n",
    "print(new_predictions)\n",
    "# new_predictions (4o) = [0, 1, 1, 1, 0, 1, 1, 0, 0, 1, 1, 1, 1, 0, 1, 1, 0, 1, 1, 1, 0, 1, 1, 1, 1, 1, 1, 1, 1, 1, 1, 1, 1, 1, 1, 1, 1, 1, 1, 1, 1, 1, 1, 1, 1, 1, 1, 1, 1, 1, 0, 1, 1, 1, 1, 1, 1, 1, 1, 1, 0, 1, 0, 0, 0, 0, 0, 1, 0]\n",
    "# new_predictions (3.5) = ['0', '1', '1', '1', '1', '1', '1', '0', '0', '1', '1', '0', '1', '0', '1', '1', '0', '1', '1', '1', '0', '1', '1', '1', '1', '1', '1', '1', '1', '1', '1', '1', '1', '1', '1', '0', '1', '1', '1', '1', '1', '1', '1', '1', '1', '1', '1', '1', '1', '1', '0', '1', '1', '1', '1', '1', '1', '1', '1', '1', '0', '0', '0', '0', '0', '1', '0', '1', '0']"
   ]
  },
  {
   "cell_type": "code",
   "execution_count": 24,
   "id": "eec9ff2a",
   "metadata": {},
   "outputs": [
    {
     "name": "stdout",
     "output_type": "stream",
     "text": [
      "[0, 0, 0, 0, 0, 0, 0, 0, 0, 1, 1, 1, 1, 1, 1, 1, 1, 0, 1, 1, 1, 1, 1, 1, 1, 1, 1, 0, 1, 1, 1, 1, 1, 1, 1, 0, 0, 0, 0, 1, 1, 1, 1, 1, 1, 1, 0, 0, 1, 1, 0, 1, 1, 1, 1, 1, 1, 1, 0, 0, 0, 0, 0, 0, 0, 0, 0, 0, 1]\n"
     ]
    }
   ],
   "source": [
    "# omzetten naar integers\n",
    "# change to integers\n",
    "new_predictions = ['0', '1', '1', '1', '0', '1', '1', '0', '0', '1', '1', '1', '1', '0', '1', '1', '0', '1', '1', '1', '0', '1', '1', '1', '1', '1', '1', '1', '1', '1', '1', '1', '1', '1', '1', '1', '1', '1', '1', '1', '1', '1', '1', '1', '1', '1', '1', '1', '1', '1', '0', '1', '1', '1', '1', '1', '1', '1', '1', '1', '0', '1', '0', '0', '0', '0', '0', '1', '0']\n",
    "\n",
    "new_predictions_int = []\n",
    "\n",
    "for item in new_predictions:\n",
    "    new_predictions_int.append(int(item))\n",
    "    \n",
    "new_predictions = new_predictions_int\n",
    "\n",
    "\n",
    "labels_int = []\n",
    "\n",
    "for item in list(new_test_df['label']):\n",
    "    labels_int.append(int(item))\n",
    "    \n",
    "print(labels_int)"
   ]
  },
  {
   "cell_type": "code",
   "execution_count": 29,
   "id": "6bcbe928",
   "metadata": {},
   "outputs": [
    {
     "name": "stdout",
     "output_type": "stream",
     "text": [
      "0.6452876376988983\n"
     ]
    }
   ],
   "source": [
    "# f1 berekenen\n",
    "# calculate f1\n",
    "def f1_multiclass(labels, preds):\n",
    "    return f1_score(labels, preds, average='macro')\n",
    "\n",
    "f1_new = f1_multiclass(labels_int, new_predictions)\n",
    "print(f1_new)\n",
    "\n",
    "# 0.6329787234042553\n",
    "# 4o: 0.6452876376988983"
   ]
  },
  {
   "cell_type": "code",
   "execution_count": null,
   "id": "3057b53e",
   "metadata": {},
   "outputs": [],
   "source": [
    "# kijken naar betrouwbaarheid per zoekwoord\n",
    "# look at accuracy per search word\n",
    "test_df_words['predicted'] = predictions\n",
    "\n",
    "dict_word_totals = {}\n",
    "dict_word_correct = {}\n",
    "dict_word_relative = {}\n",
    "\n",
    "dict_label_totals = {}\n",
    "dict_label_pos = {}\n",
    "dict_label_relative = {}\n",
    "\n",
    "for i in range(len(test_df_words)):\n",
    "    woord = test_df_words['word'].iloc[i]\n",
    "    label = test_df_words['label'].iloc[i]\n",
    "    if woord not in dict_word_totals:\n",
    "        dict_word_totals[woord] = 1\n",
    "        dict_word_relative[woord] = 0\n",
    "        dict_label_totals[woord] = 1\n",
    "        dict_label_relative[woord] = 0\n",
    "        \n",
    "        if test_df_words['predicted'].iloc[i] == test_df_words['label'].iloc[i]:\n",
    "            dict_word_correct[woord] = 1\n",
    "        else:\n",
    "            dict_word_correct[woord] = 0\n",
    "        \n",
    "        if label == 1:\n",
    "            dict_label_pos[woord] = 1\n",
    "        else:\n",
    "            dict_label_pos[woord] = 0\n",
    "            \n",
    "    else:\n",
    "        dict_word_totals[woord] += 1\n",
    "        dict_label_totals[woord] +=1\n",
    "        if test_df_words['predicted'].iloc[i] == test_df_words['label'].iloc[i]:\n",
    "            dict_word_correct[woord] += 1\n",
    "        if label == 1:\n",
    "            dict_label_pos[woord] += 1\n",
    "        \n",
    "    dict_word_relative[woord] = dict_word_correct[woord]/dict_word_totals[woord]\n",
    "    dict_label_relative[woord] = dict_label_pos[woord]/dict_label_totals[woord]\n",
    "            \n",
    "print(dict_word_relative)\n",
    "\n",
    "n=len(dict_word_relative)\n",
    "r = np.arange(n) \n",
    "width = 0.25\n",
    "\n",
    "plt.bar(dict_word_relative.keys(), dict_word_relative.values(), color = 'blue')\n",
    "#plt.bar(dict_label_relative.keys(), dict_label_relative.values(), color = 'blue')\n",
    "plt.xticks(rotation=90)\n",
    "plt.xlabel('Word')\n",
    "plt.ylabel('Frequency of correct predictions')\n",
    "plt.title('Correct predictions by model per word (%)')\n",
    "plt.show()"
   ]
  },
  {
   "cell_type": "code",
   "execution_count": null,
   "id": "98590682",
   "metadata": {},
   "outputs": [],
   "source": [
    "# repeat for unseen words\n",
    "# herhalen voor ongeziene woorden\n",
    "new_test_df['predicted'] = new_predictions\n",
    "\n",
    "dict_word_totals = {}\n",
    "dict_word_correct = {}\n",
    "dict_word_relative = {}\n",
    "\n",
    "dict_label_totals = {}\n",
    "dict_label_pos = {}\n",
    "dict_label_relative = {}\n",
    "\n",
    "for i in range(len(new_words_data)):\n",
    "    woord = new_words_data['word'].iloc[i]\n",
    "    label = new_words_data['label'].iloc[i]\n",
    "    if woord not in dict_word_totals:\n",
    "        dict_word_totals[woord] = 1\n",
    "        dict_word_relative[woord] = 0\n",
    "        dict_label_totals[woord] = 1\n",
    "        dict_label_relative[woord] = 0\n",
    "        \n",
    "        if new_test_df['predicted'].iloc[i] == new_test_df['label'].iloc[i]:\n",
    "            dict_word_correct[woord] = 1\n",
    "        else:\n",
    "            dict_word_correct[woord] = 0\n",
    "        \n",
    "        if label == 1:\n",
    "            dict_label_pos[woord] = 1\n",
    "        else:\n",
    "            dict_label_pos[woord] = 0\n",
    "            \n",
    "    else:\n",
    "        dict_word_totals[woord] += 1\n",
    "        dict_label_totals[woord] +=1\n",
    "        if new_test_df['predicted'].iloc[i] == new_test_df['label'].iloc[i]:\n",
    "            dict_word_correct[woord] += 1\n",
    "        if label == 1:\n",
    "            dict_label_pos[woord] += 1\n",
    "        \n",
    "    dict_word_relative[woord] = dict_word_correct[woord]/dict_word_totals[woord]\n",
    "    dict_label_relative[woord] = dict_label_pos[woord]/dict_label_totals[woord]\n",
    "            \n",
    "print(dict_word_relative)\n",
    "print(dict_label_relative)\n",
    "\n",
    "n=len(dict_word_relative)\n",
    "r = np.arange(n) \n",
    "width = 0.25\n",
    "\n",
    "plt.bar(dict_label_relative.keys(), dict_label_relative.values(), color = 'blue')\n",
    "#plt.bar(r+width, dict_label_relative.values(), color = 'blue')\n",
    "plt.xticks(rotation=90)\n",
    "plt.xlabel('Word')\n",
    "plt.ylabel('Frequency of correct predictions')\n",
    "plt.title('Correct predictions by model per unseen word (%)')\n",
    "\n",
    "plt.show()"
   ]
  },
  {
   "cell_type": "code",
   "execution_count": null,
   "id": "63f87ecb",
   "metadata": {},
   "outputs": [],
   "source": []
  },
  {
   "cell_type": "code",
   "execution_count": null,
   "id": "4a78d297",
   "metadata": {},
   "outputs": [],
   "source": []
  },
  {
   "cell_type": "code",
   "execution_count": 49,
   "id": "de45be56",
   "metadata": {},
   "outputs": [],
   "source": []
  },
  {
   "cell_type": "code",
   "execution_count": 52,
   "id": "a735d5a3",
   "metadata": {},
   "outputs": [],
   "source": []
  },
  {
   "cell_type": "code",
   "execution_count": 60,
   "id": "e52d822e",
   "metadata": {},
   "outputs": [
    {
     "name": "stdout",
     "output_type": "stream",
     "text": [
      "/bin/bash: openai: command not found\r\n"
     ]
    }
   ],
   "source": []
  },
  {
   "cell_type": "code",
   "execution_count": 54,
   "id": "7062fbf3",
   "metadata": {},
   "outputs": [
    {
     "name": "stdout",
     "output_type": "stream",
     "text": [
      "WARNING: pip is being invoked by an old script wrapper. This will fail in a future version of pip.\n",
      "Please see https://github.com/pypa/pip/issues/5599 for advice on fixing the underlying issue.\n",
      "To avoid this problem you can invoke Python with '-m pip' instead of running pip directly.\n",
      "Name: openai\n",
      "Version: 1.34.0\n",
      "Summary: The official Python library for the openai API\n",
      "Home-page: \n",
      "Author: \n",
      "Author-email: OpenAI <support@openai.com>\n",
      "License: \n",
      "Location: /data/milenadeswart/.local/lib/python3.7/site-packages\n",
      "Requires: anyio, cached-property, distro, httpx, pydantic, sniffio, tqdm, typing-extensions\n",
      "Required-by: \n",
      "/bin/bash: openai: command not found\n"
     ]
    }
   ],
   "source": []
  }
 ],
 "metadata": {
  "kernelspec": {
   "display_name": "Python 3 (ipykernel)",
   "language": "python",
   "name": "python3"
  },
  "language_info": {
   "codemirror_mode": {
    "name": "ipython",
    "version": 3
   },
   "file_extension": ".py",
   "mimetype": "text/x-python",
   "name": "python",
   "nbconvert_exporter": "python",
   "pygments_lexer": "ipython3",
   "version": "3.11.7"
  }
 },
 "nbformat": 4,
 "nbformat_minor": 5
}
